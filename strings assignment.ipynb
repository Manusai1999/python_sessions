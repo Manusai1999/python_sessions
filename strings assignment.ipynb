{
 "cells": [
  {
   "cell_type": "markdown",
   "id": "3226c373",
   "metadata": {},
   "source": [
    "1. Write a program that asks the user to enter a string. The program should then print the following:\n",
    "(a) The total number of characters in the string\n",
    "(b) The string repeated 10 times\n",
    "(c) The first character of the string (remember that string indices start at 0) \n",
    "(d) The first three characters of the string\n",
    "(e) The last three characters of the string\n",
    "(f) The string backwards\n",
    "(g) The seventh character of the string if the string is long enough and a message otherwise\n",
    "(h) The string with its first and last characters removed\n",
    "(i) The string in all caps\n",
    "(j) The string with every a replaced with an e"
   ]
  },
  {
   "cell_type": "code",
   "execution_count": 3,
   "id": "2c8adc0d",
   "metadata": {},
   "outputs": [
    {
     "name": "stdout",
     "output_type": "stream",
     "text": [
      "Enter the string: hadksjd\n",
      "Number of characters in the string:  7\n",
      "hadksjd hadksjd hadksjd hadksjd hadksjd hadksjd hadksjd hadksjd hadksjd hadksjd \n",
      "h\n",
      "had\n",
      "sjd\n",
      "djskdah\n",
      "d\n",
      "adksj\n",
      "HADKSJD\n",
      "hedksjd\n"
     ]
    }
   ],
   "source": [
    "str1=input(\"Enter the string: \")\n",
    "print(\"Number of characters in the string: \",len(str1))\n",
    "print(10*(str1+' '))\n",
    "print(str1[0])\n",
    "print(str1[:3])\n",
    "print(str1[-3:])\n",
    "print(str1[::-1])\n",
    "if len(str1)>6:\n",
    "    print(str1[6])\n",
    "else:\n",
    "    print(\"Length of the string is not enough\")\n",
    "print(str1[1:-1])\n",
    "print(str1.upper())\n",
    "print(str1.replace('a','e'))"
   ]
  },
  {
   "cell_type": "markdown",
   "id": "f555f4fe",
   "metadata": {},
   "source": [
    "2. A simple way to estimate the number of words in a string is to count the number of spaces in the string. Write a program that asks the user for a string and returns an estimate of how many words are in the string. Tip: You need to count the number of words using spaces"
   ]
  },
  {
   "cell_type": "code",
   "execution_count": 39,
   "id": "089e8b7c",
   "metadata": {},
   "outputs": [
    {
     "name": "stdout",
     "output_type": "stream",
     "text": [
      "Enter the string: hhh hjjj jjjj \n",
      "Number of words: 3\n"
     ]
    }
   ],
   "source": [
    "str1=input(\"Enter the string: \")\n",
    "count=0\n",
    "for i in str1:\n",
    "    if i==' ':\n",
    "        count=count+1\n",
    "if str1[-1]==' ':\n",
    "    count=count-1\n",
    "print(\"Number of words:\",count+1)"
   ]
  },
  {
   "cell_type": "markdown",
   "id": "ce8c647f",
   "metadata": {},
   "source": [
    "3.Write a program that asks the user to enter a word and prints out whether that word contains any\n",
    "vowels."
   ]
  },
  {
   "cell_type": "code",
   "execution_count": 41,
   "id": "4fb61ec7",
   "metadata": {},
   "outputs": [
    {
     "name": "stdout",
     "output_type": "stream",
     "text": [
      "Enter the string: aeu\n",
      "Helloo\n"
     ]
    }
   ],
   "source": [
    "str1=input(\"Enter the string: \")\n",
    "if 'a'or'e'or'i'or'o'or'u' in str1:\n",
    "    print('The string contains vowel')"
   ]
  },
  {
   "cell_type": "markdown",
   "id": "daa026c1",
   "metadata": {},
   "source": [
    "4. Improvise above code by providing unique vowels"
   ]
  },
  {
   "cell_type": "code",
   "execution_count": 46,
   "id": "c8685500",
   "metadata": {},
   "outputs": [
    {
     "name": "stdout",
     "output_type": "stream",
     "text": [
      "Enter the string: omkar sir is a gud trainer\n",
      "5\n"
     ]
    }
   ],
   "source": [
    "str1=input(\"Enter the string: \")\n",
    "unq=''\n",
    "for i in str1:\n",
    "    if i in 'aeiou':\n",
    "        if i in unq:\n",
    "            print(end='')\n",
    "        else:\n",
    "            unq+=i\n",
    "print(len(unq))"
   ]
  },
  {
   "cell_type": "markdown",
   "id": "c2f12898",
   "metadata": {},
   "source": [
    "5. Write a program that asks the user to enter a string. The program should create a new string called new_string from the user’s string such that the second character is changed to an asterisk and three exclamation points are attached to the end of the string. Finally, print new_string.\n",
    "Typical output is shown below:\n",
    "- Enter your string: Qbert\n",
    "- Output: Q*ert!!!"
   ]
  },
  {
   "cell_type": "code",
   "execution_count": 36,
   "id": "f9570363",
   "metadata": {},
   "outputs": [
    {
     "name": "stdout",
     "output_type": "stream",
     "text": [
      "Enter the string: lkjhgfdfghjkl;\n"
     ]
    },
    {
     "data": {
      "text/plain": [
       "'l*jhgfdfghjkl;!!!'"
      ]
     },
     "execution_count": 36,
     "metadata": {},
     "output_type": "execute_result"
    }
   ],
   "source": [
    "str1=input(\"Enter the string: \")\n",
    "str2=str1[0]+'*'+str1[2:]+'!!!'\n",
    "str2"
   ]
  },
  {
   "cell_type": "markdown",
   "id": "2bcf42b3",
   "metadata": {},
   "source": [
    "6. Write a program that asks the user to enter a word and determines whether the word is a palindrome or not. A palindrome is a word that reads the same backwards as forwards"
   ]
  },
  {
   "cell_type": "code",
   "execution_count": 39,
   "id": "0a9e1d16",
   "metadata": {},
   "outputs": [
    {
     "name": "stdout",
     "output_type": "stream",
     "text": [
      "Enter the string: MAdam\n",
      "It is a palindrome\n"
     ]
    }
   ],
   "source": [
    "str1=input(\"Enter the string: \")\n",
    "if str1.casefold()==str1[::-1].casefold():\n",
    "    print(\"It is a palindrome\")\n",
    "else:\n",
    "    print(\"It is not a palindrome\")"
   ]
  },
  {
   "cell_type": "markdown",
   "id": "3028817e",
   "metadata": {},
   "source": [
    "7. At a certain school, student email addresses end with @student.college.edu, while professor email addresses end with @prof.college.edu. Write a program that first asks the user how many\n",
    "email addresses they will be entering, and then has the user enter those addresses. After all the\n",
    "email addresses are entered, the program should print out a message indicating either that all the\n",
    "addresses are student addresses or that there were some professor addresses entered."
   ]
  },
  {
   "cell_type": "code",
   "execution_count": 71,
   "id": "fd17aa03",
   "metadata": {},
   "outputs": [
    {
     "name": "stdout",
     "output_type": "stream",
     "text": [
      "How many addresses you want to give: 0\n",
      "Number of students: 0 \n",
      "Number of professors: 0\n"
     ]
    }
   ],
   "source": [
    "num=eval(input(\"How many addresses you want to give: \"))\n",
    "lst=[]\n",
    "student=0\n",
    "pro=0\n",
    "for nu in range(num):\n",
    "    mail=input('Enter the email addresses \\n For student:@student.college.edu \\n For professor:@prof.college.edu ')\n",
    "    print('\\n')\n",
    "    lst.append(mail)\n",
    "    if '@student.college.edu' in lst[nu]:\n",
    "        student+=1\n",
    "    elif '@prof.college.edu' in lst[nu]:\n",
    "        pro+=1\n",
    "print('Number of students:',student,'\\nNumber of professors:',pro)"
   ]
  },
  {
   "cell_type": "markdown",
   "id": "43a8ba88",
   "metadata": {},
   "source": [
    "8. Write a program that asks the user to enter a string, then prints out each letter of the string\n",
    "doubled and on a separate line. For instance,\n",
    "if the user entered HEY,\n",
    "the output would be\n",
    "- HH\n",
    "- EE\n",
    "- YY"
   ]
  },
  {
   "cell_type": "code",
   "execution_count": 73,
   "id": "59dcae6d",
   "metadata": {},
   "outputs": [
    {
     "name": "stdout",
     "output_type": "stream",
     "text": [
      "Enter the string: HEY\n",
      "HH\n",
      "EE\n",
      "YY\n"
     ]
    }
   ],
   "source": [
    "str1=input(\"Enter the string: \")\n",
    "for i in str1:\n",
    "    print(i*2)"
   ]
  },
  {
   "cell_type": "markdown",
   "id": "a1a7e2d6",
   "metadata": {},
   "source": [
    "9. Write a program that asks the user to enter a word that contains the letter a. The program should\n",
    "then print the following two lines: On the first line should be the part of the string up to and\n",
    "including the the first a, and on the second line should be the rest of the string.\n",
    "Sample output is shown below:\n",
    "- Enter a word: buffalo\n",
    "- buffa\n",
    "- lo"
   ]
  },
  {
   "cell_type": "code",
   "execution_count": 78,
   "id": "f4a1d668",
   "metadata": {},
   "outputs": [
    {
     "name": "stdout",
     "output_type": "stream",
     "text": [
      "Enter the string: lll\n",
      "lll"
     ]
    }
   ],
   "source": [
    "str1=input(\"Enter the string: \")\n",
    "for i in str1:\n",
    "    if i=='a':\n",
    "        print(i)\n",
    "    else:\n",
    "        print(i,end='')"
   ]
  },
  {
   "cell_type": "markdown",
   "id": "7d0dae9b",
   "metadata": {},
   "source": [
    "10. Write a program that asks the user to enter a word and then capitalizes every other letter of that\n",
    "word.\n",
    "So if the user enters rhinoceros,\n",
    "the program should print rHiNoCeRoS."
   ]
  },
  {
   "cell_type": "code",
   "execution_count": 84,
   "id": "21080d19",
   "metadata": {},
   "outputs": [
    {
     "name": "stdout",
     "output_type": "stream",
     "text": [
      "Enter the string: bbc\n",
      "bBc"
     ]
    }
   ],
   "source": [
    "str1=input(\"Enter the string: \")\n",
    "for i in range(len(str1)):\n",
    "    if i%2==0:\n",
    "        print(str1[i],end='')\n",
    "    else:\n",
    "        print(str1[i].upper(),end='')"
   ]
  },
  {
   "cell_type": "code",
   "execution_count": null,
   "id": "a4cc1005",
   "metadata": {},
   "outputs": [],
   "source": []
  },
  {
   "cell_type": "code",
   "execution_count": null,
   "id": "c274cce3",
   "metadata": {},
   "outputs": [],
   "source": []
  },
  {
   "cell_type": "markdown",
   "id": "16f706e4",
   "metadata": {},
   "source": [
    "15. Write a Python program to add 'ing' at the end of a given string (length should be at least 3). If the\n",
    "given string already ends with 'ing' then add 'ly' instead.\n",
    "If the string length of the given string is less than 3, leave it unchanged.\n",
    "Go to the editor\n",
    "Sample String : 'abc'\n",
    "Expected Result : 'abcing'\n",
    "Sample String : 'string'\n",
    "Expected Result : 'stringly'"
   ]
  },
  {
   "cell_type": "code",
   "execution_count": 29,
   "id": "6075129d",
   "metadata": {},
   "outputs": [
    {
     "name": "stdout",
     "output_type": "stream",
     "text": [
      "Enter the string: abd\n",
      "abding\n"
     ]
    }
   ],
   "source": [
    "str1=input(\"Enter the string: \")\n",
    "str2=[]\n",
    "if len(str1)<3:\n",
    "    print(str1)\n",
    "elif str1[-3:]=='ing':\n",
    "    print(str1+'ly')\n",
    "else:\n",
    "    print(str1+'ing')"
   ]
  },
  {
   "cell_type": "markdown",
   "id": "d122cefa",
   "metadata": {},
   "source": [
    "16. Take the following Python code that stores a string:‘\n",
    "string = 'X-DSPAM-Confidence: 0.8475'\n",
    "Extract the portion of the string after the colon character and then use the float function to convert\n",
    "the extracted string into a floating point number."
   ]
  },
  {
   "cell_type": "code",
   "execution_count": 9,
   "id": "0b7e0246",
   "metadata": {},
   "outputs": [
    {
     "name": "stdout",
     "output_type": "stream",
     "text": [
      "<class 'float'>\n"
     ]
    }
   ],
   "source": [
    "string='X-DSPAM-Confidence: 0.8475'\n",
    "ext=string[string.index(':')+2:]\n",
    "ext=float(ext)\n",
    "print(type(ext))"
   ]
  },
  {
   "cell_type": "code",
   "execution_count": 26,
   "id": "7efc0126",
   "metadata": {},
   "outputs": [
    {
     "data": {
      "text/plain": [
       "['__add__',\n",
       " '__class__',\n",
       " '__contains__',\n",
       " '__delattr__',\n",
       " '__dir__',\n",
       " '__doc__',\n",
       " '__eq__',\n",
       " '__format__',\n",
       " '__ge__',\n",
       " '__getattribute__',\n",
       " '__getitem__',\n",
       " '__getnewargs__',\n",
       " '__getstate__',\n",
       " '__gt__',\n",
       " '__hash__',\n",
       " '__init__',\n",
       " '__init_subclass__',\n",
       " '__iter__',\n",
       " '__le__',\n",
       " '__len__',\n",
       " '__lt__',\n",
       " '__mod__',\n",
       " '__mul__',\n",
       " '__ne__',\n",
       " '__new__',\n",
       " '__reduce__',\n",
       " '__reduce_ex__',\n",
       " '__repr__',\n",
       " '__rmod__',\n",
       " '__rmul__',\n",
       " '__setattr__',\n",
       " '__sizeof__',\n",
       " '__str__',\n",
       " '__subclasshook__',\n",
       " 'capitalize',\n",
       " 'casefold',\n",
       " 'center',\n",
       " 'count',\n",
       " 'encode',\n",
       " 'endswith',\n",
       " 'expandtabs',\n",
       " 'find',\n",
       " 'format',\n",
       " 'format_map',\n",
       " 'index',\n",
       " 'isalnum',\n",
       " 'isalpha',\n",
       " 'isascii',\n",
       " 'isdecimal',\n",
       " 'isdigit',\n",
       " 'isidentifier',\n",
       " 'islower',\n",
       " 'isnumeric',\n",
       " 'isprintable',\n",
       " 'isspace',\n",
       " 'istitle',\n",
       " 'isupper',\n",
       " 'join',\n",
       " 'ljust',\n",
       " 'lower',\n",
       " 'lstrip',\n",
       " 'maketrans',\n",
       " 'partition',\n",
       " 'removeprefix',\n",
       " 'removesuffix',\n",
       " 'replace',\n",
       " 'rfind',\n",
       " 'rindex',\n",
       " 'rjust',\n",
       " 'rpartition',\n",
       " 'rsplit',\n",
       " 'rstrip',\n",
       " 'split',\n",
       " 'splitlines',\n",
       " 'startswith',\n",
       " 'strip',\n",
       " 'swapcase',\n",
       " 'title',\n",
       " 'translate',\n",
       " 'upper',\n",
       " 'zfill']"
      ]
     },
     "execution_count": 26,
     "metadata": {},
     "output_type": "execute_result"
    }
   ],
   "source": []
  },
  {
   "cell_type": "code",
   "execution_count": null,
   "id": "7afc2eb2",
   "metadata": {},
   "outputs": [],
   "source": [
    "str.join()"
   ]
  }
 ],
 "metadata": {
  "kernelspec": {
   "display_name": "Python 3 (ipykernel)",
   "language": "python",
   "name": "python3"
  },
  "language_info": {
   "codemirror_mode": {
    "name": "ipython",
    "version": 3
   },
   "file_extension": ".py",
   "mimetype": "text/x-python",
   "name": "python",
   "nbconvert_exporter": "python",
   "pygments_lexer": "ipython3",
   "version": "3.11.4"
  }
 },
 "nbformat": 4,
 "nbformat_minor": 5
}
