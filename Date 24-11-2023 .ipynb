{
 "cells": [
  {
   "cell_type": "code",
   "execution_count": null,
   "id": "fa92d758",
   "metadata": {},
   "outputs": [],
   "source": [
    "def add(x):\n",
    "    summ=x+x\n",
    "    print(summ)\n",
    "add(9)"
   ]
  },
  {
   "cell_type": "code",
   "execution_count": null,
   "id": "db092448",
   "metadata": {},
   "outputs": [],
   "source": [
    "add=lambda x: print(x*x)\n",
    "for i in range(1,11):\n",
    "    add(i)"
   ]
  },
  {
   "cell_type": "code",
   "execution_count": null,
   "id": "c7a39e6f",
   "metadata": {},
   "outputs": [],
   "source": [
    "avg=lambda a,b,c=500: (a+b+c)//3\n",
    "avg(400,400)"
   ]
  },
  {
   "cell_type": "code",
   "execution_count": null,
   "id": "00f3b4bc",
   "metadata": {},
   "outputs": [],
   "source": [
    "cub= lambda x,y:x**y if x<10 else x+y\n",
    "cub(11,3)"
   ]
  },
  {
   "cell_type": "markdown",
   "id": "b3efc82f",
   "metadata": {},
   "source": [
    "# if else"
   ]
  },
  {
   "cell_type": "code",
   "execution_count": null,
   "id": "86260c5e",
   "metadata": {},
   "outputs": [],
   "source": [
    "cub= lambda x,y:x**y if x<10 else x+y\n",
    "cub(11,3)"
   ]
  },
  {
   "cell_type": "code",
   "execution_count": null,
   "id": "9dc42310",
   "metadata": {},
   "outputs": [],
   "source": [
    "even=[]\n",
    "odd=[]\n",
    "squa=lambda a:even.append(a**4) if a%2==0 else odd.append(a**3)\n",
    "num=[1,2,3,4,5,6,7,8,9,10]\n",
    "list(map(squa,num))\n",
    "print(even)\n",
    "print(odd)"
   ]
  },
  {
   "cell_type": "markdown",
   "id": "2c9cf96f",
   "metadata": {},
   "source": [
    "# Iterables"
   ]
  },
  {
   "cell_type": "code",
   "execution_count": null,
   "id": "2bcdc736",
   "metadata": {},
   "outputs": [],
   "source": [
    "Syntax: \n",
    "    lambda <argumetns>: <output>,<iterables>"
   ]
  },
  {
   "cell_type": "code",
   "execution_count": 11,
   "id": "95d4f1e9",
   "metadata": {},
   "outputs": [
    {
     "data": {
      "text/plain": [
       "['Hyd', 'Mumbai', 'Banglore', 'Delhi']"
      ]
     },
     "execution_count": 11,
     "metadata": {},
     "output_type": "execute_result"
    }
   ],
   "source": [
    "list1=['hyd','mumbai','banglore','delhi']\n",
    "cap=list(map(lambda i:i.capitalize(),list1))\n",
    "cap"
   ]
  },
  {
   "cell_type": "code",
   "execution_count": 16,
   "id": "1a73c9a9",
   "metadata": {},
   "outputs": [
    {
     "data": {
      "text/plain": [
       "([1, 27, 125], [16, 256, 1296])"
      ]
     },
     "execution_count": 16,
     "metadata": {},
     "output_type": "execute_result"
    }
   ],
   "source": [
    "list2=[1,2,3,4,5,6]\n",
    "even,odd=[],[]\n",
    "list(map(lambda a:even.append(a**4) if a%2==0 else odd.append(a**3),list2))\n",
    "odd,even"
   ]
  },
  {
   "cell_type": "code",
   "execution_count": 23,
   "id": "613ac9b7",
   "metadata": {},
   "outputs": [
    {
     "data": {
      "text/plain": [
       "[1, 4, 9, 16, 25, 36]"
      ]
     },
     "execution_count": 23,
     "metadata": {},
     "output_type": "execute_result"
    }
   ],
   "source": [
    "list3=[1,2,3,4,5,6]\n",
    "list(map(lambda i:i*i,list3))"
   ]
  },
  {
   "cell_type": "code",
   "execution_count": 25,
   "id": "9d6b12c6",
   "metadata": {},
   "outputs": [
    {
     "name": "stdout",
     "output_type": "stream",
     "text": [
      "9\n",
      "16\n",
      "21\n",
      "24\n",
      "25\n",
      "24\n"
     ]
    }
   ],
   "source": [
    "list3=[1,2,3,4,5,6]\n",
    "list4=[9,8,7,6,5,4]\n",
    "for i in list(map(lambda i,j:i*j,list3,list4)):\n",
    "    print(i)"
   ]
  },
  {
   "cell_type": "code",
   "execution_count": 28,
   "id": "ebb95f7c",
   "metadata": {},
   "outputs": [
    {
     "data": {
      "text/plain": [
       "[9, 16, 21, 24, 25, 24]"
      ]
     },
     "execution_count": 28,
     "metadata": {},
     "output_type": "execute_result"
    }
   ],
   "source": [
    "list3=[1,2,3,4,5,6]\n",
    "list4=[9,8,7,6,5,4]\n",
    "res=list(map(lambda i,j:i*j,list3,list4))\n",
    "res"
   ]
  },
  {
   "cell_type": "code",
   "execution_count": 30,
   "id": "e2d1ed79",
   "metadata": {},
   "outputs": [
    {
     "data": {
      "text/plain": [
       "[12, 24, 36]"
      ]
     },
     "execution_count": 30,
     "metadata": {},
     "output_type": "execute_result"
    }
   ],
   "source": [
    "list3=[1,2,3]\n",
    "list4=[11,22,33]\n",
    "res=list(map(lambda i,j:i+j,list3,list4))\n",
    "res"
   ]
  },
  {
   "cell_type": "markdown",
   "id": "500ea77d",
   "metadata": {},
   "source": [
    "# Filter\n",
    "To apply conditions inside a "
   ]
  },
  {
   "cell_type": "code",
   "execution_count": 45,
   "id": "0b9fa570",
   "metadata": {},
   "outputs": [
    {
     "data": {
      "text/plain": [
       "['h#d', None, 'che#nnai']"
      ]
     },
     "execution_count": 45,
     "metadata": {},
     "output_type": "execute_result"
    }
   ],
   "source": [
    "list5=['h#d','Mumba%$i','che#nnai']\n",
    "res=list(map(lambda i:i if \"#\" in i else None,list5))\n",
    "res"
   ]
  },
  {
   "cell_type": "code",
   "execution_count": 48,
   "id": "ce2a5e2b",
   "metadata": {},
   "outputs": [
    {
     "data": {
      "text/plain": [
       "[True, False, True]"
      ]
     },
     "execution_count": 48,
     "metadata": {},
     "output_type": "execute_result"
    }
   ],
   "source": [
    "list(map(lambda i:\"#\" in i,list5))"
   ]
  },
  {
   "cell_type": "code",
   "execution_count": null,
   "id": "fde5cbd5",
   "metadata": {},
   "outputs": [],
   "source": [
    "filter()"
   ]
  },
  {
   "cell_type": "code",
   "execution_count": 53,
   "id": "cd93cc53",
   "metadata": {},
   "outputs": [
    {
     "data": {
      "text/plain": [
       "['h#d', 'che#nnai']"
      ]
     },
     "execution_count": 53,
     "metadata": {},
     "output_type": "execute_result"
    }
   ],
   "source": [
    "list5=['h#d','Mumba%$i','che#nnai']\n",
    "res=list(filter(lambda i:i if \"#\" in i else None,list5))\n",
    "res"
   ]
  },
  {
   "cell_type": "code",
   "execution_count": null,
   "id": "ed05a2ee",
   "metadata": {},
   "outputs": [],
   "source": []
  }
 ],
 "metadata": {
  "kernelspec": {
   "display_name": "Python 3 (ipykernel)",
   "language": "python",
   "name": "python3"
  },
  "language_info": {
   "codemirror_mode": {
    "name": "ipython",
    "version": 3
   },
   "file_extension": ".py",
   "mimetype": "text/x-python",
   "name": "python",
   "nbconvert_exporter": "python",
   "pygments_lexer": "ipython3",
   "version": "3.11.4"
  }
 },
 "nbformat": 4,
 "nbformat_minor": 5
}
