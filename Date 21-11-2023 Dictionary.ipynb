{
 "cells": [
  {
   "cell_type": "code",
   "execution_count": 1,
   "id": "3b5475b4",
   "metadata": {},
   "outputs": [],
   "source": [
    "d1={'Ram':30,'Robert':40,'Raheem':50}"
   ]
  },
  {
   "cell_type": "code",
   "execution_count": 2,
   "id": "1a4f6096",
   "metadata": {},
   "outputs": [
    {
     "data": {
      "text/plain": [
       "{'Ram': 30, 'Robert': 40, 'Raheem': 50}"
      ]
     },
     "execution_count": 2,
     "metadata": {},
     "output_type": "execute_result"
    }
   ],
   "source": [
    "d1"
   ]
  },
  {
   "cell_type": "code",
   "execution_count": 3,
   "id": "9bf628d4",
   "metadata": {},
   "outputs": [
    {
     "data": {
      "text/plain": [
       "['__class__',\n",
       " '__class_getitem__',\n",
       " '__contains__',\n",
       " '__delattr__',\n",
       " '__delitem__',\n",
       " '__dir__',\n",
       " '__doc__',\n",
       " '__eq__',\n",
       " '__format__',\n",
       " '__ge__',\n",
       " '__getattribute__',\n",
       " '__getitem__',\n",
       " '__getstate__',\n",
       " '__gt__',\n",
       " '__hash__',\n",
       " '__init__',\n",
       " '__init_subclass__',\n",
       " '__ior__',\n",
       " '__iter__',\n",
       " '__le__',\n",
       " '__len__',\n",
       " '__lt__',\n",
       " '__ne__',\n",
       " '__new__',\n",
       " '__or__',\n",
       " '__reduce__',\n",
       " '__reduce_ex__',\n",
       " '__repr__',\n",
       " '__reversed__',\n",
       " '__ror__',\n",
       " '__setattr__',\n",
       " '__setitem__',\n",
       " '__sizeof__',\n",
       " '__str__',\n",
       " '__subclasshook__',\n",
       " 'clear',\n",
       " 'copy',\n",
       " 'fromkeys',\n",
       " 'get',\n",
       " 'items',\n",
       " 'keys',\n",
       " 'pop',\n",
       " 'popitem',\n",
       " 'setdefault',\n",
       " 'update',\n",
       " 'values']"
      ]
     },
     "execution_count": 3,
     "metadata": {},
     "output_type": "execute_result"
    }
   ],
   "source": [
    "dir(d1)"
   ]
  },
  {
   "cell_type": "code",
   "execution_count": 4,
   "id": "573d97ed",
   "metadata": {},
   "outputs": [
    {
     "data": {
      "text/plain": [
       "('Raheem', 50)"
      ]
     },
     "execution_count": 4,
     "metadata": {},
     "output_type": "execute_result"
    }
   ],
   "source": [
    "d1.popitem()"
   ]
  },
  {
   "cell_type": "code",
   "execution_count": 5,
   "id": "69f0056e",
   "metadata": {},
   "outputs": [
    {
     "data": {
      "text/plain": [
       "{'Ram': 30, 'Robert': 40}"
      ]
     },
     "execution_count": 5,
     "metadata": {},
     "output_type": "execute_result"
    }
   ],
   "source": [
    "d1"
   ]
  },
  {
   "cell_type": "code",
   "execution_count": 6,
   "id": "de88a61a",
   "metadata": {},
   "outputs": [],
   "source": [
    "d1['Raheem']=50"
   ]
  },
  {
   "cell_type": "code",
   "execution_count": 7,
   "id": "c2ca0a61",
   "metadata": {},
   "outputs": [
    {
     "data": {
      "text/plain": [
       "{'Ram': 30, 'Robert': 40, 'Raheem': 50}"
      ]
     },
     "execution_count": 7,
     "metadata": {},
     "output_type": "execute_result"
    }
   ],
   "source": [
    "d1"
   ]
  },
  {
   "cell_type": "code",
   "execution_count": 11,
   "id": "7284f09d",
   "metadata": {},
   "outputs": [],
   "source": [
    "ld1=list(d1.keys())"
   ]
  },
  {
   "cell_type": "code",
   "execution_count": 12,
   "id": "8af0a7c8",
   "metadata": {},
   "outputs": [
    {
     "data": {
      "text/plain": [
       "['Ram', 'Robert', 'Raheem']"
      ]
     },
     "execution_count": 12,
     "metadata": {},
     "output_type": "execute_result"
    }
   ],
   "source": [
    "ld1"
   ]
  },
  {
   "cell_type": "code",
   "execution_count": 13,
   "id": "88139580",
   "metadata": {},
   "outputs": [],
   "source": [
    "ld12=list(d1.values())"
   ]
  },
  {
   "cell_type": "code",
   "execution_count": 14,
   "id": "1aabd8ad",
   "metadata": {},
   "outputs": [
    {
     "data": {
      "text/plain": [
       "[30, 40, 50]"
      ]
     },
     "execution_count": 14,
     "metadata": {},
     "output_type": "execute_result"
    }
   ],
   "source": [
    "ld12"
   ]
  },
  {
   "cell_type": "code",
   "execution_count": 15,
   "id": "257e908e",
   "metadata": {},
   "outputs": [
    {
     "data": {
      "text/plain": [
       "(['Ram', 'Robert', 'Raheem'], [30, 40, 50])"
      ]
     },
     "execution_count": 15,
     "metadata": {},
     "output_type": "execute_result"
    }
   ],
   "source": [
    "ld1,ld12"
   ]
  },
  {
   "cell_type": "code",
   "execution_count": 19,
   "id": "6fcf2703",
   "metadata": {},
   "outputs": [],
   "source": [
    "d2={}\n",
    "for i,j in zip(ld1,ld12):\n",
    "    d2.update({i:j})"
   ]
  },
  {
   "cell_type": "code",
   "execution_count": 20,
   "id": "1fdaba6f",
   "metadata": {},
   "outputs": [
    {
     "data": {
      "text/plain": [
       "{'Ram': 30, 'Robert': 40, 'Raheem': 50}"
      ]
     },
     "execution_count": 20,
     "metadata": {},
     "output_type": "execute_result"
    }
   ],
   "source": [
    "d2"
   ]
  },
  {
   "cell_type": "code",
   "execution_count": 22,
   "id": "04fc79b4",
   "metadata": {},
   "outputs": [],
   "source": [
    "d3={}\n",
    "for i in range(len(ld1)):\n",
    "    d3[ld1[i]]=ld12[i]"
   ]
  },
  {
   "cell_type": "code",
   "execution_count": 23,
   "id": "de61b1be",
   "metadata": {},
   "outputs": [
    {
     "data": {
      "text/plain": [
       "{'Ram': 30, 'Robert': 40, 'Raheem': 50}"
      ]
     },
     "execution_count": 23,
     "metadata": {},
     "output_type": "execute_result"
    }
   ],
   "source": [
    "d3"
   ]
  },
  {
   "cell_type": "code",
   "execution_count": 28,
   "id": "8778f9c5",
   "metadata": {},
   "outputs": [],
   "source": [
    "d4={'even':[i for i in range(10) if i%2==0],'odd':[i for i in range(10) if i%2!=0]}"
   ]
  },
  {
   "cell_type": "code",
   "execution_count": 29,
   "id": "5de9c2da",
   "metadata": {},
   "outputs": [
    {
     "data": {
      "text/plain": [
       "{'even': [0, 2, 4, 6, 8], 'odd': [1, 3, 5, 7, 9]}"
      ]
     },
     "execution_count": 29,
     "metadata": {},
     "output_type": "execute_result"
    }
   ],
   "source": [
    "d4"
   ]
  },
  {
   "cell_type": "code",
   "execution_count": 32,
   "id": "f659261e",
   "metadata": {},
   "outputs": [],
   "source": [
    "s1='virat.kohli@blr.com,Rohit.sharma@mumbai.com,kl.rahull@lucknow.com'\n",
    "s1=s1.split(',')"
   ]
  },
  {
   "cell_type": "code",
   "execution_count": 33,
   "id": "eab1fe3a",
   "metadata": {},
   "outputs": [
    {
     "data": {
      "text/plain": [
       "['virat.kohli@blr.com', 'Rohit.sharma@mumbai.com', 'kl.rahull@lucknow.com']"
      ]
     },
     "execution_count": 33,
     "metadata": {},
     "output_type": "execute_result"
    }
   ],
   "source": [
    "s1"
   ]
  },
  {
   "cell_type": "code",
   "execution_count": 35,
   "id": "113dcc78",
   "metadata": {},
   "outputs": [
    {
     "data": {
      "text/plain": [
       "15"
      ]
     },
     "execution_count": 35,
     "metadata": {},
     "output_type": "execute_result"
    }
   ],
   "source": [
    "s1[0].index('.',)"
   ]
  },
  {
   "cell_type": "code",
   "execution_count": 76,
   "id": "938df499",
   "metadata": {},
   "outputs": [
    {
     "data": {
      "text/plain": [
       "{'first_name': ['virat', 'Rohit', 'kl'],\n",
       " 'second_name': ['kohli', 'sharma', 'rahull'],\n",
       " 'company': ['blr', 'mumbai', 'lucknow']}"
      ]
     },
     "execution_count": 76,
     "metadata": {},
     "output_type": "execute_result"
    }
   ],
   "source": [
    "s1='virat.kohli@blr.com,Rohit.sharma@mumbai.com,kl.rahull@lucknow.com'\n",
    "s1=s1.split(',')\n",
    "dic={'first_name':[i[0:i.index('.')] for i in s1],'second_name':[i[i.index('.')+1:i.index('@')] for i in s1],'company':[i[i.index('@')+1:i.index('.',i.index('@'))] for i in s1]}\n",
    "dic"
   ]
  },
  {
   "cell_type": "code",
   "execution_count": null,
   "id": "2a813639",
   "metadata": {},
   "outputs": [],
   "source": []
  },
  {
   "cell_type": "code",
   "execution_count": 101,
   "id": "f29f456c",
   "metadata": {},
   "outputs": [],
   "source": [
    "str1='can can you canner can you able to can canner'\n",
    "str1=str1.split()"
   ]
  },
  {
   "cell_type": "code",
   "execution_count": null,
   "id": "c17473e0",
   "metadata": {},
   "outputs": [],
   "source": []
  },
  {
   "cell_type": "code",
   "execution_count": 163,
   "id": "1e7e4bba",
   "metadata": {},
   "outputs": [
    {
     "name": "stdout",
     "output_type": "stream",
     "text": [
      "{'can': 4, 'you': 2, 'canner': 2, 'able': 1, 'to': 1}\n"
     ]
    }
   ],
   "source": [
    "res1={i:str1.count(i) for i in str1}\n",
    "print(res)"
   ]
  },
  {
   "cell_type": "code",
   "execution_count": 111,
   "id": "88fda29c",
   "metadata": {},
   "outputs": [],
   "source": [
    "res={'can':str1.count('can'),'you':str1.count('you'),'canner':str1.count('canner'),'able':str1.count('able'),'to':str1.count('to')}"
   ]
  },
  {
   "cell_type": "code",
   "execution_count": 112,
   "id": "98819e4e",
   "metadata": {},
   "outputs": [
    {
     "data": {
      "text/plain": [
       "{'can': 4, 'you': 2, 'canner': 2, 'able': 1, 'to': 1}"
      ]
     },
     "execution_count": 112,
     "metadata": {},
     "output_type": "execute_result"
    }
   ],
   "source": [
    "res"
   ]
  },
  {
   "cell_type": "code",
   "execution_count": 109,
   "id": "93b5a12e",
   "metadata": {},
   "outputs": [],
   "source": [
    "str1='can can you canner can you able to can canner'\n",
    "str1=str1.split()\n",
    "d5={}\n",
    "for i in str1:\n",
    "    d5[i]=str1.count(i)"
   ]
  },
  {
   "cell_type": "code",
   "execution_count": 110,
   "id": "2958322f",
   "metadata": {},
   "outputs": [
    {
     "data": {
      "text/plain": [
       "{'can': 4, 'you': 2, 'canner': 2, 'able': 1, 'to': 1}"
      ]
     },
     "execution_count": 110,
     "metadata": {},
     "output_type": "execute_result"
    }
   ],
   "source": [
    "d5"
   ]
  },
  {
   "cell_type": "code",
   "execution_count": 154,
   "id": "116f97ee",
   "metadata": {},
   "outputs": [],
   "source": [
    "d1={'a':20,'b':30,'c':40,'d':799}\n",
    "d2={'a':40,'b':50,'c':60,}"
   ]
  },
  {
   "cell_type": "code",
   "execution_count": 155,
   "id": "9fea430d",
   "metadata": {},
   "outputs": [
    {
     "name": "stdout",
     "output_type": "stream",
     "text": [
      "60\n",
      "80\n",
      "100\n"
     ]
    }
   ],
   "source": [
    "for i,j in zip(d1,d2):\n",
    "    print(d1[i]+d2[j])"
   ]
  },
  {
   "cell_type": "code",
   "execution_count": 156,
   "id": "d3ef4310",
   "metadata": {},
   "outputs": [],
   "source": [
    "dic2={}"
   ]
  },
  {
   "cell_type": "code",
   "execution_count": 157,
   "id": "72c17f62",
   "metadata": {},
   "outputs": [],
   "source": [
    "for i,j in zip(d1,d2):\n",
    "    dic2.update({i:d1[i]+d2[j]})"
   ]
  },
  {
   "cell_type": "code",
   "execution_count": 158,
   "id": "1607559a",
   "metadata": {},
   "outputs": [
    {
     "data": {
      "text/plain": [
       "{'a': 60, 'b': 80, 'c': 100}"
      ]
     },
     "execution_count": 158,
     "metadata": {},
     "output_type": "execute_result"
    }
   ],
   "source": [
    "dic2"
   ]
  },
  {
   "cell_type": "code",
   "execution_count": 159,
   "id": "f894abdb",
   "metadata": {},
   "outputs": [],
   "source": [
    "lis=[1,23]"
   ]
  },
  {
   "cell_type": "code",
   "execution_count": 160,
   "id": "d6119abc",
   "metadata": {},
   "outputs": [],
   "source": [
    "dic4={i:d1[i]+d2[j] for i,j in zip(d1,d2) }"
   ]
  },
  {
   "cell_type": "code",
   "execution_count": 161,
   "id": "c5b9011d",
   "metadata": {},
   "outputs": [
    {
     "data": {
      "text/plain": [
       "{'a': 60, 'b': 80, 'c': 100}"
      ]
     },
     "execution_count": 161,
     "metadata": {},
     "output_type": "execute_result"
    }
   ],
   "source": [
    "dic4"
   ]
  },
  {
   "cell_type": "code",
   "execution_count": null,
   "id": "ffb9d805",
   "metadata": {},
   "outputs": [],
   "source": []
  },
  {
   "cell_type": "code",
   "execution_count": null,
   "id": "40b7bebc",
   "metadata": {},
   "outputs": [],
   "source": []
  }
 ],
 "metadata": {
  "kernelspec": {
   "display_name": "Python 3 (ipykernel)",
   "language": "python",
   "name": "python3"
  },
  "language_info": {
   "codemirror_mode": {
    "name": "ipython",
    "version": 3
   },
   "file_extension": ".py",
   "mimetype": "text/x-python",
   "name": "python",
   "nbconvert_exporter": "python",
   "pygments_lexer": "ipython3",
   "version": "3.11.4"
  }
 },
 "nbformat": 4,
 "nbformat_minor": 5
}
