{
 "cells": [
  {
   "cell_type": "markdown",
   "id": "5aa43182",
   "metadata": {},
   "source": [
    "## strip- lstrip- rstrip Method\n",
    "- It is used to remove the covering\n",
    "- lstrip - To remove only on left side\n",
    "- rstrip - To remove only on right side"
   ]
  },
  {
   "cell_type": "code",
   "execution_count": 13,
   "id": "3f502291",
   "metadata": {},
   "outputs": [
    {
     "name": "stdout",
     "output_type": "stream",
     "text": [
      "hello how are you\n",
      "hello how are you\n",
      "hello how are you\n"
     ]
    }
   ],
   "source": [
    "str1=' hello how are you '\n",
    "str2=' hello how are you'\n",
    "str3='hello how are you '\n",
    "print(str1.strip())\n",
    "print(str2.lstrip())\n",
    "print(str3.rstrip())"
   ]
  },
  {
   "cell_type": "code",
   "execution_count": null,
   "id": "7ffcffba",
   "metadata": {},
   "outputs": [],
   "source": [
    "#WAP to extract \n",
    "str1='python.anaconda@nareshit.com'\n",
    "#Extract first name\n",
    "#Extract second name\n",
    "#Extract third name"
   ]
  },
  {
   "cell_type": "code",
   "execution_count": 24,
   "id": "c17a4d8b",
   "metadata": {},
   "outputs": [
    {
     "name": "stdout",
     "output_type": "stream",
     "text": [
      "First name: python\n",
      "Second name: anaconda\n",
      "Company name: nareshit\n"
     ]
    }
   ],
   "source": [
    "str1='python.anaconda@nareshit.com'\n",
    "str2='omkar.nallaagoni@cognizant.com'\n",
    "str3='virat.kohli@bcci.com'\n",
    "fir=str1.index('.')\n",
    "sec=str1.index(\"@\")\n",
    "thir=str1.index('.',fir+1)\n",
    "print(f\"First name: {str1[:fir]}\")\n",
    "print(f\"Second name: {str1[fir+1:sec]}\")\n",
    "print(f\"Company name: {str1[sec+1:thir]}\")"
   ]
  },
  {
   "cell_type": "code",
   "execution_count": 22,
   "id": "98e16cd4",
   "metadata": {},
   "outputs": [
    {
     "name": "stdout",
     "output_type": "stream",
     "text": [
      "First name: omkar\n",
      "Second name: nallaagoni\n",
      "Company name: cognizant\n",
      "First name: virat\n",
      "Second name: kohli\n",
      "Company name: bcci\n"
     ]
    }
   ],
   "source": [
    "fir=str2.index('.')\n",
    "sec=str2.index(\"@\")\n",
    "thir=str2.index('.',fir+1)\n",
    "print(f\"First name: {str2[:fir]}\")\n",
    "print(f\"Second name: {str2[fir+1:sec]}\")\n",
    "print(f\"Company name: {str2[sec+1:thir]}\")\n",
    "fir=str3.index('.')\n",
    "sec=str3.index(\"@\")\n",
    "thir=str3.index('.',fir+1)\n",
    "print(f\"First name: {str3[:fir]}\")\n",
    "print(f\"Second name: {str3[fir+1:sec]}\")\n",
    "print(f\"Company name: {str3[sec+1:thir]}\")\n"
   ]
  },
  {
   "cell_type": "code",
   "execution_count": 2,
   "id": "fae8b7eb",
   "metadata": {},
   "outputs": [
    {
     "name": "stdout",
     "output_type": "stream",
     "text": [
      "First name: omkar\n",
      "Second name: nallaagoni\n",
      "Company name: cognizant\n"
     ]
    }
   ],
   "source": [
    "str1='omkar.nallaagoni@cognizant.com'\n",
    "fir=str1.index('.')\n",
    "sec=str1.index(\"@\")\n",
    "thir=str1.index('.',fir+1)\n",
    "print(f\"First name: {str1[:fir]}\")\n",
    "print(f\"Second name: {str1[fir+1:sec]}\")\n",
    "print(f\"Company name: {str1[sec+1:thir]}\")"
   ]
  },
  {
   "cell_type": "code",
   "execution_count": 3,
   "id": "15174c02",
   "metadata": {},
   "outputs": [
    {
     "name": "stdout",
     "output_type": "stream",
     "text": [
      "First name: virat\n",
      "Second name: kohli\n",
      "Company name: bcci\n"
     ]
    }
   ],
   "source": [
    "str1='virat.kohli@bcci.com'\n",
    "fir=str1.index('.')\n",
    "sec=str1.index(\"@\")\n",
    "thir=str1.index('.',fir+1)\n",
    "print(f\"First name: {str1[:fir]}\")\n",
    "print(f\"Second name: {str1[fir+1:sec]}\")\n",
    "print(f\"Company name: {str1[sec+1:thir]}\")"
   ]
  },
  {
   "cell_type": "code",
   "execution_count": 20,
   "id": "a53d5700",
   "metadata": {},
   "outputs": [
    {
     "name": "stdout",
     "output_type": "stream",
     "text": [
      "Num: 3\n",
      "Decimal: 1489\n"
     ]
    }
   ],
   "source": [
    "str1='3.1489'\n",
    "print(f'Num: {str1[0:str1.find(\".\")]}')\n",
    "print(f'Decimal: {str1[str1.find(\".\")+1:]}')"
   ]
  },
  {
   "cell_type": "markdown",
   "id": "b1c215a7",
   "metadata": {},
   "source": [
    "# startswith - endswith\n",
    "- It checks whether it starts with the specified object"
   ]
  },
  {
   "cell_type": "code",
   "execution_count": 22,
   "id": "050a8a59",
   "metadata": {},
   "outputs": [
    {
     "data": {
      "text/plain": [
       "['__add__',\n",
       " '__class__',\n",
       " '__contains__',\n",
       " '__delattr__',\n",
       " '__dir__',\n",
       " '__doc__',\n",
       " '__eq__',\n",
       " '__format__',\n",
       " '__ge__',\n",
       " '__getattribute__',\n",
       " '__getitem__',\n",
       " '__getnewargs__',\n",
       " '__getstate__',\n",
       " '__gt__',\n",
       " '__hash__',\n",
       " '__init__',\n",
       " '__init_subclass__',\n",
       " '__iter__',\n",
       " '__le__',\n",
       " '__len__',\n",
       " '__lt__',\n",
       " '__mod__',\n",
       " '__mul__',\n",
       " '__ne__',\n",
       " '__new__',\n",
       " '__reduce__',\n",
       " '__reduce_ex__',\n",
       " '__repr__',\n",
       " '__rmod__',\n",
       " '__rmul__',\n",
       " '__setattr__',\n",
       " '__sizeof__',\n",
       " '__str__',\n",
       " '__subclasshook__',\n",
       " 'capitalize',\n",
       " 'casefold',\n",
       " 'center',\n",
       " 'count',\n",
       " 'encode',\n",
       " 'endswith',\n",
       " 'expandtabs',\n",
       " 'find',\n",
       " 'format',\n",
       " 'format_map',\n",
       " 'index',\n",
       " 'isalnum',\n",
       " 'isalpha',\n",
       " 'isascii',\n",
       " 'isdecimal',\n",
       " 'isdigit',\n",
       " 'isidentifier',\n",
       " 'islower',\n",
       " 'isnumeric',\n",
       " 'isprintable',\n",
       " 'isspace',\n",
       " 'istitle',\n",
       " 'isupper',\n",
       " 'join',\n",
       " 'ljust',\n",
       " 'lower',\n",
       " 'lstrip',\n",
       " 'maketrans',\n",
       " 'partition',\n",
       " 'removeprefix',\n",
       " 'removesuffix',\n",
       " 'replace',\n",
       " 'rfind',\n",
       " 'rindex',\n",
       " 'rjust',\n",
       " 'rpartition',\n",
       " 'rsplit',\n",
       " 'rstrip',\n",
       " 'split',\n",
       " 'splitlines',\n",
       " 'startswith',\n",
       " 'strip',\n",
       " 'swapcase',\n",
       " 'title',\n",
       " 'translate',\n",
       " 'upper',\n",
       " 'zfill']"
      ]
     },
     "execution_count": 22,
     "metadata": {},
     "output_type": "execute_result"
    }
   ],
   "source": [
    "dir('')"
   ]
  },
  {
   "cell_type": "code",
   "execution_count": 42,
   "id": "eedd6307",
   "metadata": {},
   "outputs": [
    {
     "data": {
      "text/plain": [
       "False"
      ]
     },
     "execution_count": 42,
     "metadata": {},
     "output_type": "execute_result"
    }
   ],
   "source": [
    "str1='78994561223'\n",
    "#str1.isnumeric()\n",
    "str1.isalnum()\n",
    "#str1.isalpha()"
   ]
  },
  {
   "cell_type": "code",
   "execution_count": 40,
   "id": "b478efab",
   "metadata": {},
   "outputs": [
    {
     "name": "stdout",
     "output_type": "stream",
     "text": [
      "7899456122kasfJKFHKSD3\n"
     ]
    }
   ],
   "source": [
    "print(str1.swapcase())"
   ]
  },
  {
   "cell_type": "code",
   "execution_count": 56,
   "id": "5bfad055",
   "metadata": {},
   "outputs": [
    {
     "name": "stdout",
     "output_type": "stream",
     "text": [
      "['hai', 'hello', 'how', 'are', 'you']\n",
      "['hai hello how are you']\n"
     ]
    }
   ],
   "source": [
    "str1='hai hello how are you'\n",
    "print(str1.split(' '))\n",
    "#str1='%s%dhell%%%%'\n",
    "print(str1.split('%'))"
   ]
  },
  {
   "cell_type": "code",
   "execution_count": 57,
   "id": "8fb45ed7",
   "metadata": {},
   "outputs": [],
   "source": [
    "#WAP to find longest and shortest word in given text\n",
    "\n",
    "#WAP to find most repeated word in a given sentence\n",
    "\n",
    "#WAP out of 3 strings 'hyd' 'banglr' 'mumbai' which is greater and which is lower"
   ]
  },
  {
   "cell_type": "code",
   "execution_count": 66,
   "id": "43c20db9",
   "metadata": {},
   "outputs": [
    {
     "data": {
      "text/plain": [
       "'hai hell'"
      ]
     },
     "execution_count": 66,
     "metadata": {},
     "output_type": "execute_result"
    }
   ],
   "source": [
    "str1.split('o')[0]"
   ]
  },
  {
   "cell_type": "code",
   "execution_count": null,
   "id": "33e0a56f",
   "metadata": {},
   "outputs": [],
   "source": [
    "docsting\n",
    "type\n",
    "max\n",
    "min\n",
    "len\n",
    "addition of two strings (concatenation)\n",
    "multiplication\n",
    "subtracton\n",
    "division\n",
    "in operator for loop\n",
    "index\n",
    "mutable condition\n",
    "slice\n",
    "string methods\n",
    "    capitalize/upper/lower/casefold\n",
    "    index/find\n",
    "    count\n",
    "    replace\n",
    "    lstrip/rstrip/strip\n",
    "    split\n",
    "    "
   ]
  }
 ],
 "metadata": {
  "kernelspec": {
   "display_name": "Python 3 (ipykernel)",
   "language": "python",
   "name": "python3"
  },
  "language_info": {
   "codemirror_mode": {
    "name": "ipython",
    "version": 3
   },
   "file_extension": ".py",
   "mimetype": "text/x-python",
   "name": "python",
   "nbconvert_exporter": "python",
   "pygments_lexer": "ipython3",
   "version": "3.11.4"
  }
 },
 "nbformat": 4,
 "nbformat_minor": 5
}
