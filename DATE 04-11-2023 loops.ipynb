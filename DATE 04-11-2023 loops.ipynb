{
 "cells": [
  {
   "cell_type": "markdown",
   "id": "4a4cc3d1",
   "metadata": {},
   "source": [
    "# Loops\n",
    "It is used to perform iterations on an operation which was defined inside the loop.\n",
    "- How will you go into the loop\n",
    "- How much time it will stay in loop\n",
    "- When it will come out of loop\n",
    "\n",
    "## Requirements:\n",
    "\n",
    "- Initialization\n",
    "- Increment/Decrement\n",
    "- Condition to stop the loop"
   ]
  },
  {
   "cell_type": "markdown",
   "id": "e434d2cd",
   "metadata": {},
   "source": [
    "for i in range(stop)\n",
    "- in the bracket if we have only single value that is considered as the stop value\n",
    "- the default value always start with 0 if not specified\n",
    "- python index always start with 0\n",
    "- if direction sign is not mentioned : increment (+) sign\n",
    "- if direction is positive\n"
   ]
  },
  {
   "cell_type": "markdown",
   "id": "fbd14357",
   "metadata": {},
   "source": [
    "for i in range(start,stop,step):\n",
    "start - It will specify the starting value\n",
    "stop - it will specify the stop value\n",
    "step - It will specify the step value\n",
    "\n",
    "If sign of step is +ve it will increment the value\n",
    "                   -ve it will decrement the value"
   ]
  },
  {
   "cell_type": "code",
   "execution_count": null,
   "id": "e25bc257",
   "metadata": {},
   "outputs": [],
   "source": [
    "for i in range(0,99,9):\n",
    "    print(i)"
   ]
  },
  {
   "cell_type": "code",
   "execution_count": null,
   "id": "1e3d6d52",
   "metadata": {},
   "outputs": [],
   "source": [
    "for i in range(0,20,1):\n",
    "    print(i)"
   ]
  },
  {
   "cell_type": "markdown",
   "id": "299c6fe4",
   "metadata": {},
   "source": [
    "# While loop\n",
    "\n",
    "It takes a condition and performs the iteration until the condition get satisfied."
   ]
  },
  {
   "cell_type": "code",
   "execution_count": null,
   "id": "317603e9",
   "metadata": {},
   "outputs": [],
   "source": [
    "SYNTAX:-\n",
    "\n",
    "while <condition>:\n",
    "    #code\n",
    "    #iteration"
   ]
  },
  {
   "cell_type": "code",
   "execution_count": null,
   "id": "d197e982",
   "metadata": {},
   "outputs": [],
   "source": [
    "i=0\n",
    "while True:\n",
    "    print(\"Thor killed Thanos\")\n",
    "    if i==10:\n",
    "        break\n",
    "    i+=1"
   ]
  },
  {
   "cell_type": "code",
   "execution_count": null,
   "id": "52626fad",
   "metadata": {},
   "outputs": [],
   "source": [
    "for i in range(5):\n",
    "    num=eval(input(\"enter the number: \"))\n",
    "    print(f\"Square of the number is: {num*num}\")"
   ]
  },
  {
   "cell_type": "code",
   "execution_count": null,
   "id": "6bfb41f4",
   "metadata": {},
   "outputs": [],
   "source": [
    "i=0\n",
    "while i<5:\n",
    "    num=eval(input(\"enter the number: \"))\n",
    "    print(f\"Square of the number is: {num*num}\")\n",
    "    i+=1"
   ]
  },
  {
   "cell_type": "code",
   "execution_count": null,
   "id": "b8bde4f4",
   "metadata": {},
   "outputs": [],
   "source": [
    "import random\n",
    "for i in range(5):\n",
    "    ran_num=random.randint(10,20)\n",
    "    print(f'Sqaure of number is {ran_num**2}')"
   ]
  },
  {
   "cell_type": "code",
   "execution_count": null,
   "id": "3899a192",
   "metadata": {},
   "outputs": [],
   "source": [
    "import random\n",
    "i=0\n",
    "while i<5:\n",
    "    ran_num=random.randint(10,20)\n",
    "    print(f'Sqaure of number is {ran_num**2}')\n",
    "    i+=1"
   ]
  },
  {
   "cell_type": "code",
   "execution_count": null,
   "id": "b9ac9210",
   "metadata": {},
   "outputs": [],
   "source": [
    "for i in range(10,21):\n",
    "    if i%2==0:\n",
    "        print(f'{i} is even')\n",
    "    else:\n",
    "        print(f'{i} is odd')"
   ]
  },
  {
   "cell_type": "code",
   "execution_count": null,
   "id": "69ff2139",
   "metadata": {},
   "outputs": [],
   "source": [
    "i=10\n",
    "while i<=20:\n",
    "    if i%2==0:\n",
    "        print(f'{i} is even')\n",
    "    else:\n",
    "        print(f'{i} is odd')\n",
    "    i=i+1"
   ]
  },
  {
   "cell_type": "code",
   "execution_count": 32,
   "id": "7275c58b",
   "metadata": {},
   "outputs": [
    {
     "name": "stdout",
     "output_type": "stream",
     "text": [
      "55\n"
     ]
    }
   ],
   "source": [
    "sum=0\n",
    "for i in range(1,11):\n",
    "    sum=sum+i\n",
    "print(sum)"
   ]
  },
  {
   "cell_type": "code",
   "execution_count": 42,
   "id": "d23cfb0f",
   "metadata": {},
   "outputs": [
    {
     "name": "stdout",
     "output_type": "stream",
     "text": [
      "474\n"
     ]
    }
   ],
   "source": [
    "sum=0\n",
    "for i in range(10):\n",
    "    radom_num=random.randint(1,100)\n",
    "    sum=sum+radom_num\n",
    "print(sum)"
   ]
  },
  {
   "cell_type": "code",
   "execution_count": 43,
   "id": "d13b065f",
   "metadata": {},
   "outputs": [
    {
     "name": "stdout",
     "output_type": "stream",
     "text": [
      "552\n"
     ]
    }
   ],
   "source": [
    "sum=0\n",
    "i=0\n",
    "while i<10:\n",
    "    radom_num=random.randint(1,100)\n",
    "    sum=sum+radom_num\n",
    "    i=i+1\n",
    "print(sum)"
   ]
  },
  {
   "cell_type": "code",
   "execution_count": 62,
   "id": "b478546b",
   "metadata": {},
   "outputs": [
    {
     "name": "stdout",
     "output_type": "stream",
     "text": [
      "5\n"
     ]
    }
   ],
   "source": [
    "sum=0\n",
    "for i in range(10):\n",
    "    radom_num=random.randint(1,100)\n",
    "    if radom_num>50:    \n",
    "        sum=sum+1\n",
    "print(sum)"
   ]
  },
  {
   "cell_type": "code",
   "execution_count": null,
   "id": "10e0dad4",
   "metadata": {},
   "outputs": [],
   "source": []
  }
 ],
 "metadata": {
  "kernelspec": {
   "display_name": "Python 3 (ipykernel)",
   "language": "python",
   "name": "python3"
  },
  "language_info": {
   "codemirror_mode": {
    "name": "ipython",
    "version": 3
   },
   "file_extension": ".py",
   "mimetype": "text/x-python",
   "name": "python",
   "nbconvert_exporter": "python",
   "pygments_lexer": "ipython3",
   "version": "3.11.4"
  }
 },
 "nbformat": 4,
 "nbformat_minor": 5
}
