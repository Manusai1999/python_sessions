{
 "cells": [
  {
   "cell_type": "code",
   "execution_count": 9,
   "id": "b09271d1",
   "metadata": {},
   "outputs": [],
   "source": [
    "dq={'species': 'Humans','greet':'hi'}"
   ]
  },
  {
   "cell_type": "code",
   "execution_count": 10,
   "id": "8ac40e07",
   "metadata": {},
   "outputs": [
    {
     "ename": "TypeError",
     "evalue": "unbound method dict.popitem() needs an argument",
     "output_type": "error",
     "traceback": [
      "\u001b[1;31m---------------------------------------------------------------------------\u001b[0m",
      "\u001b[1;31mTypeError\u001b[0m                                 Traceback (most recent call last)",
      "Cell \u001b[1;32mIn[10], line 1\u001b[0m\n\u001b[1;32m----> 1\u001b[0m \u001b[38;5;28mdict\u001b[39m\u001b[38;5;241m.\u001b[39mpopitem()\n",
      "\u001b[1;31mTypeError\u001b[0m: unbound method dict.popitem() needs an argument"
     ]
    }
   ],
   "source": [
    "dict.popitem()"
   ]
  },
  {
   "cell_type": "code",
   "execution_count": 11,
   "id": "65abcd8c",
   "metadata": {},
   "outputs": [
    {
     "data": {
      "text/plain": [
       "'Humans'"
      ]
     },
     "execution_count": 11,
     "metadata": {},
     "output_type": "execute_result"
    }
   ],
   "source": [
    "dq.pop('species')"
   ]
  },
  {
   "cell_type": "code",
   "execution_count": null,
   "id": "7899a856",
   "metadata": {},
   "outputs": [],
   "source": [
    "dict.get()"
   ]
  },
  {
   "cell_type": "code",
   "execution_count": 27,
   "id": "54d894f7",
   "metadata": {},
   "outputs": [],
   "source": [
    "lst=[1,2,3,4,4]\n",
    "val=[55,66,55,88]"
   ]
  },
  {
   "cell_type": "code",
   "execution_count": 28,
   "id": "b4b2d1d5",
   "metadata": {},
   "outputs": [],
   "source": [
    "d1=dq.fromkeys(lst,val)"
   ]
  },
  {
   "cell_type": "code",
   "execution_count": 29,
   "id": "f41d3faf",
   "metadata": {},
   "outputs": [
    {
     "data": {
      "text/plain": [
       "{1: [55, 66, 55, 88],\n",
       " 2: [55, 66, 55, 88],\n",
       " 3: [55, 66, 55, 88],\n",
       " 4: [55, 66, 55, 88]}"
      ]
     },
     "execution_count": 29,
     "metadata": {},
     "output_type": "execute_result"
    }
   ],
   "source": [
    "d1"
   ]
  },
  {
   "cell_type": "markdown",
   "id": "51eb8b40",
   "metadata": {},
   "source": [
    "# setdefault"
   ]
  },
  {
   "cell_type": "code",
   "execution_count": 31,
   "id": "47a7b1d3",
   "metadata": {},
   "outputs": [
    {
     "ename": "TypeError",
     "evalue": "unbound method dict.setdefault() needs an argument",
     "output_type": "error",
     "traceback": [
      "\u001b[1;31m---------------------------------------------------------------------------\u001b[0m",
      "\u001b[1;31mTypeError\u001b[0m                                 Traceback (most recent call last)",
      "Cell \u001b[1;32mIn[31], line 1\u001b[0m\n\u001b[1;32m----> 1\u001b[0m \u001b[38;5;28mdict\u001b[39m\u001b[38;5;241m.\u001b[39msetdefault()\n",
      "\u001b[1;31mTypeError\u001b[0m: unbound method dict.setdefault() needs an argument"
     ]
    }
   ],
   "source": [
    "dict.setdefault()"
   ]
  },
  {
   "cell_type": "code",
   "execution_count": 41,
   "id": "9825cf19",
   "metadata": {},
   "outputs": [
    {
     "data": {
      "text/plain": [
       "'def'"
      ]
     },
     "execution_count": 41,
     "metadata": {},
     "output_type": "execute_result"
    }
   ],
   "source": [
    "d1.setdefault('dddd')"
   ]
  },
  {
   "cell_type": "code",
   "execution_count": 55,
   "id": "3ec24810",
   "metadata": {},
   "outputs": [],
   "source": [
    "d1.setdefault('Nareshit',['DS','AI','FS'])\n",
    "d1['Nareshit']=['DS','AI']\n",
    "d1.setdefault('city','hyd')\n",
    "d1['city']='del'"
   ]
  },
  {
   "cell_type": "code",
   "execution_count": 56,
   "id": "270612c5",
   "metadata": {},
   "outputs": [
    {
     "data": {
      "text/plain": [
       "{1: [55, 66, 55, 88],\n",
       " 2: [55, 66, 55, 88],\n",
       " 3: [55, 66, 55, 88],\n",
       " 4: [55, 66, 55, 88],\n",
       " 'dddd': 'def',\n",
       " 'Nareshit': ['DS', 'AI'],\n",
       " 'city': 'del'}"
      ]
     },
     "execution_count": 56,
     "metadata": {},
     "output_type": "execute_result"
    }
   ],
   "source": [
    "d1"
   ]
  },
  {
   "cell_type": "markdown",
   "id": "0ca49238",
   "metadata": {},
   "source": [
    "# update"
   ]
  },
  {
   "cell_type": "code",
   "execution_count": 62,
   "id": "954e0afe",
   "metadata": {},
   "outputs": [
    {
     "data": {
      "text/plain": [
       "{1: [55, 66, 55, 88],\n",
       " 2: [55, 66, 55, 88],\n",
       " 3: [55, 66, 55, 88],\n",
       " 4: [55, 66, 55, 88],\n",
       " 'dddd': 'def',\n",
       " 'Nareshit': ['DS', 'AI'],\n",
       " 'city': 'del',\n",
       " 'hii': 'hello',\n",
       " 'htf': 'fdgh'}"
      ]
     },
     "execution_count": 62,
     "metadata": {},
     "output_type": "execute_result"
    }
   ],
   "source": [
    "d2={'hii':'hello','htf':'fdgh'}\n",
    "d1.update(d2)\n",
    "d1"
   ]
  },
  {
   "cell_type": "code",
   "execution_count": 64,
   "id": "a2739721",
   "metadata": {},
   "outputs": [
    {
     "name": "stdout",
     "output_type": "stream",
     "text": [
      "{'a': -1, 'b': 2, 'c': 3, 'd': 4, 'e': '-5', 'f': -6}\n"
     ]
    }
   ],
   "source": [
    "d3={'a':1,'b':2,'c':3,'d':4}\n",
    "d4={'a':-1,'e':'-5','f':-6}\n",
    "d3.update(d4)\n",
    "print(d3)"
   ]
  },
  {
   "cell_type": "code",
   "execution_count": 30,
   "id": "462416d3",
   "metadata": {},
   "outputs": [
    {
     "data": {
      "text/plain": [
       "['__class__',\n",
       " '__class_getitem__',\n",
       " '__contains__',\n",
       " '__delattr__',\n",
       " '__delitem__',\n",
       " '__dir__',\n",
       " '__doc__',\n",
       " '__eq__',\n",
       " '__format__',\n",
       " '__ge__',\n",
       " '__getattribute__',\n",
       " '__getitem__',\n",
       " '__getstate__',\n",
       " '__gt__',\n",
       " '__hash__',\n",
       " '__init__',\n",
       " '__init_subclass__',\n",
       " '__ior__',\n",
       " '__iter__',\n",
       " '__le__',\n",
       " '__len__',\n",
       " '__lt__',\n",
       " '__ne__',\n",
       " '__new__',\n",
       " '__or__',\n",
       " '__reduce__',\n",
       " '__reduce_ex__',\n",
       " '__repr__',\n",
       " '__reversed__',\n",
       " '__ror__',\n",
       " '__setattr__',\n",
       " '__setitem__',\n",
       " '__sizeof__',\n",
       " '__str__',\n",
       " '__subclasshook__',\n",
       " 'clear',\n",
       " 'copy',\n",
       " 'fromkeys',\n",
       " 'get',\n",
       " 'items',\n",
       " 'keys',\n",
       " 'pop',\n",
       " 'popitem',\n",
       " 'setdefault',\n",
       " 'update',\n",
       " 'values']"
      ]
     },
     "execution_count": 30,
     "metadata": {},
     "output_type": "execute_result"
    }
   ],
   "source": [
    "dir(dict)"
   ]
  },
  {
   "cell_type": "markdown",
   "id": "d087e115",
   "metadata": {},
   "source": [
    "# Lambda Function"
   ]
  },
  {
   "cell_type": "code",
   "execution_count": 66,
   "id": "86ec264d",
   "metadata": {},
   "outputs": [
    {
     "name": "stdout",
     "output_type": "stream",
     "text": [
      "18\n"
     ]
    }
   ],
   "source": [
    "def add(x):\n",
    "    summ=x+x\n",
    "    print(summ)\n",
    "add(9)"
   ]
  },
  {
   "cell_type": "code",
   "execution_count": 83,
   "id": "6321dfb4",
   "metadata": {},
   "outputs": [
    {
     "name": "stdout",
     "output_type": "stream",
     "text": [
      "1\n",
      "4\n",
      "9\n",
      "16\n",
      "25\n",
      "36\n",
      "49\n",
      "64\n",
      "81\n",
      "100\n"
     ]
    }
   ],
   "source": [
    "add=lambda x: print(x*x)\n",
    "for i in range(1,11):\n",
    "    add(i)"
   ]
  },
  {
   "cell_type": "code",
   "execution_count": 102,
   "id": "8c881e0e",
   "metadata": {},
   "outputs": [
    {
     "data": {
      "text/plain": [
       "433"
      ]
     },
     "execution_count": 102,
     "metadata": {},
     "output_type": "execute_result"
    }
   ],
   "source": [
    "avg=lambda a,b,c=500: (a+b+c)//3\n",
    "avg(400,400)"
   ]
  },
  {
   "cell_type": "code",
   "execution_count": 97,
   "id": "38df5c78",
   "metadata": {},
   "outputs": [
    {
     "data": {
      "text/plain": [
       "14"
      ]
     },
     "execution_count": 97,
     "metadata": {},
     "output_type": "execute_result"
    }
   ],
   "source": [
    "cub= lambda x,y:x**y if x<10 else x+y\n",
    "cub(11,3)"
   ]
  },
  {
   "cell_type": "markdown",
   "id": "5b65cbf8",
   "metadata": {},
   "source": [
    "# if else"
   ]
  },
  {
   "cell_type": "code",
   "execution_count": 109,
   "id": "852d006c",
   "metadata": {},
   "outputs": [
    {
     "data": {
      "text/plain": [
       "14"
      ]
     },
     "execution_count": 109,
     "metadata": {},
     "output_type": "execute_result"
    }
   ],
   "source": [
    "cub= lambda x,y:x**y if x<10 else x+y\n",
    "cub(11,3)"
   ]
  },
  {
   "cell_type": "code",
   "execution_count": null,
   "id": "1dbc5ccb",
   "metadata": {},
   "outputs": [],
   "source": []
  },
  {
   "cell_type": "code",
   "execution_count": 115,
   "id": "e8067b31",
   "metadata": {},
   "outputs": [
    {
     "name": "stdout",
     "output_type": "stream",
     "text": [
      "[16, 256, 1296, 4096, 10000]\n",
      "[1, 27, 125, 343, 729]\n"
     ]
    }
   ],
   "source": [
    "even=[]\n",
    "odd=[]\n",
    "squa=lambda a:even.append(a**4) if a%2==0 else odd.append(a**3)\n",
    "num=[1,2,3,4,5,6,7,8,9,10]\n",
    "list(map(squa,num))\n",
    "print(even)\n",
    "print(odd)"
   ]
  },
  {
   "cell_type": "code",
   "execution_count": null,
   "id": "776a955a",
   "metadata": {},
   "outputs": [],
   "source": []
  }
 ],
 "metadata": {
  "kernelspec": {
   "display_name": "Python 3 (ipykernel)",
   "language": "python",
   "name": "python3"
  },
  "language_info": {
   "codemirror_mode": {
    "name": "ipython",
    "version": 3
   },
   "file_extension": ".py",
   "mimetype": "text/x-python",
   "name": "python",
   "nbconvert_exporter": "python",
   "pygments_lexer": "ipython3",
   "version": "3.11.4"
  }
 },
 "nbformat": 4,
 "nbformat_minor": 5
}
