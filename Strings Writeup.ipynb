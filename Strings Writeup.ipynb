{
 "cells": [
  {
   "cell_type": "markdown",
   "id": "203b9bec",
   "metadata": {},
   "source": [
    "Strings are charcters sequence arranged inside of single or double or triple quotes."
   ]
  },
  {
   "cell_type": "markdown",
   "id": "a2925294",
   "metadata": {},
   "source": [
    "Read strings:\n"
   ]
  },
  {
   "cell_type": "markdown",
   "id": "592df92e",
   "metadata": {},
   "source": [
    "doctring:\n",
    "Docstring is used to provide information about the object to which it is attached."
   ]
  },
  {
   "cell_type": "code",
   "execution_count": 9,
   "id": "2a7479f5",
   "metadata": {},
   "outputs": [
    {
     "name": "stdout",
     "output_type": "stream",
     "text": [
      "Help on function my_function in module __main__:\n",
      "\n",
      "my_function()\n",
      "    This is a one-line docstring.\n",
      "\n"
     ]
    }
   ],
   "source": [
    "def my_function():\n",
    "    \"\"\"This is a one-line docstring.\"\"\"\n",
    "help(my_function)"
   ]
  },
  {
   "cell_type": "markdown",
   "id": "38ff69d3",
   "metadata": {},
   "source": [
    "type:\n",
    "It "
   ]
  },
  {
   "cell_type": "code",
   "execution_count": null,
   "id": "134a05d1",
   "metadata": {},
   "outputs": [],
   "source": []
  }
 ],
 "metadata": {
  "kernelspec": {
   "display_name": "Python 3 (ipykernel)",
   "language": "python",
   "name": "python3"
  },
  "language_info": {
   "codemirror_mode": {
    "name": "ipython",
    "version": 3
   },
   "file_extension": ".py",
   "mimetype": "text/x-python",
   "name": "python",
   "nbconvert_exporter": "python",
   "pygments_lexer": "ipython3",
   "version": "3.11.4"
  }
 },
 "nbformat": 4,
 "nbformat_minor": 5
}
