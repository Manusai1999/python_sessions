{
 "cells": [
  {
   "cell_type": "markdown",
   "id": "dc509173",
   "metadata": {},
   "source": [
    "# Exception Handling"
   ]
  },
  {
   "cell_type": "markdown",
   "id": "3d101f82",
   "metadata": {},
   "source": [
    "Suppose 500 lines of code is written.\n",
    "At 200 line there is an error.\n",
    "This error might not impact the code. So the aim is to make it optional. \n",
    "For that we will use \"Exception Handling\""
   ]
  },
  {
   "cell_type": "markdown",
   "id": "e652c0fe",
   "metadata": {},
   "source": [
    "try - except\n",
    "- there are two blocks\n",
    "- one \"try\" block\n",
    "- one is \"exception\" block\n",
    "- your code will be in try block\n",
    "- error capture will happen in except block\n",
    "- indentation : space"
   ]
  },
  {
   "cell_type": "markdown",
   "id": "7fd13cdc",
   "metadata": {},
   "source": [
    "# Try and Exception"
   ]
  },
  {
   "cell_type": "code",
   "execution_count": 26,
   "id": "f64a971a",
   "metadata": {},
   "outputs": [
    {
     "ename": "AttributeError",
     "evalue": "'int' object has no attribute 'isdigit'",
     "output_type": "error",
     "traceback": [
      "\u001b[1;31m---------------------------------------------------------------------------\u001b[0m",
      "\u001b[1;31mTypeError\u001b[0m                                 Traceback (most recent call last)",
      "Cell \u001b[1;32mIn[26], line 6\u001b[0m\n\u001b[0;32m      5\u001b[0m num3\u001b[38;5;241m=\u001b[39m\u001b[38;5;241m10\u001b[39m\n\u001b[1;32m----> 6\u001b[0m \u001b[38;5;28msum\u001b[39m\u001b[38;5;241m=\u001b[39mnum1\u001b[38;5;241m+\u001b[39mnum2\u001b[38;5;241m+\u001b[39mnum3\n\u001b[0;32m      7\u001b[0m \u001b[38;5;28mprint\u001b[39m(\u001b[38;5;28msum\u001b[39m) \n",
      "\u001b[1;31mTypeError\u001b[0m: unsupported operand type(s) for +: 'int' and 'str'",
      "\nDuring handling of the above exception, another exception occurred:\n",
      "\u001b[1;31mAttributeError\u001b[0m                            Traceback (most recent call last)",
      "Cell \u001b[1;32mIn[26], line 10\u001b[0m\n\u001b[0;32m      8\u001b[0m \u001b[38;5;66;03m# Error explanation is defined in the \"except\" block\u001b[39;00m\n\u001b[0;32m      9\u001b[0m \u001b[38;5;28;01mexcept\u001b[39;00m:\n\u001b[1;32m---> 10\u001b[0m     \u001b[38;5;28;01mif\u001b[39;00m(num1\u001b[38;5;241m.\u001b[39misdigit):\n\u001b[0;32m     11\u001b[0m         \u001b[38;5;28mprint\u001b[39m(\u001b[38;5;124m\"\u001b[39m\u001b[38;5;124mError is present\u001b[39m\u001b[38;5;124m\"\u001b[39m)\n\u001b[0;32m     13\u001b[0m     \u001b[38;5;28mprint\u001b[39m(\u001b[38;5;124m\"\u001b[39m\u001b[38;5;124mError is present\u001b[39m\u001b[38;5;124m\"\u001b[39m)\n",
      "\u001b[1;31mAttributeError\u001b[0m: 'int' object has no attribute 'isdigit'"
     ]
    }
   ],
   "source": [
    "# The code that is to make optional is defined in the \"try\" block\n",
    "try:\n",
    "    num1=20\n",
    "    num2=\"hasd\"\n",
    "    num3=10\n",
    "    sum=num1+num2+num3\n",
    "    print(sum) \n",
    "# Error explanation is defined in the \"except\" block\n",
    "except:\n",
    "    if(num1.isdigit):\n",
    "        print(\"Error is present\")\n",
    "    \n",
    "    print(\"Error is present\")"
   ]
  },
  {
   "cell_type": "code",
   "execution_count": 15,
   "id": "b1ab86ac",
   "metadata": {},
   "outputs": [
    {
     "name": "stdout",
     "output_type": "stream",
     "text": [
      "False\n"
     ]
    }
   ],
   "source": [
    "if(num1.isdigit):\n",
    "    ab=num1.isdigit()\n",
    "    print(ab)"
   ]
  },
  {
   "cell_type": "code",
   "execution_count": 27,
   "id": "68ccae94",
   "metadata": {},
   "outputs": [
    {
     "name": "stdout",
     "output_type": "stream",
     "text": [
      "unsupported operand type(s) for +: 'int' and 'str'\n",
      "Error is present\n"
     ]
    }
   ],
   "source": [
    "try:\n",
    "    num1=20\n",
    "    num2=\"hasd\"\n",
    "    num3=10\n",
    "    sum=num1+num2+num3\n",
    "    print(sum) \n",
    "# Error explanation is defined in the \"except\" block\n",
    "# To provide the error raised as same\n",
    "except Exception as e:\n",
    "    print(e)\n",
    "    \n",
    "    print(\"Error is present\")"
   ]
  },
  {
   "cell_type": "code",
   "execution_count": 41,
   "id": "d0fc1411",
   "metadata": {},
   "outputs": [
    {
     "name": "stdout",
     "output_type": "stream",
     "text": [
      "Enter the input1: 45\n",
      "Enter the input2: 'fdjf'\n",
      "Enter the input3: \n",
      "invalid syntax (<string>, line 0)\n",
      "hurray this is another exception block\n"
     ]
    }
   ],
   "source": [
    "try:\n",
    "    num1=eval(input(\"Enter the input1: \"))\n",
    "    num2=eval(input(\"Enter the input2: \"))\n",
    "    num3=eval(input(\"Enter the input3: \"))\n",
    "    avg=(num1+num2+num3)/3\n",
    "    print(f'Average is {avg:.2f}')\n",
    "except Exception as e:\n",
    "    print(e)\n",
    "    print(\"hurray this is another exception block\")"
   ]
  },
  {
   "cell_type": "markdown",
   "id": "9105a147",
   "metadata": {},
   "source": [
    "WAP to take input and give square of that number"
   ]
  },
  {
   "cell_type": "code",
   "execution_count": 39,
   "id": "a86178f3",
   "metadata": {},
   "outputs": [
    {
     "name": "stdout",
     "output_type": "stream",
     "text": [
      "Enter the number3\n",
      "Square of the number is 9 \n"
     ]
    }
   ],
   "source": [
    "num=eval(input(\"Enter the number\"))\n",
    "print(f'Square of the number is {num*num} ')"
   ]
  },
  {
   "cell_type": "code",
   "execution_count": 42,
   "id": "1a0638bb",
   "metadata": {},
   "outputs": [
    {
     "name": "stdout",
     "output_type": "stream",
     "text": [
      "Enter the numbersd\n",
      "name 'sd' is not defined\n",
      "This is another error block\n"
     ]
    }
   ],
   "source": [
    "try:\n",
    "    num=eval(input(\"Enter the number\"))\n",
    "    print(f'Square of the number is {num*num} ')\n",
    "except  Exception as e:\n",
    "    print(e)\n",
    "    print(\"This is another error block\")\n",
    "    "
   ]
  },
  {
   "cell_type": "markdown",
   "id": "df3a419d",
   "metadata": {},
   "source": [
    "## Cases\n",
    "- If the entire code in the try block. Then the whole code will be executed and the exception block will be ignored.\n",
    "- If an error is present then the exception block will be executed.\n",
    "- Once the try and error block is executed then the remaining code will get executed after.\n",
    "- \"try\" and \"except\" block should be declared together completely.\n"
   ]
  },
  {
   "cell_type": "code",
   "execution_count": 48,
   "id": "bdc2cb9f",
   "metadata": {},
   "outputs": [
    {
     "name": "stdout",
     "output_type": "stream",
     "text": [
      "=================\n",
      "8\n",
      "%%%%%%%%%%%%%%%%%\n",
      "Enter the number4\n",
      "hai\n",
      "name 'num11111' is not defined\n",
      "This is another error block\n"
     ]
    }
   ],
   "source": [
    "print('=================')\n",
    "print(3+5)\n",
    "print('%%%%%%%%%%%%%%%%%')\n",
    "try:\n",
    "    num=eval(input(\"Enter the number\"))\n",
    "    print(f'Square of the number is {num,num*num11111} ')\n",
    "except  Exception as e:\n",
    "    print('hai')\n",
    "    print(e)\n",
    "    print(\"This is another error block\")\n",
    "    "
   ]
  },
  {
   "cell_type": "code",
   "execution_count": null,
   "id": "8cb35e85",
   "metadata": {},
   "outputs": [],
   "source": []
  }
 ],
 "metadata": {
  "kernelspec": {
   "display_name": "Python 3 (ipykernel)",
   "language": "python",
   "name": "python3"
  },
  "language_info": {
   "codemirror_mode": {
    "name": "ipython",
    "version": 3
   },
   "file_extension": ".py",
   "mimetype": "text/x-python",
   "name": "python",
   "nbconvert_exporter": "python",
   "pygments_lexer": "ipython3",
   "version": "3.11.4"
  }
 },
 "nbformat": 4,
 "nbformat_minor": 5
}
