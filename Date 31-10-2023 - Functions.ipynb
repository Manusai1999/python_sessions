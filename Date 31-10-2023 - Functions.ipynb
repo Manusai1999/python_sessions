{
 "cells": [
  {
   "cell_type": "markdown",
   "id": "5fbd8358",
   "metadata": {},
   "source": [
    "## Functions"
   ]
  },
  {
   "cell_type": "markdown",
   "id": "326c0c92",
   "metadata": {},
   "source": [
    "## Syntax\n",
    "##  Without Arguments"
   ]
  },
  {
   "cell_type": "code",
   "execution_count": null,
   "id": "25784d30",
   "metadata": {},
   "outputs": [],
   "source": [
    "def <function_name>():\n",
    "    # Write your code\n",
    "<function_name>  # Calling th function"
   ]
  },
  {
   "cell_type": "markdown",
   "id": "ac88d23a",
   "metadata": {},
   "source": [
    "## Programs"
   ]
  },
  {
   "cell_type": "code",
   "execution_count": null,
   "id": "302b5a23",
   "metadata": {},
   "outputs": [],
   "source": [
    "# WAP to ask user to enter 3 inputs and find average"
   ]
  },
  {
   "cell_type": "code",
   "execution_count": 3,
   "id": "a92058cc",
   "metadata": {},
   "outputs": [
    {
     "name": "stdout",
     "output_type": "stream",
     "text": [
      "Enter the number 1 1\n",
      "Enter the number 2 2\n",
      "Enter the number 3 3\n",
      "Average is 2.00\n"
     ]
    }
   ],
   "source": [
    "n1=eval(input(\"Enter the number 1 \"))\n",
    "n2=eval(input(\"Enter the number 2 \"))\n",
    "n3=eval(input(\"Enter the number 3 \"))\n",
    "avg=(n1+n2+n3)/3\n",
    "print(f\"Average is {avg:.2f}\")"
   ]
  },
  {
   "cell_type": "code",
   "execution_count": 4,
   "id": "7ed625fa",
   "metadata": {},
   "outputs": [
    {
     "name": "stdout",
     "output_type": "stream",
     "text": [
      "Enter the number 1 5\n",
      "Enter the number 2 5\n",
      "Enter the number 3 5\n",
      "Average is 5.00\n"
     ]
    }
   ],
   "source": [
    "def avg():\n",
    "    n1=eval(input(\"Enter the number 1 \"))\n",
    "    n2=eval(input(\"Enter the number 2 \"))\n",
    "    n3=eval(input(\"Enter the number 3 \"))\n",
    "    avg=(n1+n2+n3)/3\n",
    "    print(f\"Average is {avg:.2f}\")\n",
    "avg()"
   ]
  },
  {
   "cell_type": "code",
   "execution_count": 6,
   "id": "5598b14a",
   "metadata": {},
   "outputs": [
    {
     "name": "stdout",
     "output_type": "stream",
     "text": [
      "Enter the number 1: 45\n",
      "Enter the number 2: 45\n",
      "Enter the number 3: 4\n",
      "Average is 31.33\n"
     ]
    }
   ],
   "source": [
    "def avg():\n",
    "    try:\n",
    "        n1=eval(input(\"Enter the number 1: \"))\n",
    "        n2=eval(input(\"Enter the number 2: \"))\n",
    "        n3=eval(input(\"Enter the number 3: \"))\n",
    "        avg=(n1+n2+n3)/3\n",
    "        print(f\"Average is {avg:.2f}\")\n",
    "    except Exception as err:\n",
    "        print(err)\n",
    "avg()"
   ]
  },
  {
   "cell_type": "code",
   "execution_count": 7,
   "id": "b2d1d188",
   "metadata": {},
   "outputs": [],
   "source": [
    "#WAP to ask user to enter bill amount also to enter tip amount calculate total bill"
   ]
  },
  {
   "cell_type": "code",
   "execution_count": 8,
   "id": "f97247c4",
   "metadata": {},
   "outputs": [
    {
     "name": "stdout",
     "output_type": "stream",
     "text": [
      "Enter the bill amount: 500\n",
      "Enter the tip amount: 20\n",
      "Total bill is 520.00\n"
     ]
    }
   ],
   "source": [
    "bill=eval(input(\"Enter the bill amount: \"))\n",
    "tip=eval(input(\"Enter the tip amount: \"))\n",
    "total=bill+tip\n",
    "print(f\"Total bill is {total:.2f}\")"
   ]
  },
  {
   "cell_type": "code",
   "execution_count": 9,
   "id": "f5b736cd",
   "metadata": {},
   "outputs": [
    {
     "name": "stdout",
     "output_type": "stream",
     "text": [
      "Enter the bill amount: 500\n",
      "Enter the tip amount: 20\n",
      "Total bill is 520.00\n"
     ]
    }
   ],
   "source": [
    "def bill():\n",
    "    bill=eval(input(\"Enter the bill amount: \"))\n",
    "    tip=eval(input(\"Enter the tip amount: \"))\n",
    "    total=bill+tip\n",
    "    print(f\"Total bill is {total:.2f}\")\n",
    "bill()"
   ]
  },
  {
   "cell_type": "code",
   "execution_count": 12,
   "id": "63ddef31",
   "metadata": {},
   "outputs": [
    {
     "name": "stdout",
     "output_type": "stream",
     "text": [
      "Enter the bill amount: 500\n",
      "Enter the tip amount: 21\n",
      "Total bill is 521.00\n"
     ]
    }
   ],
   "source": [
    "def bill():\n",
    "    try:\n",
    "        bill=eval(input(\"Enter the bill amount: \"))\n",
    "        tip=eval(input(\"Enter the tip amount: \"))\n",
    "        total=bill+tip\n",
    "        print(f\"Total bill is {total:.2f}\")\n",
    "    except Exception as err:\n",
    "        print(err)\n",
    "bill()"
   ]
  },
  {
   "cell_type": "code",
   "execution_count": null,
   "id": "ba53b316",
   "metadata": {},
   "outputs": [],
   "source": [
    "#WAP ask user to get random number between 1 - 100. Ask whether it is even or not."
   ]
  },
  {
   "cell_type": "code",
   "execution_count": 17,
   "id": "045d656f",
   "metadata": {},
   "outputs": [
    {
     "name": "stdout",
     "output_type": "stream",
     "text": [
      "The number 57 is odd\n"
     ]
    }
   ],
   "source": [
    "import random\n",
    "num=random.randint(1,100)\n",
    "if num%2!=0:\n",
    "    print(f\"The number {num} is odd\")\n",
    "else:\n",
    "    print(f\"The number {num} is even\")"
   ]
  },
  {
   "cell_type": "code",
   "execution_count": 20,
   "id": "851709de",
   "metadata": {},
   "outputs": [
    {
     "name": "stdout",
     "output_type": "stream",
     "text": [
      "The number 38  is even\n"
     ]
    }
   ],
   "source": [
    "def evenorodd():\n",
    "    num=random.randint(1,100)\n",
    "    if num%2!=0:\n",
    "        print(f\"The number{num} is odd\")\n",
    "    else:\n",
    "        print(f\"The number {num}  is even\")\n",
    "evenorodd()"
   ]
  },
  {
   "cell_type": "code",
   "execution_count": 23,
   "id": "a80dff9d",
   "metadata": {},
   "outputs": [
    {
     "name": "stdout",
     "output_type": "stream",
     "text": [
      "The number 55 is odd\n"
     ]
    }
   ],
   "source": [
    "def evenorodd2():\n",
    "    try:\n",
    "        num=random.randint(1,100)\n",
    "        if num%2==0:\n",
    "            print(f\"The number {num} is even\")\n",
    "        else:\n",
    "            print(f\"The number {num} is odd\")\n",
    "    except Exception as err:\n",
    "        print(err)\n",
    "evenorodd2()"
   ]
  },
  {
   "cell_type": "code",
   "execution_count": null,
   "id": "397a61fd",
   "metadata": {},
   "outputs": [],
   "source": []
  },
  {
   "cell_type": "code",
   "execution_count": 30,
   "id": "c9ce1219",
   "metadata": {},
   "outputs": [
    {
     "name": "stdout",
     "output_type": "stream",
     "text": [
      "After defining addition function\n",
      "After defining subtractin function\n",
      "After defining Multiplication function\n",
      "After defining division function\n",
      "Addition is 75\n",
      "Subtaction is -503\n",
      "Multiplication is 1849\n",
      "Division is 1.0\n"
     ]
    }
   ],
   "source": [
    "def add():\n",
    "    num1=32\n",
    "    num2=43\n",
    "    print(f\"Addition is {num1+num2}\")\n",
    "print(\"After defining addition function\")\n",
    "def sub():\n",
    "    num1=42\n",
    "    num2=545\n",
    "    print(f\"Subtaction is {num1-num2}\")\n",
    "print(\"After defining subtractin function\")\n",
    "def mul():\n",
    "    num1=43\n",
    "    num2=43\n",
    "    print(f\"Multiplication is {num1*num2}\")\n",
    "print(\"After defining Multiplication function\")\n",
    "def div():\n",
    "    num1=54\n",
    "    num2=54\n",
    "    print(f\"Division is {num1/num2}\")\n",
    "print(\"After defining division function\")\n",
    "add()\n",
    "sub()\n",
    "mul()\n",
    "div()\n",
    "\n"
   ]
  },
  {
   "cell_type": "markdown",
   "id": "b7b4132a",
   "metadata": {},
   "source": [
    "## Syntax\n",
    "## With Arguments"
   ]
  },
  {
   "cell_type": "code",
   "execution_count": null,
   "id": "fdc3c41d",
   "metadata": {},
   "outputs": [],
   "source": [
    "def <function_name>(para1,para2,---,para(n)):\n",
    "    #write the code\n",
    "<funtion_name>(value1,value2----,value(n))"
   ]
  },
  {
   "cell_type": "code",
   "execution_count": 31,
   "id": "d6fc9a11",
   "metadata": {},
   "outputs": [
    {
     "name": "stdout",
     "output_type": "stream",
     "text": [
      "Addition is 66\n"
     ]
    }
   ],
   "source": [
    "def addition(n1,n2):\n",
    "    add=n1+n2\n",
    "    print(\"Addition is\",add)\n",
    "addition(23,43)"
   ]
  },
  {
   "cell_type": "code",
   "execution_count": 36,
   "id": "8d7182c2",
   "metadata": {},
   "outputs": [
    {
     "name": "stdout",
     "output_type": "stream",
     "text": [
      "Average is 200.00\n"
     ]
    }
   ],
   "source": [
    "def avg(n1,n2,n3):\n",
    "    avg=(n1+n2+n3)/3\n",
    "    print(f\"Average is {avg:.2f}\")\n",
    "avg(100,200,300)"
   ]
  },
  {
   "cell_type": "code",
   "execution_count": 3,
   "id": "6d2fc868",
   "metadata": {},
   "outputs": [
    {
     "name": "stdout",
     "output_type": "stream",
     "text": [
      "Enter the number 1 :1\n",
      "Enter the number 2 :1\n",
      "Enter the number 3 :1\n",
      "Average is 1.00\n"
     ]
    }
   ],
   "source": [
    "def avg(n1,n2,n3):\n",
    "    n1=eval(input(\"Enter the number 1 :\"))\n",
    "    n2=eval(input(\"Enter the number 2 :\"))\n",
    "    n3=eval(input(\"Enter the number 3 \"))\n",
    "    avg=(n1+n2+n3)/3\n",
    "    print(f\"Average is {avg:.2f}\")\n",
    "avg(100,200,300)"
   ]
  },
  {
   "cell_type": "code",
   "execution_count": 6,
   "id": "5aa0511d",
   "metadata": {},
   "outputs": [
    {
     "name": "stdout",
     "output_type": "stream",
     "text": [
      "23.0\n"
     ]
    }
   ],
   "source": [
    "def div(numerator,denominator):\n",
    "    result=numerator/denominator\n",
    "    print(result)\n",
    "div(denominator=100,numerator=2300)"
   ]
  },
  {
   "cell_type": "code",
   "execution_count": 8,
   "id": "2b7f070c",
   "metadata": {},
   "outputs": [
    {
     "name": "stdout",
     "output_type": "stream",
     "text": [
      "110\n"
     ]
    }
   ],
   "source": [
    "def add(n1,n2,n3=0,n4=0):\n",
    "    result=n1+n2+n3+n4\n",
    "    print(result)\n",
    "add(12,32,66)"
   ]
  },
  {
   "cell_type": "code",
   "execution_count": null,
   "id": "83bf3d47",
   "metadata": {},
   "outputs": [],
   "source": [
    "# WAP to ask user to enter number and find square\n",
    "#M-1: Write in normal way\n",
    "#M-2: Write in function without argument\n",
    "#M-3: Write in function with argument"
   ]
  },
  {
   "cell_type": "code",
   "execution_count": 1,
   "id": "7222aa72",
   "metadata": {},
   "outputs": [
    {
     "name": "stdout",
     "output_type": "stream",
     "text": [
      "Enter the number5\n",
      "Square of the number is 25\n"
     ]
    }
   ],
   "source": [
    "# M-1\n",
    "num=eval(input(\"Enter the number\"))\n",
    "print(f\"Square of the number is {num*num}\")"
   ]
  },
  {
   "cell_type": "code",
   "execution_count": 2,
   "id": "d39a47bf",
   "metadata": {},
   "outputs": [
    {
     "name": "stdout",
     "output_type": "stream",
     "text": [
      "Enter the number5\n",
      "Square of the number is 25\n"
     ]
    }
   ],
   "source": [
    "# M-2\n",
    "def square():\n",
    "    num=eval(input(\"Enter the number\"))\n",
    "    print(f\"Square of the number is {num*num}\")\n",
    "square()"
   ]
  },
  {
   "cell_type": "code",
   "execution_count": 3,
   "id": "bc1cabd3",
   "metadata": {},
   "outputs": [
    {
     "name": "stdout",
     "output_type": "stream",
     "text": [
      "Enter the number: 5\n",
      "Square of the number is 25\n"
     ]
    }
   ],
   "source": [
    "# M-3\n",
    "def square(num):\n",
    "    print(f\"Square of the number is {num*num}\")\n",
    "num=eval(input(\"Enter the number: \"))\n",
    "square(num)"
   ]
  },
  {
   "cell_type": "code",
   "execution_count": null,
   "id": "db99b32b",
   "metadata": {},
   "outputs": [],
   "source": [
    "#WAP ask user get a random number between 1-20\n",
    "#enter a number\n",
    "#Compare these two numbers\n",
    "#if both are same : print(\"You Won\")\n",
    "#else: print(\"You Lost\")\n",
    "\n",
    "#M-1: Write in normal way\n",
    "#M-2: Write in function without argument\n",
    "#M-3: Write in function with argument"
   ]
  },
  {
   "cell_type": "code",
   "execution_count": 6,
   "id": "f35b8e6b",
   "metadata": {},
   "outputs": [
    {
     "name": "stdout",
     "output_type": "stream",
     "text": [
      "Enter the number  5\n",
      "Random number is 18\n",
      "You Lost\n"
     ]
    }
   ],
   "source": [
    "import random\n",
    "num=eval(input(\"Enter the number  \"))\n",
    "ran=random.randint(1,20)\n",
    "print(f'Random number is {ran}')\n",
    "if num==ran:\n",
    "    print('You won')\n",
    "else:\n",
    "    print('You Lost')"
   ]
  },
  {
   "cell_type": "code",
   "execution_count": 7,
   "id": "73009eeb",
   "metadata": {},
   "outputs": [
    {
     "name": "stdout",
     "output_type": "stream",
     "text": [
      "Enter the number  5\n",
      "Random number is 4\n",
      "You Lost\n"
     ]
    }
   ],
   "source": [
    "def rand():\n",
    "    num=eval(input(\"Enter the number  \"))\n",
    "    ran=random.randint(1,20)\n",
    "    print(f'Random number is {ran}')\n",
    "    if num==ran:\n",
    "        print('You won')\n",
    "    else:\n",
    "        print('You Lost')\n",
    "rand()"
   ]
  },
  {
   "cell_type": "code",
   "execution_count": 9,
   "id": "b286ff45",
   "metadata": {},
   "outputs": [
    {
     "name": "stdout",
     "output_type": "stream",
     "text": [
      "Enter the number  45\n",
      "Random number is 8\n",
      "You Lost\n"
     ]
    }
   ],
   "source": [
    "def rand(num,ran):\n",
    "    print(f'Random number is {ran}')\n",
    "    if num==ran:\n",
    "        print('You won')\n",
    "    else:\n",
    "        print('You Lost')\n",
    "num=eval(input(\"Enter the number  \"))\n",
    "ran=random.randint(1,20)\n",
    "rand(num,ran)"
   ]
  },
  {
   "cell_type": "code",
   "execution_count": 10,
   "id": "f4b8ce25",
   "metadata": {},
   "outputs": [
    {
     "name": "stdout",
     "output_type": "stream",
     "text": [
      "Enter the number 5\n",
      "You lost because random number is 13\n"
     ]
    }
   ],
   "source": [
    "def rand(num):\n",
    "    ran=random.randint(1,20)\n",
    "    if num==ran:\n",
    "        print(f'You won')\n",
    "    else:\n",
    "        print(f'You lost because the random number is {ran}')\n",
    "rand(eval(input(\"Enter the number \")))"
   ]
  },
  {
   "cell_type": "markdown",
   "id": "c1a69042",
   "metadata": {},
   "source": [
    "We can pass parameters with different names. The function will take the arguments with the respective name defined while defining the function."
   ]
  },
  {
   "cell_type": "code",
   "execution_count": 19,
   "id": "0f01495a",
   "metadata": {},
   "outputs": [
    {
     "name": "stdout",
     "output_type": "stream",
     "text": [
      "Enter the number: 5\n",
      "You lost because the random number is 1\n"
     ]
    }
   ],
   "source": [
    "def rand(random_number,number):\n",
    "        if num==ran:\n",
    "            print(f'You won')\n",
    "        else:\n",
    "            print(f'You lost because the random number is {ran}')\n",
    "num=eval(input(\"Enter the number: \"))\n",
    "ran=random.randint(1,20)\n",
    "rand(num,ran)"
   ]
  },
  {
   "cell_type": "code",
   "execution_count": null,
   "id": "35e90c0e",
   "metadata": {},
   "outputs": [],
   "source": [
    "def rand(random_number,number):\n",
    "        if num==ran:\n",
    "            print(f'You won')\n",
    "        else:\n",
    "            print(f'You lost because the random number is {ran}')\n",
    "rand(eval(input(\"Enter the number: \")),random.randint(1,20))"
   ]
  },
  {
   "cell_type": "code",
   "execution_count": 20,
   "id": "a92b04cc",
   "metadata": {},
   "outputs": [],
   "source": [
    "#WAP ask user to enter the salary\n",
    "#Enter the percentage of tax\n",
    "#Calculate the total tax to pay"
   ]
  },
  {
   "cell_type": "code",
   "execution_count": 28,
   "id": "dade7e99",
   "metadata": {},
   "outputs": [
    {
     "name": "stdout",
     "output_type": "stream",
     "text": [
      "Enter the salary to be printed: 122\n",
      "Enter the percentage of tax: 454\n",
      "Enter the tax percentage in between 0 - 100\n"
     ]
    }
   ],
   "source": [
    "salary=eval(input(\"Enter the salary to be printed: \"))\n",
    "tax=eval(input(\"Enter the percentage of tax: \"))\n",
    "if tax>100:\n",
    "    print(\"Enter the tax percentage in between 0 - 100\")\n",
    "else:\n",
    "    tax_topay=salary*tax*0.01\n",
    "    print(f\"Total tax to pay is {tax_topay:.2f}\")"
   ]
  },
  {
   "cell_type": "code",
   "execution_count": 29,
   "id": "c93f2464",
   "metadata": {},
   "outputs": [
    {
     "name": "stdout",
     "output_type": "stream",
     "text": [
      "Enter the salary to be printed: 1000\n",
      "Enter the percentage of tax: 55\n",
      "Total tax to pay is 550.00\n"
     ]
    }
   ],
   "source": [
    "def total_tax(salary,tax):\n",
    "    if tax>100:\n",
    "        print(\"Enter the tax percentage in between 0 - 100\")\n",
    "    else:\n",
    "        tax_topay=salary*tax*0.01\n",
    "        print(f\"Total tax to pay is {tax_topay:.2f}\")\n",
    "salary=eval(input(\"Enter the salary to be printed: \"))\n",
    "tax=eval(input(\"Enter the percentage of tax: \"))\n",
    "total_tax(salary,tax)"
   ]
  },
  {
   "cell_type": "code",
   "execution_count": 34,
   "id": "45c2dfee",
   "metadata": {},
   "outputs": [
    {
     "name": "stdout",
     "output_type": "stream",
     "text": [
      "Enter the salary to be printed: 10000\n",
      "Enter the percentage of tax: 5\n",
      "Total tax to pay is 500.00\n"
     ]
    }
   ],
   "source": [
    "def total_tax(salary,tax):\n",
    "    if tax>100:\n",
    "        print(\"Enter the tax percentage in between 0 - 100\")\n",
    "    else:\n",
    "        tax_topay=salary*tax*0.01\n",
    "        print(f\"Total tax to pay is {tax_topay:.2f}\")\n",
    "total_tax(eval(input(\"Enter the salary to be printed: \")),tax=eval(input(\"Enter the percentage of tax: \")))"
   ]
  },
  {
   "cell_type": "code",
   "execution_count": 40,
   "id": "5292ffc6",
   "metadata": {},
   "outputs": [
    {
     "name": "stdout",
     "output_type": "stream",
     "text": [
      "King's name is Manu\n"
     ]
    }
   ],
   "source": [
    "def name(nam=\"Manu\"):\n",
    "    print(f\"King's name is {nam}\")\n",
    "name()"
   ]
  },
  {
   "cell_type": "code",
   "execution_count": 41,
   "id": "40b6b984",
   "metadata": {},
   "outputs": [],
   "source": [
    "# WAP to find area of circle"
   ]
  },
  {
   "cell_type": "code",
   "execution_count": null,
   "id": "5bfe3266",
   "metadata": {},
   "outputs": [],
   "source": [
    "import math\n",
    "pie=math.pi\n",
    "r=eval(input(\"Enter the radius of the circle: \"))\n",
    "print(f'Area of the circle is {pie*r*r}')"
   ]
  },
  {
   "cell_type": "code",
   "execution_count": 45,
   "id": "f9f9c0c7",
   "metadata": {},
   "outputs": [
    {
     "name": "stdout",
     "output_type": "stream",
     "text": [
      "Enter the radius of the circle: 1\n",
      "Area of the circle is 3.141592653589793\n"
     ]
    }
   ],
   "source": [
    "import math\n",
    "def area_circle():\n",
    "    pie=math.pi\n",
    "    r=eval(input(\"Enter the radius of the circle: \"))\n",
    "    print(f'Area of the circle is {pie*r*r}')\n",
    "r=eval(input(\"Enter the radius of the circle: \"))\n",
    "area_circle()"
   ]
  },
  {
   "cell_type": "code",
   "execution_count": 47,
   "id": "d8429d0f",
   "metadata": {},
   "outputs": [
    {
     "name": "stdout",
     "output_type": "stream",
     "text": [
      "Enter the radius of the circle: 1\n",
      "Area of the circle is 3.141592653589793\n"
     ]
    }
   ],
   "source": [
    "import math\n",
    "pie=math.pi\n",
    "def area_circle(r,pie):\n",
    "    print(f'Area of the circle is {pie*r*r}')\n",
    "r=eval(input(\"Enter the radius of the circle: \"))\n",
    "area_circle(r,pie)"
   ]
  },
  {
   "cell_type": "code",
   "execution_count": 51,
   "id": "60500b2a",
   "metadata": {},
   "outputs": [
    {
     "name": "stdout",
     "output_type": "stream",
     "text": [
      "Area of the circle is 7853.98\n"
     ]
    }
   ],
   "source": [
    "import math\n",
    "def area_circle(r=50,pie=math.pi):\n",
    "    print(f'Area of the circle is {pie*r*r:.2f}')\n",
    "area_circle()"
   ]
  },
  {
   "cell_type": "markdown",
   "id": "2c47f734",
   "metadata": {},
   "source": [
    "## Return "
   ]
  },
  {
   "cell_type": "markdown",
   "id": "2d12711c",
   "metadata": {},
   "source": [
    "It will return the specified object from the function."
   ]
  },
  {
   "cell_type": "code",
   "execution_count": 59,
   "id": "ff1e7ddf",
   "metadata": {},
   "outputs": [
    {
     "name": "stdout",
     "output_type": "stream",
     "text": [
      "Enter the radius of the circle: 100\n",
      "Area of the circle is 31415.926535897932\n",
      "100\n",
      "3.141592653589793\n",
      "31415.926535897932\n"
     ]
    }
   ],
   "source": [
    "import math\n",
    "def area_circle():\n",
    "    pie=math.pi\n",
    "    r=eval(input(\"Enter the radius of the circle: \"))\n",
    "    area=pie*r*r\n",
    "    print(f'Area of the circle is {area}')\n",
    "    return r,pie,area\n",
    "rad,pii,area=area_circle()#If we want multiple values has to be returned we use \",\" to specify the objects that are to be passed from function\n",
    "print(rad,pii,area,sep='\\n')"
   ]
  },
  {
   "cell_type": "code",
   "execution_count": 60,
   "id": "f491d5fe",
   "metadata": {},
   "outputs": [],
   "source": [
    "#WAP to ask user to enter three values \n",
    "#find the sum and average\n",
    "#Return the sum and average values"
   ]
  },
  {
   "cell_type": "code",
   "execution_count": 66,
   "id": "785e3b11",
   "metadata": {},
   "outputs": [
    {
     "name": "stdout",
     "output_type": "stream",
     "text": [
      "Enter the number1: 1\n",
      "Enter the number2: 2\n",
      "Enter the number3: 3\n",
      "Sum is 6\n",
      "Average is 2.00\n"
     ]
    }
   ],
   "source": [
    "def sum_avg(n1,n2,n3):\n",
    "    sum1=n1+n2+n3\n",
    "    avg=sum1/3\n",
    "    return sum1,avg\n",
    "n1=eval(input(\"Enter the number1: \"))\n",
    "n2=eval(input(\"Enter the number2: \"))\n",
    "n3=eval(input(\"Enter the number3: \"))\n",
    "sum1,avg=sum_avg(n1,n2,n3)\n",
    "print(f\"Sum is {sum1}\")\n",
    "print(f'Average is {avg:.02f}')"
   ]
  },
  {
   "cell_type": "code",
   "execution_count": 77,
   "id": "d2add5f1",
   "metadata": {},
   "outputs": [
    {
     "name": "stdout",
     "output_type": "stream",
     "text": [
      "Enter the number1: 465\n",
      "Enter the number2: 988\n",
      "Enter the number3: 5441\n",
      "Biggest number is 5441\n",
      "Calling function in print\n",
      "Biggest number is 5441\n"
     ]
    }
   ],
   "source": [
    "def big(n1,n2,n3):\n",
    "    if n1==n2==n3:\n",
    "        print('All values are same')\n",
    "        return n1\n",
    "    elif n1>n2 and n1>n3:\n",
    "        return n1\n",
    "    elif n2>n3:\n",
    "        return n2\n",
    "    else:\n",
    "        return n3\n",
    "n1=eval(input(\"Enter the number1: \"))\n",
    "n2=eval(input(\"Enter the number2: \"))\n",
    "n3=eval(input(\"Enter the number3: \"))\n",
    "bigg=big(n1,n2,n3)\n",
    "print(f\"Biggest number is {bigg}\")\n",
    "print(\"Calling function in print\")\n",
    "print(\"Biggest number is\",big(n1,n2,n3))"
   ]
  },
  {
   "cell_type": "code",
   "execution_count": 81,
   "id": "f2661003",
   "metadata": {},
   "outputs": [
    {
     "name": "stdout",
     "output_type": "stream",
     "text": [
      "(30, -10, 200, 0.5)\n"
     ]
    }
   ],
   "source": [
    "def agg(a,b):\n",
    "    return a+b,a-b,a*b,a/b\n",
    "value=agg(10,20)\n",
    "print(value)"
   ]
  },
  {
   "cell_type": "code",
   "execution_count": null,
   "id": "4ec9a168",
   "metadata": {},
   "outputs": [],
   "source": []
  }
 ],
 "metadata": {
  "kernelspec": {
   "display_name": "Python 3 (ipykernel)",
   "language": "python",
   "name": "python3"
  },
  "language_info": {
   "codemirror_mode": {
    "name": "ipython",
    "version": 3
   },
   "file_extension": ".py",
   "mimetype": "text/x-python",
   "name": "python",
   "nbconvert_exporter": "python",
   "pygments_lexer": "ipython3",
   "version": "3.11.4"
  }
 },
 "nbformat": 4,
 "nbformat_minor": 5
}
