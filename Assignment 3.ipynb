{
 "cells": [
  {
   "cell_type": "code",
   "execution_count": null,
   "id": "0c58b3b5",
   "metadata": {},
   "outputs": [],
   "source": [
    "1. Ask the user to enter a number. Print out the square of the number,\n",
    "Sample output is shown below.\n",
    "Enter a number: 5\n",
    "The square of 5 is 25."
   ]
  },
  {
   "cell_type": "code",
   "execution_count": null,
   "id": "581a02b4",
   "metadata": {},
   "outputs": [],
   "source": [
    "num=eval(input(\"Enter a number: \"))  #Input of the number\n",
    "print(f'Square of {num} is {num*num}')  #Printing the output of square for the given number`"
   ]
  },
  {
   "cell_type": "code",
   "execution_count": null,
   "id": "ebe42270",
   "metadata": {},
   "outputs": [],
   "source": [
    "try:                                 #Declaring the try block\n",
    "    num=eval(input(\"Enter a number: \"))  #Input of the number\n",
    "    print(f'Square of {num} is {num*num}')  #Printing the output of square for the given number\n",
    "except Exception as e:            #Declaring the except block\n",
    "    print(e)"
   ]
  },
  {
   "cell_type": "code",
   "execution_count": null,
   "id": "5a3ba568",
   "metadata": {},
   "outputs": [],
   "source": [
    "def square():\n",
    "    num=eval(input(\"Enter a number: \"))  #Input of the number\n",
    "    print(f'Square of {num} is {num*num}')  #Printing the output of square for the given number\n",
    "square()"
   ]
  },
  {
   "cell_type": "code",
   "execution_count": null,
   "id": "3b9c68fd",
   "metadata": {},
   "outputs": [],
   "source": [
    "def square(num):\n",
    "    print(f'Square of {num} is {num*num}')  #Printing the output of square for the given number\n",
    "num=eval(input(\"Enter a number: \"))  #Input of the number\n",
    "square(num)"
   ]
  },
  {
   "cell_type": "code",
   "execution_count": null,
   "id": "8e9f2238",
   "metadata": {},
   "outputs": [],
   "source": [
    "def square(num=46):\n",
    "    print(f'Square of {num} is {num*num}')  #Printing the output of square for the given number\n",
    "square()"
   ]
  },
  {
   "cell_type": "code",
   "execution_count": null,
   "id": "e13bfac0",
   "metadata": {},
   "outputs": [],
   "source": [
    "2. Ask the user to enter a number x. print out x, 2x, 3x, 4x, and 5x,\n",
    "each separated by three dashes, like below.\n",
    "Enter a number: 7\n",
    "7---14---21---28---35"
   ]
  },
  {
   "cell_type": "code",
   "execution_count": null,
   "id": "eb59bf30",
   "metadata": {},
   "outputs": [],
   "source": [
    "num=eval(input('Enter the number: '))    #Input of the number to be printed\n",
    "print(num,2*num,3*num,4*num,5*num,sep='---',end='')   #Printing the pattern"
   ]
  },
  {
   "cell_type": "code",
   "execution_count": null,
   "id": "d86882fa",
   "metadata": {},
   "outputs": [],
   "source": [
    "try:                         #Declaring the try block\n",
    "    num=eval(input('Enter the number: '))    #Input of the number to be printed\n",
    "    print(num,2*num,3*num,4*num,5*num,sep='---',end='')   #Printing the pattern\n",
    "except Exception as e:                #Declaring the except block\n",
    "    print(e)"
   ]
  },
  {
   "cell_type": "code",
   "execution_count": null,
   "id": "50a14c25",
   "metadata": {},
   "outputs": [],
   "source": [
    "def pattern():\n",
    "    num=eval(input('Enter the number: '))    #Input of the number to be printed\n",
    "    print(num,2*num,3*num,4*num,5*num,sep='---',end='')   #Printing the pattern\n",
    "pattern()"
   ]
  },
  {
   "cell_type": "code",
   "execution_count": null,
   "id": "d705cfd7",
   "metadata": {},
   "outputs": [],
   "source": [
    "def pattern(num):\n",
    "    print(num,2*num,3*num,4*num,5*num,sep='---',end='')   #Printing the patternb\n",
    "num=eval(input('Enter the number: '))    #Input of the number to be printed\n",
    "pattern(num)"
   ]
  },
  {
   "cell_type": "code",
   "execution_count": null,
   "id": "95bd8da6",
   "metadata": {},
   "outputs": [],
   "source": [
    "def pattern(num=90):\n",
    "    print(num,2*num,3*num,4*num,5*num,sep='---',end='')   #Printing the patternb\n",
    "pattern()"
   ]
  },
  {
   "cell_type": "code",
   "execution_count": null,
   "id": "6509829c",
   "metadata": {},
   "outputs": [],
   "source": [
    "3. Write a program that asks the user for a weight in kilograms and\n",
    "converts it to pounds. There are 2.2 pounds in a kilogram."
   ]
  },
  {
   "cell_type": "code",
   "execution_count": null,
   "id": "bdbfbcb1",
   "metadata": {},
   "outputs": [],
   "source": [
    "weight=eval(input('Enter the weight in KG: '))    #Input of the weight\n",
    "print(f'{weight} in kilograms is equals to {2.2*weight:.2f} in pounds')   #Printing the weight given in kilgorams as pounds"
   ]
  },
  {
   "cell_type": "code",
   "execution_count": null,
   "id": "e160b825",
   "metadata": {},
   "outputs": [],
   "source": [
    "try:                     #Declaring the try block\n",
    "    weight=eval(input('Enter the weight in KG: '))    #Input of the weight\n",
    "    print(f'{weight} in kilograms is equals to {2.2*weight:.2f} in pounds')   #Printing the weight given in kilgorams as pounds\n",
    "except Exception as e:             #Declaring the except block\n",
    "    print(e)"
   ]
  },
  {
   "cell_type": "code",
   "execution_count": null,
   "id": "e48a3b08",
   "metadata": {},
   "outputs": [],
   "source": [
    "def pound():\n",
    "    weight=eval(input('Enter the weight in KG: '))    #Input of the weight\n",
    "    print(f'{weight} in kilograms is equals to {2.2*weight:.2f} in pounds')   #Printing the weight given in kilgorams as pounds\n",
    "pound()"
   ]
  },
  {
   "cell_type": "code",
   "execution_count": null,
   "id": "48c68545",
   "metadata": {},
   "outputs": [],
   "source": [
    "def pound():\n",
    "    print(f'{weight} in kilograms is equals to {2.2*weight:.2f} in pounds')   #Printing the weight given in kilgorams as pounds\n",
    "weight=eval(input('Enter the weight in KG: '))    #Input of the weight\n",
    "pound(weight)"
   ]
  },
  {
   "cell_type": "code",
   "execution_count": null,
   "id": "5d1fa4fa",
   "metadata": {},
   "outputs": [],
   "source": [
    "def pound(weight=68):\n",
    "    print(f'{weight} in kilograms is equals to {2.2*weight:.2f} in pounds')   #Printing the weight given in kilgorams as pounds\n",
    "pound()"
   ]
  },
  {
   "cell_type": "code",
   "execution_count": null,
   "id": "94fb7fb5",
   "metadata": {},
   "outputs": [],
   "source": [
    "4. Write a program that asks the user to enter three numbers (use three\n",
    "separate input statements).Create variables called total and average\n",
    "that hold the sum and average of the three numbers and print out the\n",
    "values of total and average."
   ]
  },
  {
   "cell_type": "code",
   "execution_count": null,
   "id": "1e1a76c8",
   "metadata": {},
   "outputs": [],
   "source": [
    "num1=eval(input('Enter the first digit: '))  #Input of the first number\n",
    "num2=eval(input('Enter the second digit: ')) #Input of the second number\n",
    "num3=eval(input('Enter the third digit: '))  #Input of the third number\n",
    "sum=num1+num2+num3                           #Calculating sum of the given numbers\n",
    "avg=sum/3                                    #Calculating the average of the given numbers\n",
    "print(f'Sum is {sum}, Avg is {avg:.2f}')     #Printing the sum and average of the given numbers"
   ]
  },
  {
   "cell_type": "code",
   "execution_count": null,
   "id": "10ab8bee",
   "metadata": {},
   "outputs": [],
   "source": [
    "try:                       #Declaring the try block\n",
    "    num1=eval(input('Enter the first digit: '))  #Input of the first number\n",
    "    num2=eval(input('Enter the second digit: ')) #Input of the second number\n",
    "    num3=eval(input('Enter the third digit: '))  #Input of the third number\n",
    "    sum=num1+num2+num3                           #Calculating sum of the given numbers\n",
    "    avg=sum/3                                    #Calculating the average of the given numbers\n",
    "    print(f'Sum is {sum}, Avg is {avg:.2f}')     #Printing the sum and average of the given numbers\n",
    "except Exception as e:        #Declaring the except block\n",
    "    print(e)"
   ]
  },
  {
   "cell_type": "code",
   "execution_count": null,
   "id": "23bf3f42",
   "metadata": {},
   "outputs": [],
   "source": [
    "def sum():\n",
    "    num1=eval(input('Enter the first digit: '))  #Input of the first number\n",
    "    num2=eval(input('Enter the second digit: ')) #Input of the second number\n",
    "    num3=eval(input('Enter the third digit: '))  #Input of the third number\n",
    "    sum=num1+num2+num3                           #Calculating sum of the given numbers\n",
    "    avg=sum/3                                    #Calculating the average of the given numbers\n",
    "    print(f'Sum is {sum}, Avg is {avg:.2f}')     #Printing the sum and average of the given numbers\n",
    "sum()"
   ]
  },
  {
   "cell_type": "code",
   "execution_count": null,
   "id": "cbf02a41",
   "metadata": {},
   "outputs": [],
   "source": [
    "def sum(num1,num2,num3):\n",
    "    sum=num1+num2+num3                           #Calculating sum of the given numbers\n",
    "    avg=sum/3                                    #Calculating the average of the given numbers\n",
    "    print(f'Sum is {sum}, Avg is {avg:.2f}')     #Printing the sum and average of the given numbers\n",
    "num1=eval(input('Enter the first digit: '))  #Input of the first number\n",
    "num2=eval(input('Enter the second digit: ')) #Input of the second number\n",
    "num3=eval(input('Enter the third digit: '))  #Input of the third number\n",
    "sum(num1,num2,num3)"
   ]
  },
  {
   "cell_type": "code",
   "execution_count": null,
   "id": "b0348231",
   "metadata": {},
   "outputs": [],
   "source": [
    "def sum(num1=10,num2=10,num3=99):\n",
    "    sum=num1+num2+num3                           #Calculating sum of the given numbers\n",
    "    avg=sum/3                                    #Calculating the average of the given numbers\n",
    "    print(f'Sum is {sum}, Avg is {avg:.2f}')     #Printing the sum and average of the given numbers\n",
    "sum()"
   ]
  },
  {
   "cell_type": "code",
   "execution_count": null,
   "id": "ef7db6a5",
   "metadata": {},
   "outputs": [],
   "source": [
    "5. A lot of cell phones have tip calculators. Write one. Ask the user for\n",
    "the price of the meal and the percent tip they want to leave. Then\n",
    "print both the tip amount and the total bill with the tip included.b"
   ]
  },
  {
   "cell_type": "code",
   "execution_count": null,
   "id": "0362dc00",
   "metadata": {},
   "outputs": [],
   "source": [
    "price=eval(input('Enter the price of the meal: '))   #Input of the price of the meal\n",
    "perc=eval(input('Enter the percentage of tip you would like to leave: '))   #Input of the percentage of the tip\n",
    "tip=price*perc/100             #Calculating the tip\n",
    "total=price+tip                #Calculating the total price\n",
    "print(f'Tip amount= {tip:.2f}') #Printing the tip amount\n",
    "print(f'Total bill: {total:.2f}')  #Printing the total price of the meal"
   ]
  },
  {
   "cell_type": "code",
   "execution_count": null,
   "id": "8e287d24",
   "metadata": {},
   "outputs": [],
   "source": [
    "try:                                #Declaring the try block\n",
    "    price=eval(input('Enter the price of the meal: '))   #Input of the price of the meal\n",
    "    perc=eval(input('Enter the percentage of tip you would like to leave: '))   #Input of the percentage of the tip\n",
    "    tip=price*perc/100             #Calculating the tip\n",
    "    total=price+tip                #Calculating the total price\n",
    "    print(f'Tip amount= {tip:.2f}') #Printing the tip amount\n",
    "    print(f'Total bill: {total:.2f}')  #Printing the total price of the meal\n",
    "except Exception as e:             #Declaring the except block\n",
    "    print(e)"
   ]
  },
  {
   "cell_type": "code",
   "execution_count": null,
   "id": "36247d20",
   "metadata": {},
   "outputs": [],
   "source": [
    "def bill():\n",
    "    price=eval(input('Enter the price of the meal: '))   #Input of the price of the meal\n",
    "    perc=eval(input('Enter the percentage of tip you would like to leave: '))   #Input of the percentage of the tip\n",
    "    tip=price*perc/100             #Calculating the tip\n",
    "    total=price+tip                #Calculating the total price\n",
    "    print(f'Tip amount= {tip:.2f}') #Printing the tip amount\n",
    "    print(f'Total bill: {total:.2f}')  #Printing the total price of the meal\n",
    "bill()"
   ]
  },
  {
   "cell_type": "code",
   "execution_count": null,
   "id": "a192b5d6",
   "metadata": {},
   "outputs": [],
   "source": [
    "def bill(price,perc):\n",
    "    tip=price*perc/100             #Calculating the tip\n",
    "    total=price+tip                #Calculating the total price\n",
    "    print(f'Tip amount= {tip:.2f}') #Printing the tip amount\n",
    "    print(f'Total bill: {total:.2f}')  #Printing the total price of the meal\n",
    "price=eval(input('Enter the price of the meal: '))   #Input of the price of the meal\n",
    "perc=eval(input('Enter the percentage of tip you would like to leave: '))   #Input of the percentage of the tip\n",
    "bill(price,perc)"
   ]
  },
  {
   "cell_type": "code",
   "execution_count": null,
   "id": "9737c889",
   "metadata": {},
   "outputs": [],
   "source": [
    "def bill(price=10000,perc=10):\n",
    "    tip=price*perc/100             #Calculating the tip\n",
    "    total=price+tip                #Calculating the total price\n",
    "    print(f'Tip amount= {tip:.2f}') #Printing the tip amount\n",
    "    print(f'Total bill: {total:.2f}')  #Printing the total price of the meal\n",
    "bill()"
   ]
  },
  {
   "cell_type": "code",
   "execution_count": null,
   "id": "6b5f89e8",
   "metadata": {},
   "outputs": [],
   "source": [
    "6. Ramesh’s basic salary is input through the keyboard. His dearness allowance is 40% of\n",
    "basic salary, and house rent allowance is 20% of basic salary. Write a program to\n",
    "calculate his gross salary."
   ]
  },
  {
   "cell_type": "code",
   "execution_count": null,
   "id": "19ffb39c",
   "metadata": {},
   "outputs": [],
   "source": [
    "base=eval(input(\"Enter the basic salary: \"))      #Input of the basic salary\n",
    "dearal=base*0.4                                   #Calculating Dearness Allowance\n",
    "rental=base*0.2                                   #Calculating Rent Allowance\n",
    "gross_sal=base+dearal+rental                      #Calculating Gross Salary\n",
    "print(f\"Dearness allowance of Ramesh is {dearal:.2f}\") #Printing Dearness Allowance\n",
    "print(f'House rent allowance {rental:.2f}')            #Printing Rent Allowance\n",
    "print(f'Gross salary {gross_sal:.2f}')                 #Printing Gross Salary"
   ]
  },
  {
   "cell_type": "code",
   "execution_count": null,
   "id": "f719c39e",
   "metadata": {},
   "outputs": [],
   "source": [
    "try:                                                  #Declaring try block\n",
    "    base=eval(input(\"Enter the basic salary: \"))      #Input of the basic salary\n",
    "    dearal=base*0.4                                   #Calculating Dearness Allowance\n",
    "    rental=base*0.2                                   #Calculating Rent Allowance\n",
    "    gross_sal=base+dearal+rental                      #Calculating Gross Salary\n",
    "    print(f\"Dearness allowance of Ramesh is {dearal:.2f}\") #Printing Dearness Allowance\n",
    "    print(f'House rent allowance {rental:.2f}')            #Printing Rent Allowance\n",
    "    print(f'Gross salary {gross_sal:.2f}')                 #Printing Gross Salary\n",
    "except Exception as e:                                #Declaring except block\n",
    "    print(e)"
   ]
  },
  {
   "cell_type": "code",
   "execution_count": null,
   "id": "7295f754",
   "metadata": {},
   "outputs": [],
   "source": [
    "def allowance():\n",
    "    base=eval(input(\"Enter the basic salary: \"))      #Input of the basic salary\n",
    "    dearal=base*0.4                                   #Calculating Dearness Allowance\n",
    "    rental=base*0.2                                   #Calculating Rent Allowance\n",
    "    gross_sal=base+dearal+rental                      #Calculating Gross Salary\n",
    "    print(f\"Dearness allowance of Ramesh is {dearal:.2f}\") #Printing Dearness Allowance\n",
    "    print(f'House rent allowance {rental:.2f}')            #Printing Rent Allowance\n",
    "    print(f'Gross salary {gross_sal:.2f}')                 #Printing Gross Salary\n",
    "allowance()"
   ]
  },
  {
   "cell_type": "code",
   "execution_count": null,
   "id": "0299e71a",
   "metadata": {},
   "outputs": [],
   "source": [
    "def allowance(base):\n",
    "    dearal=base*0.4                                   #Calculating Dearness Allowance\n",
    "    rental=base*0.2                                   #Calculating Rent Allowance\n",
    "    gross_sal=base+dearal+rental                      #Calculating Gross Salary\n",
    "    print(f\"Dearness allowance of Ramesh is {dearal:.2f}\") #Printing Dearness Allowance\n",
    "    print(f'House rent allowance {rental:.2f}')            #Printing Rent Allowance\n",
    "    print(f'Gross salary {gross_sal:.2f}')                 #Printing Gross Salary\n",
    "base=eval(input(\"Enter the basic salary: \"))      #Input of the basic salary\n",
    "allowance(base)"
   ]
  },
  {
   "cell_type": "code",
   "execution_count": null,
   "id": "49e4c7db",
   "metadata": {},
   "outputs": [],
   "source": [
    "def allowance(base=30000):\n",
    "    dearal=base*0.4                                   #Calculating Dearness Allowance\n",
    "    rental=base*0.2                                   #Calculating Rent Allowance\n",
    "    gross_sal=base+dearal+rental                      #Calculating Gross Salary\n",
    "    print(f\"Dearness allowance of Ramesh is {dearal:.2f}\") #Printing Dearness Allowance\n",
    "    print(f'House rent allowance {rental:.2f}')            #Printing Rent Allowance\n",
    "    print(f'Gross salary {gross_sal:.2f}')                 #Printing Gross Salary\n",
    "allowance()"
   ]
  },
  {
   "cell_type": "code",
   "execution_count": null,
   "id": "ab91ee7e",
   "metadata": {},
   "outputs": [],
   "source": [
    "7. The distance between two cities (in km.) is input through the keyboard. Write a program\n",
    "to convert and print this distance in meters, feet, inches and centimeters."
   ]
  },
  {
   "cell_type": "code",
   "execution_count": null,
   "id": "cfc55c73",
   "metadata": {},
   "outputs": [],
   "source": [
    "dist=eval(input(\"Enter the distance between cities: \")) #Input of the distance between cities\n",
    "meter=dist*1000                                         #Calculating distance in meters\n",
    "feet=dist*3280.8399                                     #Calculating distance in feet\n",
    "inch=dist*39370.0787                                    #Calculating distance in inches\n",
    "cent=dist*100000                                        #Calculating distance in centimeters\n",
    "print(f'Distance in meters is {meter:.2f}')             #Printing Distance in meters\n",
    "print(f'Distance in feet is {feet:.2f}')                #Printing Distance in feet\n",
    "print(f'Distance in inches is {inch:.2f}')              #Printing Distance in inches\n",
    "print(f'Distance in centimeters is {cent:.2f}')         #Printing Distance in centimeters"
   ]
  },
  {
   "cell_type": "code",
   "execution_count": null,
   "id": "a6f3754d",
   "metadata": {},
   "outputs": [],
   "source": [
    "try:                                                        #Declaring try block\n",
    "    dist=eval(input(\"Enter the distance between cities: \")) #Input of the distance between cities\n",
    "    meter=dist*1000                                         #Calculating distance in meters\n",
    "    feet=dist*3280.8399                                     #Calculating distance in feet\n",
    "    inch=dist*39370.0787                                    #Calculating distance in inches\n",
    "    cent=dist*100000                                        #Calculating distance in centimeters\n",
    "    print(f'Distance in meters is {meter:.2f}')             #Printing Distance in meters\n",
    "    print(f'Distance in feet is {feet:.2f}')                #Printing Distance in feet\n",
    "    print(f'Distance in inches is {inch:.2f}')              #Printing Distance in inches\n",
    "    print(f'Distance in centimeters is {cent:.2f}')         #Printing Distance in centimeters\n",
    "except Exception as e:                                      #Declaring except block\n",
    "    print(e)                                                #Printing the system defined error"
   ]
  },
  {
   "cell_type": "code",
   "execution_count": null,
   "id": "bd0c7764",
   "metadata": {},
   "outputs": [],
   "source": [
    "def distance():\n",
    "    dist=eval(input(\"Enter the distance between cities: \")) #Input of the distance between cities\n",
    "    meter=dist*1000                                         #Calculating distance in meters\n",
    "    feet=dist*3280.8399                                     #Calculating distance in feet\n",
    "    inch=dist*39370.0787                                    #Calculating distance in inches\n",
    "    cent=dist*100000                                        #Calculating distance in centimeters\n",
    "    print(f'Distance in meters is {meter:.2f}')             #Printing Distance in meters\n",
    "    print(f'Distance in feet is {feet:.2f}')                #Printing Distance in feet\n",
    "    print(f'Distance in inches is {inch:.2f}')              #Printing Distance in inches\n",
    "    print(f'Distance in centimeters is {cent:.2f}')         #Printing Distance in centimeters\n",
    "distance()"
   ]
  },
  {
   "cell_type": "code",
   "execution_count": null,
   "id": "9d47407c",
   "metadata": {},
   "outputs": [],
   "source": [
    "def distance(dist):\n",
    "    meter=dist*1000                                         #Calculating distance in meters\n",
    "    feet=dist*3280.8399                                     #Calculating distance in feet\n",
    "    inch=dist*39370.0787                                    #Calculating distance in inches\n",
    "    cent=dist*100000                                        #Calculating distance in centimeters\n",
    "    print(f'Distance in meters is {meter:.2f}')             #Printing Distance in meters\n",
    "    print(f'Distance in feet is {feet:.2f}')                #Printing Distance in feet\n",
    "    print(f'Distance in inches is {inch:.2f}')              #Printing Distance in inches\n",
    "    print(f'Distance in centimeters is {cent:.2f}')         #Printing Distance in centimeters\n",
    "dist=eval(input(\"Enter the distance between cities: \")) #Input of the distance between cities\n",
    "distance(dist)"
   ]
  },
  {
   "cell_type": "code",
   "execution_count": null,
   "id": "2d24551d",
   "metadata": {},
   "outputs": [],
   "source": [
    "def distance(dist=100):\n",
    "    meter=dist*1000                                         #Calculating distance in meters\n",
    "    feet=dist*3280.8399                                     #Calculating distance in feet\n",
    "    inch=dist*39370.0787                                    #Calculating distance in inches\n",
    "    cent=dist*100000                                        #Calculating distance in centimeters\n",
    "    print(f'Distance in meters is {meter:.2f}')             #Printing Distance in meters\n",
    "    print(f'Distance in feet is {feet:.2f}')                #Printing Distance in feet\n",
    "    print(f'Distance in inches is {inch:.2f}')              #Printing Distance in inches\n",
    "    print(f'Distance in centimeters is {cent:.2f}')         #Printing Distance in centimeters\n",
    "distance()"
   ]
  },
  {
   "cell_type": "code",
   "execution_count": null,
   "id": "e2aee0da",
   "metadata": {},
   "outputs": [],
   "source": [
    "8. If the marks obtained by a student in five different subjects are input through the\n",
    "keyboard, find out the aggregate marks and percentage marks obtained by the student.\n",
    "Assume that the maximum marks that can be obtained by a student in each subject is\n",
    "100"
   ]
  },
  {
   "cell_type": "code",
   "execution_count": null,
   "id": "f015ff07",
   "metadata": {},
   "outputs": [],
   "source": [
    "s1=eval(input(\"Enter the marks of the subject 1: \"))   #Input of the 1st subject\n",
    "s2=eval(input(\"Enter the marks of the subject 2: \"))   #Input of the 2nd subject\n",
    "s3=eval(input(\"Enter the marks of the subject 3: \"))   #Input of the 3rd subject\n",
    "s4=eval(input(\"Enter the marks of the subject 4: \"))   #Input of the 4th subject\n",
    "s5=eval(input(\"Enter the marks of the subject 5: \"))   #Input of the 5th subject\n",
    "total=s1+s2+s3+s4+s5                                   #Calculating total marks\n",
    "agg=total/5                                            #Calculating Aggregate marks of the student\n",
    "perc=(total/500)*100                                   #Calculating percentage of marks\n",
    "print(f\"Aggregate marks {agg:.2f}\")                    #Printing Aggregate Marks\n",
    "print(f\"Percentage of marks obtained {perc:.2f}\")      #Printing Percentage of marks obtained"
   ]
  },
  {
   "cell_type": "code",
   "execution_count": null,
   "id": "2507a884",
   "metadata": {},
   "outputs": [],
   "source": [
    "try:                                                       #Declaring try block\n",
    "    s1=eval(input(\"Enter the marks of the subject 1: \"))   #Input of the 1st subject\n",
    "    s2=eval(input(\"Enter the marks of the subject 2: \"))   #Input of the 2nd subject\n",
    "    s3=eval(input(\"Enter the marks of the subject 3: \"))   #Input of the 3rd subject\n",
    "    s4=eval(input(\"Enter the marks of the subject 4: \"))   #Input of the 4th subject\n",
    "    s5=eval(input(\"Enter the marks of the subject 5: \"))   #Input of the 5th subject\n",
    "    total=s1+s2+s3+s4+s5                                   #Calculating total marks\n",
    "    agg=total/5                                            #Calculating Aggregate marks of the student\n",
    "    perc=(total/500)*100                                   #Calculating percentage of marks\n",
    "    print(f\"Aggregate marks {agg:.2f}\")                    #Printing Aggregate Marks\n",
    "    print(f\"Percentage of marks obtained {perc:.2f}\")      #Printing Percentage of marks obtained\n",
    "except Exception as e:                                     #Declaring except block\n",
    "    print(e)                                               #Printing the system defined error"
   ]
  },
  {
   "cell_type": "code",
   "execution_count": null,
   "id": "04c79d30",
   "metadata": {},
   "outputs": [],
   "source": [
    "def marks_per():\n",
    "    s1=eval(input(\"Enter the marks of the subject 1: \"))   #Input of the 1st subject\n",
    "    s2=eval(input(\"Enter the marks of the subject 2: \"))   #Input of the 2nd subject\n",
    "    s3=eval(input(\"Enter the marks of the subject 3: \"))   #Input of the 3rd subject\n",
    "    s4=eval(input(\"Enter the marks of the subject 4: \"))   #Input of the 4th subject\n",
    "    s5=eval(input(\"Enter the marks of the subject 5: \"))   #Input of the 5th subject\n",
    "    total=s1+s2+s3+s4+s5                                   #Calculating total marks\n",
    "    agg=total/5                                            #Calculating Aggregate marks of the student\n",
    "    perc=(total/500)*100                                   #Calculating percentage of marks\n",
    "    print(f\"Aggregate marks {agg:.2f}\")                    #Printing Aggregate Marks\n",
    "    print(f\"Percentage of marks obtained {perc:.2f}\")      #Printing Percentage of marks obtained\n",
    "marks_per()"
   ]
  },
  {
   "cell_type": "code",
   "execution_count": null,
   "id": "4df72967",
   "metadata": {},
   "outputs": [],
   "source": [
    "def marks_per():\n",
    "    total=s1+s2+s3+s4+s5                                   #Calculating total marks\n",
    "    agg=total/5                                            #Calculating Aggregate marks of the student\n",
    "    perc=(total/500)*100                                   #Calculating percentage of marks\n",
    "    print(f\"Aggregate marks {agg:.2f}\")                    #Printing Aggregate Marks\n",
    "    print(f\"Percentage of marks obtained {perc:.2f}\")      #Printing Percentage of marks obtained\n",
    "s1=eval(input(\"Enter the marks of the subject 1: \"))   #Input of the 1st subject\n",
    "s2=eval(input(\"Enter the marks of the subject 2: \"))   #Input of the 2nd subject\n",
    "s3=eval(input(\"Enter the marks of the subject 3: \"))   #Input of the 3rd subject\n",
    "s4=eval(input(\"Enter the marks of the subject 4: \"))   #Input of the 4th subject\n",
    "s5=eval(input(\"Enter the marks of the subject 5: \"))   #Input of the 5th subject\n",
    "marks_per()"
   ]
  },
  {
   "cell_type": "code",
   "execution_count": null,
   "id": "1d81c157",
   "metadata": {},
   "outputs": [],
   "source": [
    "def marks_per(s1=90,s2=90,s3=90,s4=90,s5=90):\n",
    "    total=s1+s2+s3+s4+s5                                   #Calculating total marks\n",
    "    agg=total/5                                            #Calculating Aggregate marks of the student\n",
    "    perc=(total/500)*100                                   #Calculating percentage of marks\n",
    "    print(f\"Aggregate marks {agg:.2f}\")                    #Printing Aggregate Marks\n",
    "    print(f\"Percentage of marks obtained {perc:.2f}\")      #Printing Percentage of marks obtained\n",
    "marks_per()"
   ]
  },
  {
   "cell_type": "code",
   "execution_count": null,
   "id": "72c3f25c",
   "metadata": {},
   "outputs": [],
   "source": [
    "9. Temperature of a city in Fahrenheit degrees is input through the keyboard. Write a\n",
    "program to convert this temperature into Centigrade degrees."
   ]
  },
  {
   "cell_type": "code",
   "execution_count": null,
   "id": "4d1eaee9",
   "metadata": {},
   "outputs": [],
   "source": [
    "temp=eval(input(\"Enter the temperature in Fahrenheit: \"))   #Input of the temperature in Fahrenheit\n",
    "c=(temp-32)*5/9                                             #Calculating temperature in Celsius\n",
    "print(f\"Temperature in Celsius: {c:.2f}\")                   #Printing temperature in Celsius"
   ]
  },
  {
   "cell_type": "code",
   "execution_count": null,
   "id": "21009c31",
   "metadata": {},
   "outputs": [],
   "source": [
    "try:                                                            #Declaring the try block\n",
    "    temp=eval(input(\"Enter the temperature in Fahrenheit: \"))   #Input of the temperature in Fahrenheit\n",
    "    c=(temp-32)*5/9                                             #Calculating temperature in Celsius\n",
    "    print(f\"Temperature in Celsius: {c:.2f}\")                   #Printing temperature in Celsius\n",
    "except Exception as e:                                          #Defining except block\n",
    "    print(e)                                                    #Printing system defined error"
   ]
  },
  {
   "cell_type": "code",
   "execution_count": null,
   "id": "a6e1f707",
   "metadata": {},
   "outputs": [],
   "source": [
    "def temperature():\n",
    "    temp=eval(input(\"Enter the temperature in Fahrenheit: \"))   #Input of the temperature in Fahrenheit\n",
    "    c=(temp-32)*5/9                                             #Calculating temperature in Celsius\n",
    "    print(f\"Temperature in Celsius: {c:.2f}\")                   #Printing temperature in Celsius\n",
    "temperature()"
   ]
  },
  {
   "cell_type": "code",
   "execution_count": null,
   "id": "7592f0cd",
   "metadata": {},
   "outputs": [],
   "source": [
    "def temperature(temp):\n",
    "    c=(temp-32)*5/9                                             #Calculating temperature in Celsius\n",
    "    print(f\"Temperature in Celsius: {c:.2f}\")                   #Printing temperature in Celsius\n",
    "temp=eval(input(\"Enter the temperature in Fahrenheit: \"))   #Input of the temperature in Fahrenheit\n",
    "temperature(temp)"
   ]
  },
  {
   "cell_type": "code",
   "execution_count": null,
   "id": "cf1d32cf",
   "metadata": {},
   "outputs": [],
   "source": [
    "def temperature(temp=32):\n",
    "    c=(temp-32)*5/9                                             #Calculating temperature in Celsius\n",
    "    print(f\"Temperature in Celsius: {c:.2f}\")                   #Printing temperature in Celsius\n",
    "temperature()"
   ]
  },
  {
   "cell_type": "code",
   "execution_count": null,
   "id": "9f60e623",
   "metadata": {},
   "outputs": [],
   "source": [
    "10. The length & breadth of a rectangle and radius of a circle are input through the\n",
    "keyboard. Write a program to calculate the area & perimeter of the rectangle, and the\n",
    "area & circumference of the circle."
   ]
  },
  {
   "cell_type": "code",
   "execution_count": null,
   "id": "85ba0724",
   "metadata": {},
   "outputs": [],
   "source": [
    "import math                                                    #Importing mzth module\n",
    "    len=eval(input(\"Enter the length of rectangle \"))              #Input of the lenght of rectangle\n",
    "    bre=eval(input(\"Enter the breadth of rectangle \"))             #Input of the breadth of rectangle\n",
    "    r=eval(input(\"Enter the radius of rectangle \"))                #Input of the radius of circle\n",
    "    area_rec=len*bre                                               #Calculating area od rectangle\n",
    "    per_rec=2*(len+bre)                                            #Calculating perimeter of rectangle\n",
    "    pie=math.pi                                                    #Storing pi value in a variable\n",
    "    area_cir=pie*r*r                                               #Calculating area of circle\n",
    "    per_cir=2*pie*r                                                #Calculating perimeter of circle\n",
    "    print(f'Perimeter of the rectangle is {per_rec:.2f}')          #Printing the perimeter of rectangle\n",
    "    print(f'Area of the rectangle is {area_rec:.2f}')              #Printing area of rectangle\n",
    "    print(f'Perimeter of the circle is {per_cir:.2f}')             #Printing perimeter of circle\n",
    "    print(f'Area of the circle is {area_cir:.2f}')                 #Printing area of circle"
   ]
  },
  {
   "cell_type": "code",
   "execution_count": null,
   "id": "a362cd5c",
   "metadata": {},
   "outputs": [],
   "source": [
    "try:                                                               #Declaring the try block\n",
    "    import math                                                    #Importing mzth module\n",
    "    len=eval(input(\"Enter the length of rectangle \"))              #Input of the lenght of rectangle\n",
    "    bre=eval(input(\"Enter the breadth of rectangle \"))             #Input of the breadth of rectangle\n",
    "    r=eval(input(\"Enter the radius of rectangle \"))                #Input of the radius of circle\n",
    "    area_rec=len*bre                                               #Calculating area od rectangle\n",
    "    per_rec=2*(len+bre)                                            #Calculating perimeter of rectangle\n",
    "    pie=math.pi                                                    #Storing pi value in a variable\n",
    "    area_cir=pie*r*r                                               #Calculating area of circle\n",
    "    per_cir=2*pie*r                                                #Calculating perimeter of circle\n",
    "    print(f'Perimeter of the rectangle is {per_rec:.2f}')          #Printing the perimeter of rectangle\n",
    "    print(f'Area of the rectangle is {area_rec:.2f}')              #Printing area of rectangle\n",
    "    print(f'Perimeter of the circle is {per_cir:.2f}')             #Printing perimeter of circle\n",
    "    print(f'Area of the circle is {area_cir:.2f}')                 #Printing area of circle\n",
    "except Exception as e:                                             #Defining except block\n",
    "    print(e)                                                       #Printing system defined errror"
   ]
  },
  {
   "cell_type": "code",
   "execution_count": null,
   "id": "1f492c91",
   "metadata": {},
   "outputs": [],
   "source": [
    "def calc():\n",
    "    import math                                                    #Importing mzth module\n",
    "    len=eval(input(\"Enter the length of rectangle \"))              #Input of the lenght of rectangle\n",
    "    bre=eval(input(\"Enter the breadth of rectangle \"))             #Input of the breadth of rectangle\n",
    "    r=eval(input(\"Enter the radius of rectangle \"))                #Input of the radius of circle\n",
    "    area_rec=len*bre                                               #Calculating area od rectangle\n",
    "    per_rec=2*(len+bre)                                            #Calculating perimeter of rectangle\n",
    "    pie=math.pi                                                    #Storing pi value in a variable\n",
    "    area_cir=pie*r*r                                               #Calculating area of circle\n",
    "    per_cir=2*pie*r                                                #Calculating perimeter of circle\n",
    "    print(f'Perimeter of the rectangle is {per_rec:.2f}')          #Printing the perimeter of rectangle\n",
    "    print(f'Area of the rectangle is {area_rec:.2f}')              #Printing area of rectangle\n",
    "    print(f'Perimeter of the circle is {per_cir:.2f}')             #Printing perimeter of circle\n",
    "    print(f'Area of the circle is {area_cir:.2f}')                 #Printing area of circle\n",
    "calc()"
   ]
  },
  {
   "cell_type": "code",
   "execution_count": null,
   "id": "f440e327",
   "metadata": {},
   "outputs": [],
   "source": [
    "def calc(len,bre,r):\n",
    "    import math                                                    #Importing mzth module\n",
    "    area_rec=len*bre                                               #Calculating area od rectangle\n",
    "    per_rec=2*(len+bre)                                            #Calculating perimeter of rectangle\n",
    "    pie=math.pi                                                    #Storing pi value in a variable\n",
    "    area_cir=pie*r*r                                               #Calculating area of circle\n",
    "    per_cir=2*pie*r                                                #Calculating perimeter of circle\n",
    "    print(f'Perimeter of the rectangle is {per_rec:.2f}')          #Printing the perimeter of rectangle\n",
    "    print(f'Area of the rectangle is {area_rec:.2f}')              #Printing area of rectangle\n",
    "    print(f'Perimeter of the circle is {per_cir:.2f}')             #Printing perimeter of circle\n",
    "    print(f'Area of the circle is {area_cir:.2f}')                 #Printing area of circle\n",
    "len=eval(input(\"Enter the length of rectangle \"))              #Input of the lenght of rectangle\n",
    "bre=eval(input(\"Enter the breadth of rectangle \"))             #Input of the breadth of rectangle\n",
    "r=eval(input(\"Enter the radius of rectangle \"))                #Input of the radius of circle\n",
    "calc(len,bre,r)"
   ]
  },
  {
   "cell_type": "code",
   "execution_count": null,
   "id": "a6944a57",
   "metadata": {},
   "outputs": [],
   "source": [
    "def calc(len=5,bre=5,r=1):\n",
    "    import math                                                    #Importing mzth module\n",
    "    area_rec=len*bre                                               #Calculating area od rectangle\n",
    "    per_rec=2*(len+bre)                                            #Calculating perimeter of rectangle\n",
    "    pie=math.pi                                                    #Storing pi value in a variable\n",
    "    area_cir=pie*r*r                                               #Calculating area of circle\n",
    "    per_cir=2*pie*r                                                #Calculating perimeter of circle\n",
    "    print(f'Perimeter of the rectangle is {per_rec:.2f}')          #Printing the perimeter of rectangle\n",
    "    print(f'Area of the rectangle is {area_rec:.2f}')              #Printing area of rectangle\n",
    "    print(f'Perimeter of the circle is {per_cir:.2f}')             #Printing perimeter of circle\n",
    "    print(f'Area of the circle is {area_cir:.2f}')                 #Printing area of circle\n",
    "calc()"
   ]
  },
  {
   "cell_type": "code",
   "execution_count": null,
   "id": "96f87901",
   "metadata": {},
   "outputs": [],
   "source": [
    "11. Two numbers are input through the keyboard into two locations C and D. Write a\n",
    "program to interchange the contents of C and D."
   ]
  },
  {
   "cell_type": "code",
   "execution_count": null,
   "id": "8bd2bfd6",
   "metadata": {},
   "outputs": [],
   "source": [
    "c=eval(input('Enter the  location of C: '))                  #Input of the C location\n",
    "d=eval(input('Enter the  location of D: '))                  #Input of the D location\n",
    "a=c                                                          #Interchanging C location with  a\n",
    "c=d                                                          #Changing c value with d\n",
    "d=a                                                          #Changing d value with a\n",
    "print(f'Location of C {c}')                                  #Printing value of C\n",
    "print(f'Location of D {d}')                                  #Printing value  od D"
   ]
  },
  {
   "cell_type": "code",
   "execution_count": null,
   "id": "17fcc6dc",
   "metadata": {},
   "outputs": [],
   "source": [
    "try:                                                             #Declaring the try block\n",
    "    c=eval(input('Enter the  location of C: '))                  #Input of the C location\n",
    "    d=eval(input('Enter the  location of D: '))                  #Input of the D location\n",
    "    a=c                                                          #Interchanging C location with  a\n",
    "    c=d                                                          #Changing c value with d\n",
    "    d=a                                                          #Changing d value with a\n",
    "    print(f'Location of C {c}')                                  #Printing value of C\n",
    "    print(f'Location of D {d}')                                  #Printing value  od D\n",
    "except Exception as e:                                           #Defining except block\n",
    "    print(e)                                                     #Printing system defined errror"
   ]
  },
  {
   "cell_type": "code",
   "execution_count": null,
   "id": "af09b3b0",
   "metadata": {},
   "outputs": [],
   "source": [
    "def loc():\n",
    "    c=eval(input('Enter the  location of C: '))                  #Input of the C location\n",
    "    d=eval(input('Enter the  location of D: '))                  #Input of the D location\n",
    "    a=c                                                          #Interchanging C location with  a\n",
    "    c=d                                                          #Changing c value with d\n",
    "    d=a                                                          #Changing d value with a\n",
    "    print(f'Location of C {c}')                                  #Printing value of C\n",
    "    print(f'Location of D {d}')                                  #Printing value  od D\n",
    "loc()"
   ]
  },
  {
   "cell_type": "code",
   "execution_count": null,
   "id": "10eb570f",
   "metadata": {},
   "outputs": [],
   "source": [
    "def loc(c,d):\n",
    "    a=c                                                          #Interchanging C location with  a\n",
    "    c=d                                                          #Changing c value with d\n",
    "    d=a                                                          #Changing d value with a\n",
    "    print(f'Location of C {c}')                                  #Printing value of C\n",
    "    print(f'Location of D {d}')                                  #Printing value  od D\n",
    "c=eval(input('Enter the  location of C: '))                  #Input of the C location\n",
    "d=eval(input('Enter the  location of D: '))                  #Input of the D location\n",
    "loc(c,d)"
   ]
  },
  {
   "cell_type": "code",
   "execution_count": null,
   "id": "9e77a296",
   "metadata": {},
   "outputs": [],
   "source": [
    "def loc(c=20,d=10):\n",
    "    a=c                                                          #Interchanging C location with  a\n",
    "    c=d                                                          #Changing c value with d\n",
    "    d=a                                                          #Changing d value with a\n",
    "    print(f'Location of C {c}')                                  #Printing value of C\n",
    "    print(f'Location of D {d}')                                  #Printing value  od D\n",
    "loc()"
   ]
  },
  {
   "cell_type": "code",
   "execution_count": null,
   "id": "1b213f10",
   "metadata": {},
   "outputs": [],
   "source": [
    "12. If a five-digit number is input through the keyboard, write a program to reverse the\n",
    "number."
   ]
  },
  {
   "cell_type": "code",
   "execution_count": null,
   "id": "bf5abac1",
   "metadata": {},
   "outputs": [],
   "source": [
    "num=eval(input(\"Enter the five digit number: \")) #Input of the five digit number\n",
    "    rev_num=0 #Declaring a variable\n",
    "\n",
    "    rem=num%10 #Calculating remainder of num\n",
    "    rev_num=rem #Assigning it to rev_num\n",
    "    num=num//10 #Dividing num with 10\n",
    "\n",
    "    rem=num%10 #Calculating remainder of num\n",
    "    rev_num=rev_num*10+rem #Multiplying rev_num with 10 and adding remainder\n",
    "    num=num//10 #Dividing num with 10\n",
    "\n",
    "    rem=num%10 #Calculating remainder of num\n",
    "    rev_num=rev_num*10+rem #Multiplying rev_num with 10 and adding remainder\n",
    "    num=num//10 #Dividing num with 10\n",
    "\n",
    "    rem=num%10 #Calculating remainder of num\n",
    "    rev_num=rev_num*10+rem #Multiplying rev_num with 10 and adding remainder\n",
    "    num=num//10 #Dividing num with 10\n",
    "\n",
    "    rem=num%10 #Calculating remainder of num\n",
    "    rev_num=rev_num*10+rem #Multiplying rev_num with 10 and adding remainder\n",
    "\n",
    "    print(rev_num) #Printing the reversed number"
   ]
  },
  {
   "cell_type": "code",
   "execution_count": null,
   "id": "18f31431",
   "metadata": {},
   "outputs": [],
   "source": [
    "try: #Defining try block\n",
    "    num=eval(input(\"Enter the five digit number: \")) #Input of the five digit number\n",
    "    rev_num=0 #Declaring a variable\n",
    "\n",
    "    rem=num%10 #Calculating remainder of num\n",
    "    rev_num=rem #Assigning it to rev_num\n",
    "    num=num//10 #Dividing num with 10\n",
    "\n",
    "    rem=num%10 #Calculating remainder of num\n",
    "    rev_num=rev_num*10+rem #Multiplying rev_num with 10 and adding remainder\n",
    "    num=num//10 #Dividing num with 10\n",
    "\n",
    "    rem=num%10 #Calculating remainder of num\n",
    "    rev_num=rev_num*10+rem #Multiplying rev_num with 10 and adding remainder\n",
    "    num=num//10 #Dividing num with 10\n",
    "\n",
    "    rem=num%10 #Calculating remainder of num\n",
    "    rev_num=rev_num*10+rem #Multiplying rev_num with 10 and adding remainder\n",
    "    num=num//10 #Dividing num with 10\n",
    "\n",
    "    rem=num%10 #Calculating remainder of num\n",
    "    rev_num=rev_num*10+rem #Multiplying rev_num with 10 and adding remainder\n",
    "\n",
    "    print(rev_num) #Printing the reversed number\n",
    "except Exception as e: #Defining except block\n",
    "    print(e) #Printing system defined errror"
   ]
  },
  {
   "cell_type": "code",
   "execution_count": null,
   "id": "d2a944a7",
   "metadata": {},
   "outputs": [],
   "source": [
    "def rev():\n",
    "    num=eval(input(\"Enter the five digit number: \")) #Input of the five digit number\n",
    "    rev_num=0 #Declaring a variable\n",
    "\n",
    "    rem=num%10 #Calculating remainder of num\n",
    "    rev_num=rem #Assigning it to rev_num\n",
    "    num=num//10 #Dividing num with 10\n",
    "\n",
    "    rem=num%10 #Calculating remainder of num\n",
    "    rev_num=rev_num*10+rem #Multiplying rev_num with 10 and adding remainder\n",
    "    num=num//10 #Dividing num with 10\n",
    "\n",
    "    rem=num%10 #Calculating remainder of num\n",
    "    rev_num=rev_num*10+rem #Multiplying rev_num with 10 and adding remainder\n",
    "    num=num//10 #Dividing num with 10\n",
    "\n",
    "    rem=num%10 #Calculating remainder of num\n",
    "    rev_num=rev_num*10+rem #Multiplying rev_num with 10 and adding remainder\n",
    "    num=num//10 #Dividing num with 10\n",
    "\n",
    "    rem=num%10 #Calculating remainder of num\n",
    "    rev_num=rev_num*10+rem #Multiplying rev_num with 10 and adding remainder\n",
    "\n",
    "    print(rev_num) #Printing the reversed number\n",
    "rev()"
   ]
  },
  {
   "cell_type": "code",
   "execution_count": null,
   "id": "a03bc2a0",
   "metadata": {},
   "outputs": [],
   "source": [
    "def rev(num):\n",
    "    rev_num=0 #Declaring a variable\n",
    "\n",
    "    rem=num%10 #Calculating remainder of num\n",
    "    rev_num=rem #Assigning it to rev_num\n",
    "    num=num//10 #Dividing num with 10\n",
    "\n",
    "    rem=num%10 #Calculating remainder of num\n",
    "    rev_num=rev_num*10+rem #Multiplying rev_num with 10 and adding remainder\n",
    "    num=num//10 #Dividing num with 10\n",
    "\n",
    "    rem=num%10 #Calculating remainder of num\n",
    "    rev_num=rev_num*10+rem #Multiplying rev_num with 10 and adding remainder\n",
    "    num=num//10 #Dividing num with 10\n",
    "\n",
    "    rem=num%10 #Calculating remainder of num\n",
    "    rev_num=rev_num*10+rem #Multiplying rev_num with 10 and adding remainder\n",
    "    num=num//10 #Dividing num with 10\n",
    "\n",
    "    rem=num%10 #Calculating remainder of num\n",
    "    rev_num=rev_num*10+rem #Multiplying rev_num with 10 and adding remainder\n",
    "\n",
    "    print(rev_num) #Printing the reversed number\n",
    "num=eval(input(\"Enter the five digit number: \")) #Input of the five digit number\n",
    "rev(num)"
   ]
  },
  {
   "cell_type": "code",
   "execution_count": null,
   "id": "a3b27ae3",
   "metadata": {},
   "outputs": [],
   "source": [
    "def rev(num=98765):\n",
    "    rev_num=0 #Declaring a variable\n",
    "\n",
    "    rem=num%10 #Calculating remainder of num\n",
    "    rev_num=rem #Assigning it to rev_num\n",
    "    num=num//10 #Dividing num with 10\n",
    "\n",
    "    rem=num%10 #Calculating remainder of num\n",
    "    rev_num=rev_num*10+rem #Multiplying rev_num with 10 and adding remainder\n",
    "    num=num//10 #Dividing num with 10\n",
    "\n",
    "    rem=num%10 #Calculating remainder of num\n",
    "    rev_num=rev_num*10+rem #Multiplying rev_num with 10 and adding remainder\n",
    "    num=num//10 #Dividing num with 10\n",
    "\n",
    "    rem=num%10 #Calculating remainder of num\n",
    "    rev_num=rev_num*10+rem #Multiplying rev_num with 10 and adding remainder\n",
    "    num=num//10 #Dividing num with 10\n",
    "\n",
    "    rem=num%10 #Calculating remainder of num\n",
    "    rev_num=rev_num*10+rem #Multiplying rev_num with 10 and adding remainder\n",
    "\n",
    "    print(rev_num) #Printing the reversed number\n",
    "rev()"
   ]
  },
  {
   "cell_type": "code",
   "execution_count": null,
   "id": "8f0fee01",
   "metadata": {},
   "outputs": [],
   "source": [
    "13. If a four-digit number is input through the keyboard, write a program to obtain the sum of\n",
    "the first and last digit of this number."
   ]
  },
  {
   "cell_type": "code",
   "execution_count": null,
   "id": "d1dae57f",
   "metadata": {},
   "outputs": [],
   "source": [
    "number=eval(input(\"Enter the number: \"))                    #Input of the four digit number\n",
    "last=number%10                                              #Calculating the last number\n",
    "sum=last                                                    #Storing last digit in sum variable\n",
    "number=number//10                                           #Dividing number  with 10\n",
    "number=number//10                                           #Dividing number  with 10\n",
    "number=number//10                                           #Dividing number  with 10\n",
    "first=number%10                                             #Calculating the first digit\n",
    "sum=sum+first                                               #Calculating the sum of first and last digit\n",
    "print(\"Sum of first and last digit is\",sum)                 #Printing the sum of first and last digit"
   ]
  },
  {
   "cell_type": "code",
   "execution_count": null,
   "id": "41003a18",
   "metadata": {},
   "outputs": [],
   "source": [
    "try:                                                            #Defining try block\n",
    "    number=eval(input(\"Enter the number: \"))                    #Input of the four digit number\n",
    "    last=number%10                                              #Calculating the last number\n",
    "    sum=last                                                    #Storing last digit in sum variable\n",
    "    number=number//10                                           #Dividing number  with 10\n",
    "    number=number//10                                           #Dividing number  with 10\n",
    "    number=number//10                                           #Dividing number  with 10\n",
    "    first=number%10                                             #Calculating the first digit\n",
    "    sum=sum+first                                               #Calculating the sum of first and last digit\n",
    "    print(\"Sum of first and last digit is\",sum)                 #Printing the sum of first and last digit\n",
    "except Exception as e:                                          #Defining except block\n",
    "    print(e)                                                    #Printing system defined errror"
   ]
  },
  {
   "cell_type": "code",
   "execution_count": null,
   "id": "bfa8fd98",
   "metadata": {},
   "outputs": [],
   "source": [
    "def last_fir():\n",
    "    number=eval(input(\"Enter the number: \"))                    #Input of the four digit number\n",
    "    last=number%10                                              #Calculating the last number\n",
    "    sum=last                                                    #Storing last digit in sum variable\n",
    "    number=number//10                                           #Dividing number  with 10\n",
    "    number=number//10                                           #Dividing number  with 10\n",
    "    number=number//10                                           #Dividing number  with 10\n",
    "    first=number%10                                             #Calculating the first digit\n",
    "    sum=sum+first                                               #Calculating the sum of first and last digit\n",
    "    print(\"Sum of first and last digit is\",sum)                 #Printing the sum of first and last digit\n",
    "last_fir()"
   ]
  },
  {
   "cell_type": "code",
   "execution_count": null,
   "id": "9277262f",
   "metadata": {},
   "outputs": [],
   "source": [
    "def last_fir(number):\n",
    "    last=number%10                                              #Calculating the last number\n",
    "    sum=last                                                    #Storing last digit in sum variable\n",
    "    number=number//10                                           #Dividing number  with 10\n",
    "    number=number//10                                           #Dividing number  with 10\n",
    "    number=number//10                                           #Dividing number  with 10\n",
    "    first=number%10                                             #Calculating the first digit\n",
    "    sum=sum+first                                               #Calculating the sum of first and last digit\n",
    "    print(\"Sum of first and last digit is\",sum)                 #Printing the sum of first and last digit\n",
    "number=eval(input(\"Enter the number: \"))                    #Input of the four digit number\n",
    "last_fir(number)"
   ]
  },
  {
   "cell_type": "code",
   "execution_count": null,
   "id": "2c4f3b44",
   "metadata": {},
   "outputs": [],
   "source": [
    "def last_fir(number=3456):\n",
    "    last=number%10                                              #Calculating the last number\n",
    "    sum=last                                                    #Storing last digit in sum variable\n",
    "    number=number//10                                           #Dividing number  with 10\n",
    "    number=number//10                                           #Dividing number  with 10\n",
    "    number=number//10                                           #Dividing number  with 10\n",
    "    first=number%10                                             #Calculating the first digit\n",
    "    sum=sum+first                                               #Calculating the sum of first and last digit\n",
    "    print(\"Sum of first and last digit is\",sum)                 #Printing the sum of first and last digit\n",
    "last_fir()"
   ]
  },
  {
   "cell_type": "code",
   "execution_count": null,
   "id": "91a97149",
   "metadata": {},
   "outputs": [],
   "source": [
    "14. In a town, the percentage of men is 52. The percentage of total literacy is 48. If total\n",
    "percentage of literate men is 35 of the total population, write a program to find the total\n",
    "number of illiterate men and women if the population of the town is 80,000."
   ]
  },
  {
   "cell_type": "code",
   "execution_count": null,
   "id": "80c5e7e2",
   "metadata": {},
   "outputs": [],
   "source": [
    "lit_men=80000*0.35                                           #Calculating the number of literate men\n",
    "lit_women=80000*0.13                                         #Calculating the number of literate women\n",
    "men=80000*0.52                                               #Calculating the number of men\n",
    "women=80000*0.48                                             #Calculating the number of women\n",
    "ill_men=men-lit_men                                          #Calculating the number of illiterate men\n",
    "ill_women=women-lit_women                                    #Calculating the number of illiterate women\n",
    "print(f\"Number of illiterate men = {ill_men}\")               #Printing the number of illiterate men\n",
    "print(f\"Number of illiterate women = {ill_women}\")           #Printing the number of illiterate women"
   ]
  },
  {
   "cell_type": "code",
   "execution_count": null,
   "id": "401efedc",
   "metadata": {},
   "outputs": [],
   "source": [
    "try:                                                             #Defining try block\n",
    "    lit_men=80000*0.35                                           #Calculating the number of literate men\n",
    "    lit_women=80000*0.13                                         #Calculating the number of literate women\n",
    "    men=80000*0.52                                               #Calculating the number of men\n",
    "    women=80000*0.48                                             #Calculating the number of women\n",
    "    ill_men=men-lit_men                                          #Calculating the number of illiterate men\n",
    "    ill_women=women-lit_women                                    #Calculating the number of illiterate women\n",
    "    print(f\"Number of illiterate men = {ill_men}\")               #Printing the number of illiterate men\n",
    "    print(f\"Number of illiterate women = {ill_women}\")           #Printing the number of illiterate women\n",
    "except Exception as e:                                           #Defining except block\n",
    "    print(e)                                                     #Printing system defined errror"
   ]
  },
  {
   "cell_type": "code",
   "execution_count": null,
   "id": "c86a058e",
   "metadata": {},
   "outputs": [],
   "source": [
    "def lit():\n",
    "    lit_men=80000*0.35                                           #Calculating the number of literate men\n",
    "    lit_women=80000*0.13                                         #Calculating the number of literate women\n",
    "    men=80000*0.52                                               #Calculating the number of men\n",
    "    women=80000*0.48                                             #Calculating the number of women\n",
    "    ill_men=men-lit_men                                          #Calculating the number of illiterate men\n",
    "    ill_women=women-lit_women                                    #Calculating the number of illiterate women\n",
    "    print(f\"Number of illiterate men = {ill_men}\")               #Printing the number of illiterate men\n",
    "    print(f\"Number of illiterate women = {ill_women}\")           #Printing the number of illiterate women\n",
    "lit()"
   ]
  },
  {
   "cell_type": "code",
   "execution_count": null,
   "id": "ef41bb2d",
   "metadata": {},
   "outputs": [],
   "source": [
    "def lit(count):\n",
    "    lit_men=count*0.35                                           #Calculating the number of literate men\n",
    "    lit_women=count*0.13                                         #Calculating the number of literate women\n",
    "    men=count*0.52                                               #Calculating the number of men\n",
    "    women=count*0.48                                             #Calculating the number of women\n",
    "    ill_men=men-lit_men                                          #Calculating the number of illiterate men\n",
    "    ill_women=women-lit_women                                    #Calculating the number of illiterate women\n",
    "    print(f\"Number of illiterate men = {ill_men}\")               #Printing the number of illiterate men\n",
    "    print(f\"Number of illiterate women = {ill_women}\")           #Printing the number of illiterate women\n",
    "count=eval(input(\"Enter the population: \"))\n",
    "lit(count)"
   ]
  },
  {
   "cell_type": "code",
   "execution_count": null,
   "id": "95d68277",
   "metadata": {},
   "outputs": [],
   "source": [
    "def lit(count=80000):\n",
    "    lit_men=count*0.35                                           #Calculating the number of literate men\n",
    "    lit_women=count*0.13                                         #Calculating the number of literate women\n",
    "    men=count*0.52                                               #Calculating the number of men\n",
    "    women=count*0.48                                             #Calculating the number of women\n",
    "    ill_men=men-lit_men                                          #Calculating the number of illiterate men\n",
    "    ill_women=women-lit_women                                    #Calculating the number of illiterate women\n",
    "    print(f\"Number of illiterate men = {ill_men}\")               #Printing the number of illiterate men\n",
    "    print(f\"Number of illiterate women = {ill_women}\")           #Printing the number of illiterate women\n",
    "count=eval(input(\"Enter the population: \"))\n",
    "lit()"
   ]
  },
  {
   "cell_type": "code",
   "execution_count": null,
   "id": "f13c06bf",
   "metadata": {},
   "outputs": [],
   "source": [
    "15. A cashier has currency notes of denominations 10, 50 and 100. If the amount to be\n",
    "withdrawn is input through the keyboard in hundreds, find the total number of currency\n",
    "notes of each denomination the cashier will have to give to the withdrawer."
   ]
  },
  {
   "cell_type": "code",
   "execution_count": null,
   "id": "45516e93",
   "metadata": {},
   "outputs": [],
   "source": [
    "withdrawl=eval(input(\"Enter the amount to be withdrawn in 100s: \"))  #Input of the withdrawn amount\n",
    "tens=withdrawl//10                                           #Calcullating the ten denominations\n",
    "fifties=withdrawl//50                                        #Calcullating the fifty denominations\n",
    "hundreds=withdrawl//100                                      #Calcullating the hundred denominations\n",
    "print(f\"Number of 10Rs denomination: {tens}\")                #Printing the number of 10 denominations\n",
    "print(f\"Number of 50Rs denomination: {fifties}\")             #Printing the number of 50 denominations\n",
    "print(f\"Number of 100Rs denomination: {hundreds}\")           #Printing the number of 100 denominations"
   ]
  },
  {
   "cell_type": "code",
   "execution_count": null,
   "id": "7db963c4",
   "metadata": {},
   "outputs": [],
   "source": [
    "try:                                                             #Defining try block\n",
    "    withdrawl=eval(input(\"Enter the amount to be withdrawn in 100s: \"))  #Input of the withdrawn amount\n",
    "    tens=withdrawl//10                                           #Calcullating the ten denominations\n",
    "    fifties=withdrawl//50                                        #Calcullating the fifty denominations\n",
    "    hundreds=withdrawl//100                                      #Calcullating the hundred denominations\n",
    "    print(f\"Number of 10Rs denomination: {tens}\")                #Printing the number of 10 denominations\n",
    "    print(f\"Number of 50Rs denomination: {fifties}\")             #Printing the number of 50 denominations\n",
    "    print(f\"Number of 100Rs denomination: {hundreds}\")           #Printing the number of 100 denominations\n",
    "except Exception as e:                                           #Defining except block\n",
    "    print(e)                                                     #Printing system defined errror"
   ]
  },
  {
   "cell_type": "code",
   "execution_count": null,
   "id": "366ffc67",
   "metadata": {},
   "outputs": [],
   "source": [
    "def denom():\n",
    "    withdrawl=eval(input(\"Enter the amount to be withdrawn in 100s: \"))  #Input of the withdrawn amount\n",
    "    tens=withdrawl//10                                           #Calcullating the ten denominations\n",
    "    fifties=withdrawl//50                                        #Calcullating the fifty denominations\n",
    "    hundreds=withdrawl//100                                      #Calcullating the hundred denominations\n",
    "    print(f\"Number of 10Rs denomination: {tens}\")                #Printing the number of 10 denominations\n",
    "    print(f\"Number of 50Rs denomination: {fifties}\")             #Printing the number of 50 denominations\n",
    "    print(f\"Number of 100Rs denomination: {hundreds}\")           #Printing the number of 100 denominations\n",
    "denom()"
   ]
  },
  {
   "cell_type": "code",
   "execution_count": null,
   "id": "543da381",
   "metadata": {},
   "outputs": [],
   "source": [
    "def denom(withdrawl):\n",
    "    tens=withdrawl//10                                           #Calcullating the ten denominations\n",
    "    fifties=withdrawl//50                                        #Calcullating the fifty denominations\n",
    "    hundreds=withdrawl//100                                      #Calcullating the hundred denominations\n",
    "    print(f\"Number of 10Rs denomination: {tens}\")                #Printing the number of 10 denominations\n",
    "    print(f\"Number of 50Rs denomination: {fifties}\")             #Printing the number of 50 denominations\n",
    "    print(f\"Number of 100Rs denomination: {hundreds}\")           #Printing the number of 100 denominations\n",
    "withdrawl=eval(input(\"Enter the amount to be withdrawn in 100s: \"))  #Input of the withdrawn amount\n",
    "denom(withdrawl)"
   ]
  },
  {
   "cell_type": "code",
   "execution_count": 17,
   "id": "3f1fb002",
   "metadata": {},
   "outputs": [
    {
     "name": "stdout",
     "output_type": "stream",
     "text": [
      "Number of 10Rs denomination: 12345\n",
      "Number of 50Rs denomination: 2469\n",
      "Number of 100Rs denomination: 1234\n"
     ]
    }
   ],
   "source": [
    "def denom(withdrawl=123450):\n",
    "    tens=withdrawl//10                                           #Calcullating the ten denominations\n",
    "    fifties=withdrawl//50                                        #Calcullating the fifty denominations\n",
    "    hundreds=withdrawl//100                                      #Calcullating the hundred denominations\n",
    "    print(f\"Number of 10Rs denomination: {tens}\")                #Printing the number of 10 denominations\n",
    "    print(f\"Number of 50Rs denomination: {fifties}\")             #Printing the number of 50 denominations\n",
    "    print(f\"Number of 100Rs denomination: {hundreds}\")           #Printing the number of 100 denominations\n",
    "denom()"
   ]
  },
  {
   "cell_type": "code",
   "execution_count": 1,
   "id": "b1cead0c",
   "metadata": {},
   "outputs": [
    {
     "name": "stdout",
     "output_type": "stream",
     "text": [
      "Enter hour between 1 and 12: 5\n",
      "Select 1-AM or 2-PM 1\n",
      "How many hours ahead: 55\n"
     ]
    }
   ],
   "source": []
  },
  {
   "cell_type": "code",
   "execution_count": null,
   "id": "98d28a72",
   "metadata": {},
   "outputs": [],
   "source": []
  }
 ],
 "metadata": {
  "kernelspec": {
   "display_name": "Python 3 (ipykernel)",
   "language": "python",
   "name": "python3"
  },
  "language_info": {
   "codemirror_mode": {
    "name": "ipython",
    "version": 3
   },
   "file_extension": ".py",
   "mimetype": "text/x-python",
   "name": "python",
   "nbconvert_exporter": "python",
   "pygments_lexer": "ipython3",
   "version": "3.11.4"
  }
 },
 "nbformat": 4,
 "nbformat_minor": 5
}
