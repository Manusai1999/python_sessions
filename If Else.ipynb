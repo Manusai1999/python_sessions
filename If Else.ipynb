{
 "cells": [
  {
   "cell_type": "markdown",
   "id": "be7bde28",
   "metadata": {},
   "source": [
    "# CONDITIONAL STATEMENTS"
   ]
  },
  {
   "cell_type": "markdown",
   "id": "81316cf9",
   "metadata": {},
   "source": [
    "# IF"
   ]
  },
  {
   "cell_type": "code",
   "execution_count": 3,
   "id": "94fe9c70",
   "metadata": {},
   "outputs": [
    {
     "name": "stdout",
     "output_type": "stream",
     "text": [
      "I am learning :) PYTHON\n"
     ]
    }
   ],
   "source": [
    "name='PYTHON'\n",
    "if name=='PYTHON':\n",
    "    print(\"I am learning :)\", name)"
   ]
  },
  {
   "cell_type": "markdown",
   "id": "3a85c5c1",
   "metadata": {},
   "source": [
    "## IF ELSE\n"
   ]
  },
  {
   "cell_type": "code",
   "execution_count": 6,
   "id": "efe84c35",
   "metadata": {},
   "outputs": [
    {
     "name": "stdout",
     "output_type": "stream",
     "text": [
      "User is Honoured ONE\n"
     ]
    }
   ],
   "source": [
    "user='Manu'\n",
    "if user=='Manu':\n",
    "    print('User is Honoured ONE')\n",
    "else:\n",
    "    print('Scammer is trying to login')"
   ]
  },
  {
   "cell_type": "code",
   "execution_count": 10,
   "id": "5ed6518e",
   "metadata": {},
   "outputs": [
    {
     "name": "stdout",
     "output_type": "stream",
     "text": [
      "Hello\n",
      "10\n",
      "Enter a number1: 45\n",
      "Enter a number2: 44\n",
      "Oops! The condition is wrong\n",
      "we are performing multiplication on the given inputs 1980\n",
      "We are performing subtraction. Result= 1\n",
      "THE END\n"
     ]
    }
   ],
   "source": [
    "print(\"Hello\")\n",
    "print(10)\n",
    "num1=eval(input(\"Enter a number1: \"))\n",
    "num2=eval(input(\"Enter a number2: \"))\n",
    "if num1==num2:\n",
    "    print(\"Hurray the condition is true\")\n",
    "    print(\"We are performing addition on the input values\")\n",
    "else:\n",
    "    print(\"Oops! The condition is wrong\")\n",
    "    print(\"we are performing multiplication on the given inputs\", num1*num2)\n",
    "subtraction = num1-num2\n",
    "print(\"We are performing subtraction. Result=\", subtraction)\n",
    "print(\"THE END\")"
   ]
  },
  {
   "cell_type": "markdown",
   "id": "13e08f2f",
   "metadata": {},
   "source": [
    "WAP to find given number is even or odd number"
   ]
  },
  {
   "cell_type": "code",
   "execution_count": 14,
   "id": "49217f97",
   "metadata": {},
   "outputs": [
    {
     "name": "stdout",
     "output_type": "stream",
     "text": [
      "Enter the number: 54615791817638\n",
      "Given number is an even number\n"
     ]
    }
   ],
   "source": [
    "num=eval(input(\"Enter the number: \"))\n",
    "if num%2==0:\n",
    "    print(\"Given number is an even number\")\n",
    "else:\n",
    "    print(\"Given number is an odd number\")"
   ]
  },
  {
   "cell_type": "code",
   "execution_count": 17,
   "id": "33307140",
   "metadata": {},
   "outputs": [
    {
     "name": "stdout",
     "output_type": "stream",
     "text": [
      "Enter the number: 45\n",
      "Given number is an odd number\n"
     ]
    }
   ],
   "source": [
    "try:\n",
    "    num=eval(input(\"Enter the number: \"))\n",
    "    if num%2==0:\n",
    "        print(\"Given number is an even number\")\n",
    "    else:\n",
    "        print(\"Given number is an odd number\")\n",
    "except Exception as e:\n",
    "    print(e)"
   ]
  },
  {
   "cell_type": "markdown",
   "id": "eda68108",
   "metadata": {},
   "source": [
    "WAP get a random number between 1 to 15 and check whether it is an even or odd number."
   ]
  },
  {
   "cell_type": "code",
   "execution_count": 36,
   "id": "b1241845",
   "metadata": {},
   "outputs": [
    {
     "name": "stdout",
     "output_type": "stream",
     "text": [
      "4\n",
      "It is an odd number\n"
     ]
    }
   ],
   "source": [
    "import random\n",
    "try:\n",
    "    num=random.randint(1,15)\n",
    "    print(num)\n",
    "    if num%2!=0:\n",
    "        print(\"It is an even number\")\n",
    "    else:\n",
    "        print(\"It is an odd number\")\n",
    "except Exception as e:\n",
    "    print(e)"
   ]
  },
  {
   "cell_type": "markdown",
   "id": "7f845052",
   "metadata": {},
   "source": [
    "WAP get a random number between 1 to 200. Print you won if number between 1 to 99 else print you lost."
   ]
  },
  {
   "cell_type": "code",
   "execution_count": 37,
   "id": "3f4d4df9",
   "metadata": {},
   "outputs": [
    {
     "name": "stdout",
     "output_type": "stream",
     "text": [
      "You won\n",
      "21\n"
     ]
    }
   ],
   "source": [
    "try:\n",
    "    num=random.randint(1,200)\n",
    "    if 1<=num<=100:\n",
    "        print(\"You won\")\n",
    "    else:\n",
    "        print(\"You lost\")\n",
    "    print(num)\n",
    "except Exception as e:\n",
    "    print(e)"
   ]
  },
  {
   "cell_type": "code",
   "execution_count": 39,
   "id": "388a16ad",
   "metadata": {},
   "outputs": [
    {
     "name": "stdout",
     "output_type": "stream",
     "text": [
      "Enter the number: 5\n",
      "It is a positive number\n"
     ]
    }
   ],
   "source": [
    "num=eval(input('Enter the number: '))\n",
    "if num>=0:\n",
    "    print(\"It is a positive number\")\n",
    "else:\n",
    "    print(\"it is a negative number\")"
   ]
  },
  {
   "cell_type": "markdown",
   "id": "a9a672ba",
   "metadata": {},
   "source": [
    "WAP to find given number is +ve or -ve or 0."
   ]
  },
  {
   "cell_type": "code",
   "execution_count": 44,
   "id": "573bc7b6",
   "metadata": {},
   "outputs": [
    {
     "name": "stdout",
     "output_type": "stream",
     "text": [
      "Enter the number: 55\n",
      "Given number 55 is positive\n"
     ]
    }
   ],
   "source": [
    "num=eval(input(\"Enter the number: \"))\n",
    "if num>0:\n",
    "    print(f\"Given number {num} is positive\")\n",
    "elif num<0:\n",
    "    print(f\"Given number {num} is negative\")\n",
    "else:\n",
    "    print(f\"Given number {num}is Zero\")"
   ]
  },
  {
   "cell_type": "markdown",
   "id": "4b39ef28",
   "metadata": {},
   "source": [
    "WAP ask the user to enter the perc of marks\n",
    "- if per>90 then A\n",
    "- if per>70 and <=90 then B\n",
    "- if per>50 and <=70 then C\n",
    "- if per<=50"
   ]
  },
  {
   "cell_type": "code",
   "execution_count": 47,
   "id": "9951ab54",
   "metadata": {},
   "outputs": [
    {
     "name": "stdout",
     "output_type": "stream",
     "text": [
      "Enter the percentage of marks: 55\n",
      "Grade C\n"
     ]
    }
   ],
   "source": [
    "perc=eval(input('Enter the percentage of marks: '))\n",
    "if perc>90:\n",
    "    print(\"Grade A\")\n",
    "elif 70<=perc:\n",
    "    print(\"Grade B\")\n",
    "elif 50<perc:\n",
    "    print(\"Grade C\")\n",
    "else:\n",
    "    print(\"Grade D\")"
   ]
  },
  {
   "cell_type": "markdown",
   "id": "e8e04786",
   "metadata": {},
   "source": [
    "WAP ask user to enter age.\n",
    "- if age>60 Print Senior Citizen\n",
    "- if 45<age<60 print aged\n",
    "- if 30<age<45 print MA\n",
    "- if 20<age<30 print Young\n",
    "- if 13<age<20 print teenage\n",
    "- otherwisse child"
   ]
  },
  {
   "cell_type": "code",
   "execution_count": 49,
   "id": "1459e0bd",
   "metadata": {},
   "outputs": [
    {
     "name": "stdout",
     "output_type": "stream",
     "text": [
      "Enter the age of the person: 555\n",
      "Senior Citizen\n"
     ]
    }
   ],
   "source": [
    "try:\n",
    "    age=eval(input(\"Enter the age of the person: \"))\n",
    "    if age>60:\n",
    "        print(\"Senior Citizen\")\n",
    "    elif 45<age:\n",
    "        print(\"Aged\")\n",
    "    elif 30<age:\n",
    "        print(\"Middle Aged\")\n",
    "    elif 20<age:\n",
    "        print(\"Young\")\n",
    "    elif 13<age:\n",
    "        print(\"Teenage\")\n",
    "except Exception as e:\n",
    "    print(e)"
   ]
  },
  {
   "cell_type": "code",
   "execution_count": null,
   "id": "6a4cf9cc",
   "metadata": {},
   "outputs": [],
   "source": []
  }
 ],
 "metadata": {
  "kernelspec": {
   "display_name": "Python 3 (ipykernel)",
   "language": "python",
   "name": "python3"
  },
  "language_info": {
   "codemirror_mode": {
    "name": "ipython",
    "version": 3
   },
   "file_extension": ".py",
   "mimetype": "text/x-python",
   "name": "python",
   "nbconvert_exporter": "python",
   "pygments_lexer": "ipython3",
   "version": "3.11.4"
  }
 },
 "nbformat": 4,
 "nbformat_minor": 5
}
