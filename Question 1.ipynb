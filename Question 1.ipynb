{
 "cells": [
  {
   "cell_type": "code",
   "execution_count": 5,
   "id": "57b9d83f",
   "metadata": {},
   "outputs": [
    {
     "name": "stdout",
     "output_type": "stream",
     "text": [
      "Enter the current balance: 500\n",
      "Enter the e-wallet balance: 300\n",
      "You do not have money to start playing!\n",
      "Withdraw money: 200\n",
      "You still do not have money to start playing!\n",
      "Withdraw money: 100\n",
      "You still do not have money to start playing!\n",
      "Withdraw money: 100\n",
      "e-wallet balance is insufficient\n",
      "Your wallet balance is NIL\n",
      "e-wallet balance is 0\n",
      "Add money to e-wallet: 100\n",
      "Withdraw money: 50\n",
      "You still do not have money to start playing!\n",
      "Withdraw money: 50\n",
      "You still do not have money to start playing!\n",
      "Withdraw money: 10\n",
      "e-wallet balance is insufficient\n",
      "Your wallet balance is NIL\n",
      "e-wallet balance is 0\n",
      "Add money to e-wallet: 200\n",
      "Withdraw money: 100\n",
      "Your current balance: 1000\n",
      "e-wallet balance is 100\n",
      "You are ready to play the game\n"
     ]
    }
   ],
   "source": [
    "def check_bal(e_wall,withdraw):\n",
    "    if e_wall-withdraw<0:\n",
    "        while e_wall-withdraw<0:\n",
    "            print(\"e-wallet balance is insufficient\")\n",
    "            if e_wall==0:\n",
    "                print(\"Your wallet balance is NIL\")\n",
    "            print(f'e-wallet balance is {e_wall}')\n",
    "            e_wall_deposit=eval(input(\"Add money to e-wallet: \"))\n",
    "            e_wall+=e_wall_deposit\n",
    "            withdraw=eval(input(\"Withdraw money: \"))\n",
    "            if e_wall-withdraw>=0:\n",
    "                break\n",
    "        e_wall=e_wall-withdraw\n",
    "    else:\n",
    "        e_wall-=withdraw\n",
    "    return e_wall,withdraw\n",
    "cur_acc=eval(input(\"Enter the current balance: \"))\n",
    "e_wall=eval(input(\"Enter the e-wallet balance: \"))\n",
    "if cur_acc>=1000:\n",
    "    print(\"You are ready to play the game!\")\n",
    "else:\n",
    "    print(\"You do not have money to start playing!\")\n",
    "    withdraw=eval(input(\"Withdraw money: \"))\n",
    "    if e_wall==0:\n",
    "        print(\"Your wallet balance is NIL\")\n",
    "    e_wall,withdraw=check_bal(e_wall,withdraw)\n",
    "total=cur_acc+withdraw\n",
    "if total<1000:\n",
    "    while total<1000:\n",
    "        print(\"You still do not have money to start playing!\")\n",
    "        withdraw=eval(input(\"Withdraw money: \"))\n",
    "        e_wall,withdraw=check_bal(e_wall,withdraw)\n",
    "        total+=withdraw\n",
    "    print(f\"Your current balance: {total}\",f\"e-wallet balance is {e_wall}\",sep=\"\\n\")\n",
    "    print(\"You are ready to play the game\")\n",
    "    "
   ]
  },
  {
   "cell_type": "code",
   "execution_count": null,
   "id": "031bb1a4",
   "metadata": {},
   "outputs": [],
   "source": []
  }
 ],
 "metadata": {
  "kernelspec": {
   "display_name": "Python 3 (ipykernel)",
   "language": "python",
   "name": "python3"
  },
  "language_info": {
   "codemirror_mode": {
    "name": "ipython",
    "version": 3
   },
   "file_extension": ".py",
   "mimetype": "text/x-python",
   "name": "python",
   "nbconvert_exporter": "python",
   "pygments_lexer": "ipython3",
   "version": "3.11.4"
  }
 },
 "nbformat": 4,
 "nbformat_minor": 5
}
