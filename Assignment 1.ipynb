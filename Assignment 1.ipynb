{
 "cells": [
  {
   "cell_type": "markdown",
   "id": "004c502b",
   "metadata": {},
   "source": [
    "1. Ask the user to enter a number. Print out the square of the number,\n",
    "Sample output is shown below.\n",
    "Enter a number: 5\n",
    "The square of 5 is 25."
   ]
  },
  {
   "cell_type": "code",
   "execution_count": null,
   "id": "1786c33e",
   "metadata": {},
   "outputs": [],
   "source": [
    "try:                                 #Declaring the try block\n",
    "    num=eval(input(\"Enter a number: \"))  #Input of the number\n",
    "    print(f'Square of {num} is {num*num}')  #Printing the output of square for the given number\n",
    "except Exception as e:            #Declaring the except block\n",
    "    print(e)"
   ]
  },
  {
   "cell_type": "markdown",
   "id": "39b591ab",
   "metadata": {},
   "source": [
    "2. Ask the user to enter a number x. print out x, 2x, 3x, 4x, and 5x,\n",
    "each separated by three dashes, like below.\n",
    "Enter a number: 7\n",
    "7---14---21---28---35"
   ]
  },
  {
   "cell_type": "code",
   "execution_count": null,
   "id": "1c2fc0a8",
   "metadata": {},
   "outputs": [],
   "source": [
    "try:                         #Declaring the try block\n",
    "    num=eval(input('Enter the number: '))    #Input of the number to be printed\n",
    "    print(num,2*num,3*num,4*num,5*num,sep='---',end='')   #Printing the pattern\n",
    "except Exception as e:                #Declaring the except block\n",
    "    print(e)"
   ]
  },
  {
   "cell_type": "markdown",
   "id": "abee0427",
   "metadata": {},
   "source": [
    "3. Write a program that asks the user for a weight in kilograms and\n",
    "converts it to pounds. There are 2.2 pounds in a kilogram."
   ]
  },
  {
   "cell_type": "code",
   "execution_count": null,
   "id": "e3dc9f67",
   "metadata": {},
   "outputs": [],
   "source": [
    "try:                     #Declaring the try block\n",
    "    weight=eval(input('Enter the weight in KG: '))    #Input of the weight\n",
    "    print(f'{weight} in kilograms is equals to {2.2*weight:.2f} in pounds')   #Printing the weight given in kilgorams as pounds\n",
    "except Exception as e:             #Declaring the except block\n",
    "    print(e)"
   ]
  },
  {
   "cell_type": "markdown",
   "id": "51a40ab4",
   "metadata": {},
   "source": [
    "4. Write a program that asks the user to enter three numbers (use three\n",
    "separate input statements).Create variables called total and average\n",
    "that hold the sum and average of the three numbers and print out the\n",
    "values of total and average."
   ]
  },
  {
   "cell_type": "code",
   "execution_count": null,
   "id": "01538bcf",
   "metadata": {},
   "outputs": [],
   "source": [
    "try:                       #Declaring the try block\n",
    "    num1=eval(input('Enter the first digit: '))  #Input of the first number\n",
    "    num2=eval(input('Enter the second digit: ')) #Input of the second number\n",
    "    num3=eval(input('Enter the third digit: '))  #Input of the third number\n",
    "    sum=num1+num2+num3                           #Calculating sum of the given numbers\n",
    "    avg=sum/3                                    #Calculating the average of the given numbers\n",
    "    print(f'Sum is {sum}, Avg is {avg:.2f}')     #Printing the sum and average of the given numbers\n",
    "except Exception as e:        #Declaring the except block\n",
    "    print(e)"
   ]
  },
  {
   "cell_type": "markdown",
   "id": "c3bf2214",
   "metadata": {},
   "source": [
    "5. A lot of cell phones have tip calculators. Write one. Ask the user for\n",
    "the price of the meal and the percent tip they want to leave. Then\n",
    "print both the tip amount and the total bill with the tip included."
   ]
  },
  {
   "cell_type": "code",
   "execution_count": null,
   "id": "1cdcba09",
   "metadata": {},
   "outputs": [],
   "source": [
    "try:                                #Declaring the try block\n",
    "    price=eval(input('Enter the price of the meal: '))   #Input of the price of the meal\n",
    "    perc=eval(input('Enter the percentage of tip you would like to leave: '))   #Input of the percentage of the tip\n",
    "    tip=price*perc/100             #Calculating the tip\n",
    "    total=price+tip                #Calculating the total price\n",
    "    print(f'Tip amount= {tip:.2f}') #Printing the tip amount\n",
    "    print(f'Total bill: {total:.2f}')  #Printing the total price of the meal\n",
    "except Exception as e:             #Declaring the except block\n",
    "    print(e)"
   ]
  }
 ],
 "metadata": {
  "kernelspec": {
   "display_name": "Python 3 (ipykernel)",
   "language": "python",
   "name": "python3"
  },
  "language_info": {
   "codemirror_mode": {
    "name": "ipython",
    "version": 3
   },
   "file_extension": ".py",
   "mimetype": "text/x-python",
   "name": "python",
   "nbconvert_exporter": "python",
   "pygments_lexer": "ipython3",
   "version": "3.11.4"
  }
 },
 "nbformat": 4,
 "nbformat_minor": 5
}
