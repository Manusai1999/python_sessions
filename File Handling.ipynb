{
 "cells": [
  {
   "cell_type": "code",
   "execution_count": 16,
   "id": "7511552c",
   "metadata": {},
   "outputs": [
    {
     "name": "stdout",
     "output_type": "stream",
     "text": [
      "First Name: Santhanam Surname: Jayendhran Email ID: jayendhran.ms@accenture.com> Company: @accenture\n",
      "First Name: Bhattacharjee, Surname: Sankalan Email ID: s.t.bhattacharjee@accenture.com> Company: @accenture\n",
      "First Name: Bansal, Surname: Vaishnavi Email ID: vaishnavi.a.bansal@accenture.com> Company: @accenture\n",
      "First Name: Chandra Shekhar, Surname: Pavuluri Email ID: p.a.chandra.shekhar@accenture.com> Company: @accenture\n",
      "First Name: J Doshi, Surname: Hiren Email ID: hiren.j.doshi@accenture.com> Company: @accenture\n",
      "First Name: Shimoga Prakash, Surname: Jeevan Email ID: j.shimoga.prakash@accenture.com> Company: @accenture\n",
      "First Name: Akhouri, Surname: Shreyash Email ID: shreyash.akhouri@accenture.com> Company: @accenture\n",
      "First Name: Nath, Surname: Nupanga Email ID: nupanga.nath@accenture.com> Company: @accenture\n",
      "First Name: Ponna, Surname: Ramesh Email ID: r.ponna@accenture.com> Company: @accenture\n",
      "First Name: Singhal, Surname: Aditya Email ID: aditya.d.singhal@accenture.com> Company: @accenture\n",
      "First Name: Gorai, Surname: Sumit Email ID: sumit.gorai@accenture.com> Company: @accenture\n",
      "First Name: Valdez, Surname: Mariele Email ID: mariele.dyan.valdez@accenture.com> Company: @accenture\n",
      "First Name: Cancel, Surname: Abigail Email ID: abigail.kyle.cancel@accenture.com> Company: @accenture\n",
      "First Name: BONDALAKUNTA, Surname: POOJITHA Email ID: p.bondalakunta@accenture.com> Company: @accenture\n",
      "First Name: priyanka uppala, Surname: sai Email ID: sai.priyanka.uppala@accenture.com> Company: @accenture\n",
      "First Name: Nitin SHINDE, Surname: NIKHIL Email ID: nikhil.nitin.shinde@accenture.com> Company: @accenture\n",
      "First Name: Chidre, Surname: Swapna Email ID: swapna.chidre@accenture.com> Company: @accenture\n",
      "First Name: Sahu, Surname: Swastik Email ID: s.satyapragyan.sahu@accenture.com> Company: @accenture\n",
      "First Name: Sikka, Surname: Ankit Email ID: ankit.sikka@accenture.com> Company: @accenture\n",
      "First Name: Dara, Surname: Sai Email ID: sai.madhukar.dara@accenture.com> Company: @accenture\n",
      "First Name: Pattanshetti, Surname: Sampreet Email ID: s.pattanshetti@accenture.com> Company: @accenture\n",
      "First Name: Sharma, Surname: Ayush Email ID: ayush.ad.sharma@accenture.com> Company: @accenture\n",
      "First Name: Latorena, Surname: Zairous Email ID: zairous.jay.latorena@accenture.com> Company: @accenture\n",
      "First Name: Abhimanyu Pradhan, Surname: Roshankumar Email ID: r.abhimanyu.pradhan@accenture.com> Company: @accenture\n",
      "First Name: Jaiswal, Surname: Lehar Email ID: lehar.jaiswal@accenture.com> Company: @accenture\n",
      "First Name: Gupta, Surname: Retik Email ID: retik.gupta@accenture.com> Company: @accenture\n",
      "First Name: Satti, Surname: Phanindra Email ID: phanindra.r.satti@accenture.com> Company: @accenture\n",
      "First Name: Kumar, Surname: Manish Email ID: manish.dw.kumar@accenture.com> Company: @accenture\n",
      "First Name: Balakrishnan, Surname: Devi Email ID: devi.p.balakrishnan@accenture.com> Company: @accenture\n",
      "First Name: M S, Surname: Roshni Email ID: roshni.priya.m.s@accenture.com> Company: @accenture\n",
      "First Name: Cheerala, Surname: Vanaja Email ID: vanaja.cheerala@accenture.com> Company: @accenture\n",
      "First Name: G D, Surname: Chandrashekhar Email ID: chandrashekhar.g.d@accenture.com> Company: @accenture\n",
      "First Name: Nikhil Reddy, Surname: Madithati Email ID: m.nikhil.reddy@accenture.com> Company: @accenture\n",
      "First Name: Santos, Surname: Jeroshelle Email ID: jeroshelle.v.santos@accenture.com> Company: @accenture\n",
      "First Name: Milan, Surname: Gerald Email ID: gerald.john.milan@accenture.com> Company: @accenture\n",
      "First Name: Gupta, Surname: Vivek Email ID: vivek.u.gupta@accenture.com> Company: @accenture\n",
      "First Name: Mandal, Surname: Sumit Email ID: s.sunilkumar.mandal@accenture.com> Company: @accenture\n",
      "First Name: Prakash Shukla, Surname: Ashok Email ID: ashok.prakash.shukla@accenture.com> Company: @accenture\n",
      "First Name: Naganathan, Surname: Siva Email ID: sivakumar.naganathan@accenture.com> Company: @accenture\n",
      "First Name: GAHLOT, Surname: NIKHIL Email ID: nikhil.gahlot@accenture.com> Company: @accenture\n",
      "First Name: Kanjilal, Surname: Sourav Email ID: s.a.kanti.kanjilal@accenture.com> Company: @accenture\n",
      "First Name: Nallagoni, Surname: Omkar Email ID: omkar.nallagoni@accenture.com> Company: @accenture\n",
      "First Name: Sahajan, Surname: Sandra Email ID: sandra.sahajan@accenture.com> Company: @accenture\n",
      "First Name: Nelluri, Surname: Chaitanya Email ID: chaitanya.nelluri@accenture.com> Company: @accenture\n"
     ]
    }
   ],
   "source": [
    "import os\n",
    "path='C:\\\\Users\\\\Manu Sai\\\\Downloads'\n",
    "os.chdir(path)\n",
    "os.getcwd()\n",
    "file_path='emails.txt'\n",
    "file=open(file_path,encoding='utf-8-sig')\n",
    "list1=[i.strip('[]').split(';') for i in file]\n",
    "list2=list1[0]\n",
    "fir_name=[i.strip()[0:i.index(',')] for i in list2]\n",
    "sur_name=[i[i.index(',')+2:i.index(' ',i.index(',')+2)] for i in list2]\n",
    "email=[i[i.index('<')+1:] for i in list2]\n",
    "company=[i[i.index('@'):i.index('.',i.index('@')-1)] for i in list2]\n",
    "for i,j,k,l in zip(fir_name,sur_name,email,company):\n",
    "    print('First Name:',i,'Surname:',j,\"Email ID:\",k,\"Company:\",l)\n"
   ]
  }
 ],
 "metadata": {
  "kernelspec": {
   "display_name": "Python 3 (ipykernel)",
   "language": "python",
   "name": "python3"
  },
  "language_info": {
   "codemirror_mode": {
    "name": "ipython",
    "version": 3
   },
   "file_extension": ".py",
   "mimetype": "text/x-python",
   "name": "python",
   "nbconvert_exporter": "python",
   "pygments_lexer": "ipython3",
   "version": "3.11.4"
  }
 },
 "nbformat": 4,
 "nbformat_minor": 5
}
