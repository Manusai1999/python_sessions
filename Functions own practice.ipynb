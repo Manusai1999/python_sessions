{
 "cells": [
  {
   "cell_type": "code",
   "execution_count": 5,
   "id": "0aa3b8b1",
   "metadata": {},
   "outputs": [
    {
     "name": "stdout",
     "output_type": "stream",
     "text": [
      "6416\n"
     ]
    }
   ],
   "source": [
    "def func(*args):\n",
    "    res=0\n",
    "    for i in args:\n",
    "        res=res+i\n",
    "    print(res)\n",
    "func(1,2,3,44,654,8,89,4,5546,65)"
   ]
  },
  {
   "cell_type": "code",
   "execution_count": null,
   "id": "39dbc452",
   "metadata": {},
   "outputs": [],
   "source": []
  }
 ],
 "metadata": {
  "kernelspec": {
   "display_name": "Python 3 (ipykernel)",
   "language": "python",
   "name": "python3"
  },
  "language_info": {
   "codemirror_mode": {
    "name": "ipython",
    "version": 3
   },
   "file_extension": ".py",
   "mimetype": "text/x-python",
   "name": "python",
   "nbconvert_exporter": "python",
   "pygments_lexer": "ipython3",
   "version": "3.11.4"
  }
 },
 "nbformat": 4,
 "nbformat_minor": 5
}
