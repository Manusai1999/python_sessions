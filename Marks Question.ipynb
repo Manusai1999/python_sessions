{
 "cells": [
  {
   "cell_type": "code",
   "execution_count": 11,
   "id": "f120e975",
   "metadata": {},
   "outputs": [
    {
     "name": "stdout",
     "output_type": "stream",
     "text": [
      "Where is the NareshIT?\n",
      "Enter your answer: ameerpet\n",
      "correct\n",
      "What is this course?\n",
      "Enter your answer: data science\n",
      "correct\n",
      "Who is the PM of India?\n",
      "Enter your answer: \n",
      "wrong\n",
      "You got 2 marks\n",
      "You got 1 wrong\n"
     ]
    }
   ],
   "source": [
    "que=['Where is the NareshIT?','What is this course?','Who is the PM of India?']\n",
    "ans=['Ameerpet','Data Science','Draupadi Murmur']\n",
    "marks=0\n",
    "for i,j in zip(que,ans):\n",
    "    print(i)\n",
    "    answ=input('Enter your answer: ')\n",
    "    if answ.casefold()==j.casefold():\n",
    "        marks=marks+1\n",
    "        print('correct')\n",
    "    else:\n",
    "        print(\"wrong\")\n",
    "print(\"You got\",marks,'marks')\n",
    "print(\"You got\",3-marks,\"wrong\")"
   ]
  },
  {
   "cell_type": "code",
   "execution_count": 143,
   "id": "ef943c79",
   "metadata": {},
   "outputs": [
    {
     "name": "stdout",
     "output_type": "stream",
     "text": [
      "Enter the item you want to search: hear\n",
      "item not found\n"
     ]
    }
   ],
   "source": [
    "lst=[1,2,3,['hello','doctor',['hear',['heart',5]],'miss aayeee'],'miss aayeee']\n",
    "def findlst(lst,item):\n",
    "    if item in lst:\n",
    "        print([lst.index(item)])\n",
    "    else:\n",
    "        for i in lst:\n",
    "            if type(i)==list:\n",
    "                    print([lst.index(i)],end=' ')\n",
    "                    findlst(i,item)\n",
    "            if item not in lst:\n",
    "                return 2\n",
    "item=input(\"Enter the item you want to search: \")\n",
    "if item.isdigit():\n",
    "        item=int(item)\n",
    "res=findlst(lst,item)\n",
    "if res==2:\n",
    "    print('item not found')"
   ]
  },
  {
   "cell_type": "code",
   "execution_count": 101,
   "id": "7bb6354f",
   "metadata": {},
   "outputs": [
    {
     "name": "stdout",
     "output_type": "stream",
     "text": [
      "Enter the item you want to search: 2\n",
      "1\n"
     ]
    }
   ],
   "source": [
    "lst1=[1,2,3,['hello','doctor',['hear',['heart']],'miss aayeee']]\n",
    "item=input(\"Enter the item you want to search: \")\n",
    "item.isdigit()\n",
    "if item.isdigit():\n",
    "    item=int(item)\n",
    "        #if int(item) in lst1:\n",
    "    print(lst1.index(item))"
   ]
  },
  {
   "cell_type": "code",
   "execution_count": 86,
   "id": "13e9d8f3",
   "metadata": {},
   "outputs": [
    {
     "name": "stdout",
     "output_type": "stream",
     "text": [
      "-100\n"
     ]
    }
   ],
   "source": [
    "arr=[-100,-200,-35534500,-245456454634,-6485463]\n",
    "max1=arr[0]\n",
    "for i in range(len(arr)):\n",
    "    if max1<arr[i]:\n",
    "        max1=arr[i]\n",
    "print(max1)"
   ]
  },
  {
   "cell_type": "code",
   "execution_count": 53,
   "id": "e02cbca1",
   "metadata": {},
   "outputs": [
    {
     "name": "stdout",
     "output_type": "stream",
     "text": [
      "5\n"
     ]
    }
   ],
   "source": [
    "lst=[1,2,3,['hello','doctor',['heart'],'miss aayeee']]\n",
    "print(len(lst[3][0]))"
   ]
  },
  {
   "cell_type": "code",
   "execution_count": 106,
   "id": "82cc2465",
   "metadata": {},
   "outputs": [
    {
     "ename": "NameError",
     "evalue": "name 'NULL' is not defined",
     "output_type": "error",
     "traceback": [
      "\u001b[1;31m---------------------------------------------------------------------------\u001b[0m",
      "\u001b[1;31mNameError\u001b[0m                                 Traceback (most recent call last)",
      "Cell \u001b[1;32mIn[106], line 1\u001b[0m\n\u001b[1;32m----> 1\u001b[0m NULL\n",
      "\u001b[1;31mNameError\u001b[0m: name 'NULL' is not defined"
     ]
    }
   ],
   "source": []
  },
  {
   "cell_type": "code",
   "execution_count": null,
   "id": "2d1f46ab",
   "metadata": {},
   "outputs": [],
   "source": []
  }
 ],
 "metadata": {
  "kernelspec": {
   "display_name": "Python 3 (ipykernel)",
   "language": "python",
   "name": "python3"
  },
  "language_info": {
   "codemirror_mode": {
    "name": "ipython",
    "version": 3
   },
   "file_extension": ".py",
   "mimetype": "text/x-python",
   "name": "python",
   "nbconvert_exporter": "python",
   "pygments_lexer": "ipython3",
   "version": "3.11.4"
  }
 },
 "nbformat": 4,
 "nbformat_minor": 5
}
