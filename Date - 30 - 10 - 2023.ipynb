{
 "cells": [
  {
   "cell_type": "code",
   "execution_count": 5,
   "id": "44cf8b7e",
   "metadata": {},
   "outputs": [
    {
     "name": "stdout",
     "output_type": "stream",
     "text": [
      "Enter the distance in KM 1\n",
      "Charge is 30Rs\n"
     ]
    }
   ],
   "source": [
    "dist=eval(input(\"Enter the distance in KM \"))\n",
    "if dist>=10:\n",
    "    print(\"Charge is 100Rs\")\n",
    "elif dist>=7:\n",
    "    print(\"Charge is 70Rs\")\n",
    "elif dist>=4:\n",
    "    print(\"Charge is 40Rs\")\n",
    "else:\n",
    "    print(\"Charge is 30Rs\")"
   ]
  },
  {
   "cell_type": "markdown",
   "id": "32c69fe8",
   "metadata": {},
   "source": [
    "WAP ask the user to enter salary\n",
    "If salary >10L \n",
    "Enter tax percentage : 10%\n",
    "print: Amount of tax paid\n",
    "if salary between 7 - 10L\n",
    "Enter tax percentage : 5%\n",
    "print: Amount of tax paid\n",
    "if salary between 4 - 7L\n",
    "Enter tax percentage : 2.5%\n",
    "print: Amount of tax paid\n",
    "Otherwise Print (No Tax Required)\n"
   ]
  },
  {
   "cell_type": "code",
   "execution_count": 18,
   "id": "3c856401",
   "metadata": {},
   "outputs": [
    {
     "name": "stdout",
     "output_type": "stream",
     "text": [
      "Enter the salary: 1000000\n",
      "Enter the tax percentage 10\n",
      "Amount of tax paid: 100000.00\n"
     ]
    }
   ],
   "source": [
    "salary=eval(input(\"Enter the salary: \"))\n",
    "if salary>=1000000:\n",
    "    tax_per=eval(input(\"Enter the tax percentage \"))\n",
    "    print(f\"Amount of tax paid: {salary*tax_per/100:.2f}\")\n",
    "elif salary>=700000:\n",
    "    tax_per=eval(input(\"Enter the tax percentage \"))\n",
    "    print(f\"Amount of tax paid: {salary*tax_per/100:.2f}\")\n",
    "elif salary>=400000:\n",
    "    tax_per=eval(input(\"Enter the tax percentage \"))\n",
    "    print(f\"Amount of tax paid: {salary*tax_per/100:.2f}\")\n",
    "else:\n",
    "    print(\"No tax required\")"
   ]
  },
  {
   "cell_type": "markdown",
   "id": "3fe94769",
   "metadata": {},
   "source": [
    "WAP ask the user enter which operation to perform \n",
    "- addition/mult/sub/div\n",
    "ask the user enter a number1\n",
    "ask the user enter a number2\n",
    "-if the operation equal to addition : \n",
    "    print(\"We are doin addition operation\")\n",
    "    print(\"Addition of number1 and number2 is \")\n",
    "-if the operation equal to sub : \n",
    "    print(\"We are doin sub operation\")\n",
    "    print(\"Subtraction of number1 and number2 is \")\n",
    "-if the operation equal to addition : \n",
    "    print(\"We are doin mult operation\")\n",
    "    print(\"mult of number1 and number2 is \")\n",
    "-if the operation equal to addition : \n",
    "    print(\"We are doin division operation\")\n",
    "    print(\"Division of number1 and number2 is \")\n",
    "-else \n",
    "print(\"Provide suitable operation\")"
   ]
  },
  {
   "cell_type": "code",
   "execution_count": 29,
   "id": "6c64e1ba",
   "metadata": {
    "scrolled": true
   },
   "outputs": [
    {
     "name": "stdout",
     "output_type": "stream",
     "text": [
      "Enter the operation to be performed: 66454\n",
      "Enter the number 1: 54\n",
      "Enter the number 2: 54\n",
      "Provide suitable operation\n"
     ]
    }
   ],
   "source": [
    "try:\n",
    "    operation=input(\"Enter the operation to be performed: \")\n",
    "    num1=eval(input(\"Enter the number 1: \"))\n",
    "    num2=eval(input(\"Enter the number 2: \"))\n",
    "    if operation==\"addition\": \n",
    "        print(\"We are doing addition operation\")\n",
    "        print(f\"Addition of number1 and number2 is {num1+num2}\")\n",
    "    elif operation==\"subtraction\": \n",
    "        print(\"We are doing sub operation\")\n",
    "        print(f\"Subtraction of number1 and number2 is {num1-num2}\")\n",
    "    elif operation==\"multiplication\": \n",
    "        print(\"We are doing mult operation\")\n",
    "        print(f\"Multiplication of number1 and number2 is {num1*num2}\")\n",
    "    elif operation==\"division\": \n",
    "        print(\"We are doing division operation\")\n",
    "        print(f\"Division of number1 and number2 is {num1/num2}\")\n",
    "    else:\n",
    "        print(\"Provide suitable operation\")\n",
    "except Exception as "
   ]
  },
  {
   "cell_type": "code",
   "execution_count": 32,
   "id": "26376516",
   "metadata": {},
   "outputs": [
    {
     "name": "stdout",
     "output_type": "stream",
     "text": [
      "Enter the number: 0\n",
      "It is a zero number\n"
     ]
    }
   ],
   "source": [
    "try:\n",
    "    num=eval(input(\"Enter the number: \"))\n",
    "    if num>=0:\n",
    "        if num==0:\n",
    "            print(\"It is a zero number\")\n",
    "        else:\n",
    "            print(\"It is a positive number\")\n",
    "    else:\n",
    "        print(\"It is a negative number\")\n",
    "except Exception as e:\n",
    "    print(e)"
   ]
  },
  {
   "cell_type": "markdown",
   "id": "813b0e30",
   "metadata": {},
   "source": [
    "WAP ask the user enter the gender either Male or Female\n",
    "- if gender equal to male\n",
    "        -ask the user to enter age\n",
    "        if age >60\n",
    "            print(\"senior citizen\")\n",
    "        if age 30-60:\n",
    "            print(\"Middle aged man\")\n",
    "        if age 20-30:\n",
    "            print(\"Young Boy\")\n",
    "        if age 13-20:\n",
    "            print(\"Teenage boy\")\n",
    "        else:\n",
    "            print(\"Boy\")\n",
    "- if gender equal to female\n",
    "        -ask the user to enter age\n",
    "        if age >60\n",
    "            print(\"senior citizen\")\n",
    "        if age 30-60:\n",
    "            print(\"Middle Aged Woman\")\n",
    "        if age 20-30:\n",
    "            print(\"Young Girl\")\n",
    "        if age 13-20:\n",
    "            print(\"Teenage girl\")\n",
    "        else:\n",
    "            print(\"Girl\")\n",
    "        "
   ]
  },
  {
   "cell_type": "code",
   "execution_count": 35,
   "id": "0505f215",
   "metadata": {},
   "outputs": [
    {
     "name": "stdout",
     "output_type": "stream",
     "text": [
      "Enter the gender (male/female)malee\n",
      "Provide proper gender\n"
     ]
    }
   ],
   "source": [
    "gender=input(\"Enter the gender (male/female)\" )\n",
    "if gender==\"male\":\n",
    "    age=eval(input(\"Enter the age: \"))\n",
    "    if age>=60:\n",
    "        print(\"Senior citizen\")\n",
    "    elif age>=30:\n",
    "        print(\"Middle aged man\")\n",
    "    elif age>=20:\n",
    "        print(\"Young Boy\")\n",
    "    elif age>=13:\n",
    "        print(\"Teenage boy\")\n",
    "    else:\n",
    "        print(\"Boy\")\n",
    "elif gender==\"female\":\n",
    "    age=eval(input(\"Enter the age: \"))\n",
    "    if age>=60:\n",
    "        print(\"Senior citizen\")\n",
    "    elif age>=30:\n",
    "        print(\"Middle aged woman\")\n",
    "    elif age>=20:\n",
    "        print(\"Young Girl\")\n",
    "    elif age>=13:\n",
    "        print(\"Teenage Girl\")\n",
    "    else:\n",
    "        print(\"Girl\")\n",
    "else:\n",
    "    print(\"Provide proper gender\")"
   ]
  },
  {
   "cell_type": "markdown",
   "id": "ca31b25f",
   "metadata": {},
   "source": [
    "WAP ask the user to enter 3 numbers\n",
    "Find the biggest number"
   ]
  },
  {
   "cell_type": "code",
   "execution_count": 5,
   "id": "f6e95d03",
   "metadata": {},
   "outputs": [
    {
     "name": "stdout",
     "output_type": "stream",
     "text": [
      "Enter the number1: 0\n",
      "Enter the number2: 0\n",
      "Enter the number3: 55\n",
      "Biggest number is 55\n"
     ]
    }
   ],
   "source": [
    "num1=eval(input(\"Enter the number1: \"))\n",
    "num2=eval(input(\"Enter the number2: \"))\n",
    "num3=eval(input(\"Enter the number3: \"))\n",
    "if num1==num2==num3==0:\n",
    "    print(\"All are zeroes\")\n",
    "elif num1>num2:\n",
    "    if num1>num3:\n",
    "        print(\"Biggest number is\",num1)\n",
    "    elif num2>num3:\n",
    "        print(\"Biggest number is\",num2)\n",
    "else:\n",
    "    print(\"Biggest number is\",num3)"
   ]
  },
  {
   "cell_type": "code",
   "execution_count": null,
   "id": "e72300a2",
   "metadata": {},
   "outputs": [],
   "source": []
  }
 ],
 "metadata": {
  "kernelspec": {
   "display_name": "Python 3 (ipykernel)",
   "language": "python",
   "name": "python3"
  },
  "language_info": {
   "codemirror_mode": {
    "name": "ipython",
    "version": 3
   },
   "file_extension": ".py",
   "mimetype": "text/x-python",
   "name": "python",
   "nbconvert_exporter": "python",
   "pygments_lexer": "ipython3",
   "version": "3.11.4"
  }
 },
 "nbformat": 4,
 "nbformat_minor": 5
}
