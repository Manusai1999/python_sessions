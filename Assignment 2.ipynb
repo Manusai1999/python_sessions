{
 "cells": [
  {
   "cell_type": "markdown",
   "id": "3b059bb7",
   "metadata": {},
   "source": [
    "1. Ramesh’s basic salary is input through the keyboard. His dearness allowance is 40% of\n",
    "basic salary, and house rent allowance is 20% of basic salary. Write a program to\n",
    "calculate his gross salary."
   ]
  },
  {
   "cell_type": "code",
   "execution_count": null,
   "id": "f7a054dd",
   "metadata": {},
   "outputs": [],
   "source": [
    "try:                                                  #Declaring try block\n",
    "    base=eval(input(\"Enter the basic salary: \"))      #Input of the basic salary\n",
    "    dearal=base*0.4                                   #Calculating Dearness Allowance\n",
    "    rental=base*0.2                                   #Calculating Rent Allowance\n",
    "    gross_sal=base+dearal+rental                      #Calculating Gross Salary\n",
    "    print(f\"Dearness allowance of Ramesh is {dearal:.2f}\") #Printing Dearness Allowance\n",
    "    print(f'House rent allowance {rental:.2f}')            #Printing Rent Allowance\n",
    "    print(f'Gross salary {gross_sal:.2f}')                 #Printing Gross Salary\n",
    "except Exception as e:                                #Declaring except block\n",
    "    print(e)                                          #Printing the system defined error"
   ]
  },
  {
   "cell_type": "markdown",
   "id": "33998a30",
   "metadata": {},
   "source": [
    "2. The distance between two cities (in km.) is input through the keyboard. Write a program\n",
    "to convert and print this distance in meters, feet, inches and centimeters."
   ]
  },
  {
   "cell_type": "code",
   "execution_count": null,
   "id": "b7b113d6",
   "metadata": {},
   "outputs": [],
   "source": [
    "try:                                                        #Declaring try block\n",
    "    dist=eval(input(\"Enter the distance between cities: \")) #Input of the distance between cities\n",
    "    meter=dist*1000                                         #Calculating distance in meters\n",
    "    feet=dist*3280.8399                                     #Calculating distance in feet\n",
    "    inch=dist*39370.0787                                    #Calculating distance in inches\n",
    "    cent=dist*100000                                        #Calculating distance in centimeters\n",
    "    print(f'Distance in meters is {meter:.2f}')             #Printing Distance in meters\n",
    "    print(f'Distance in feet is {feet:.2f}')                #Printing Distance in feet\n",
    "    print(f'Distance in inches is {inch:.2f}')              #Printing Distance in inches\n",
    "    print(f'Distance in centimeters is {cent:.2f}')         #Printing Distance in centimeters\n",
    "except Exception as e:                                      #Declaring except block\n",
    "    print(e)                                                #Printing the system defined error"
   ]
  },
  {
   "cell_type": "markdown",
   "id": "9d1605ce",
   "metadata": {},
   "source": [
    "3. If the marks obtained by a student in five different subjects are input through the\n",
    "keyboard, find out the aggregate marks and percentage marks obtained by the student.\n",
    "Assume that the maximum marks that can be obtained by a student in each subject is\n",
    "100"
   ]
  },
  {
   "cell_type": "code",
   "execution_count": null,
   "id": "a8160578",
   "metadata": {},
   "outputs": [],
   "source": [
    "try:                                                       #Declaring try block\n",
    "    s1=eval(input(\"Enter the marks of the subject 1: \"))   #Input of the 1st subject\n",
    "    s2=eval(input(\"Enter the marks of the subject 2: \"))   #Input of the 2nd subject\n",
    "    s3=eval(input(\"Enter the marks of the subject 3: \"))   #Input of the 3rd subject\n",
    "    s4=eval(input(\"Enter the marks of the subject 4: \"))   #Input of the 4th subject\n",
    "    s5=eval(input(\"Enter the marks of the subject 5: \"))   #Input of the 5th subject\n",
    "    total=s1+s2+s3+s4+s5                                   #Calculating total marks\n",
    "    agg=total/5                                            #Calculating Aggregate marks of the student\n",
    "    perc=(total/500)*100                                   #Calculating percentage of marks\n",
    "    print(f\"Aggregate marks {agg:.2f}\")                    #Printing Aggregate Marks\n",
    "    print(f\"Percentage of marks obtained {perc:.2f}\")      #Printing Percentage of marks obtained\n",
    "except Exception as e:                                     #Declaring except block\n",
    "    print(e)                                               #Printing the system defined error"
   ]
  },
  {
   "cell_type": "markdown",
   "id": "a192e924",
   "metadata": {},
   "source": [
    "4. Temperature of a city in Fahrenheit degrees is input through the keyboard. Write a\n",
    "program to convert this temperature into Centigrade degrees."
   ]
  },
  {
   "cell_type": "code",
   "execution_count": null,
   "id": "06ed5ff5",
   "metadata": {},
   "outputs": [],
   "source": [
    "try:                                                            #Declaring the try block\n",
    "    temp=eval(input(\"Enter the temperature in Fahrenheit: \"))   #Input of the temperature in Fahrenheit\n",
    "    c=(temp-32)*5/9                                             #Calculating temperature in Celsius\n",
    "    print(f\"Temperature in Celsius: {c:.2f}\")                   #Printing temperature in Celsius\n",
    "except Exception as e:                                          #Defining except block\n",
    "    print(e)                                                    #Printing system defined error"
   ]
  },
  {
   "cell_type": "markdown",
   "id": "370f618e",
   "metadata": {},
   "source": [
    "5. The length & breadth of a rectangle and radius of a circle are input through the\n",
    "keyboard. Write a program to calculate the area & perimeter of the rectangle, and the\n",
    "area & circumference of the circle."
   ]
  },
  {
   "cell_type": "code",
   "execution_count": null,
   "id": "d7375577",
   "metadata": {},
   "outputs": [],
   "source": [
    "try:                                                               #Declaring the try block\n",
    "    import math                                                    #Importing mzth module\n",
    "    len=eval(input(\"Enter the length of rectangle \"))              #Input of the lenght of rectangle\n",
    "    bre=eval(input(\"Enter the breadth of rectangle \"))             #Input of the breadth of rectangle\n",
    "    r=eval(input(\"Enter the radius of rectangle \"))                #Input of the radius of circle\n",
    "    area_rec=len*bre                                               #Calculating area od rectangle\n",
    "    per_rec=2*(len+bre)                                            #Calculating perimeter of rectangle\n",
    "    pie=math.pi                                                    #Storing pi value in a variable\n",
    "    area_cir=pie*r*r                                               #Calculating area of circle\n",
    "    per_cir=2*pie*r                                                #Calculating perimeter of circle\n",
    "    print(f'Perimeter of the rectangle is {per_rec:.2f}')          #Printing the perimeter of rectangle\n",
    "    print(f'Area of the rectangle is {area_rec:.2f}')              #Printing area of rectangle\n",
    "    print(f'Perimeter of the circle is {per_cir:.2f}')             #Printing perimeter of circle\n",
    "    print(f'Area of the circle is {area_cir:.2f}')                 #Printing area of circle\n",
    "except Exception as e:                                             #Defining except block\n",
    "    print(e)                                                       #Printing system defined errror"
   ]
  },
  {
   "cell_type": "markdown",
   "id": "5f5ccfcb",
   "metadata": {},
   "source": [
    "6. Two numbers are input through the keyboard into two locations C and D. Write a\n",
    "program to interchange the contents of C and D."
   ]
  },
  {
   "cell_type": "code",
   "execution_count": null,
   "id": "16c83fb5",
   "metadata": {},
   "outputs": [],
   "source": [
    "try:                                                             #Declaring the try block\n",
    "    c=eval(input('Enter the  location of C: '))                  #Input of the C location\n",
    "    d=eval(input('Enter the  location of D: '))                  #Input of the D location\n",
    "    a=c                                                          #Interchanging C location with  a\n",
    "    c=d                                                          #Changing c value with d\n",
    "    d=a                                                          #Changing d value with a\n",
    "    print(f'Location of C {c}')                                  #Printing value of C\n",
    "    print(f'Location of D {d}')                                  #Printing value  od D\n",
    "except Exception as e:                                           #Defining except block\n",
    "    print(e)                                                     #Printing system defined errror"
   ]
  },
  {
   "cell_type": "markdown",
   "id": "8ef0b595",
   "metadata": {},
   "source": [
    "7. If a five-digit number is input through the keyboard, write a program to reverse the\n",
    "number."
   ]
  },
  {
   "cell_type": "code",
   "execution_count": null,
   "id": "7c9e4604",
   "metadata": {},
   "outputs": [],
   "source": [
    "num=eval(input(\"Enter the five digit number: \")) #Input of the five digit number\n",
    "    rev_num=0 #Declaring a variable\n",
    "\n",
    "    rem=num%10 #Calculating remainder of num\n",
    "    rev_num=rem #Assigning it to rev_num\n",
    "    num=num//10 #Dividing num with 10\n",
    "\n",
    "    rem=num%10 #Calculating remainder of num\n",
    "    rev_num=rev_num*10+rem #Multiplying rev_num with 10 and adding remainder\n",
    "    num=num//10 #Dividing num with 10\n",
    "\n",
    "    rem=num%10 #Calculating remainder of num\n",
    "    rev_num=rev_num*10+rem #Multiplying rev_num with 10 and adding remainder\n",
    "    num=num//10 #Dividing num with 10\n",
    "\n",
    "    rem=num%10 #Calculating remainder of num\n",
    "    rev_num=rev_num*10+rem #Multiplying rev_num with 10 and adding remainder\n",
    "    num=num//10 #Dividing num with 10\n",
    "\n",
    "    rem=num%10 #Calculating remainder of num\n",
    "    rev_num=rev_num*10+rem #Multiplying rev_num with 10 and adding remainder\n",
    "\n",
    "    print(rev_num) #Printing the reversed number"
   ]
  },
  {
   "cell_type": "code",
   "execution_count": null,
   "id": "30607ab5",
   "metadata": {},
   "outputs": [],
   "source": [
    "try: #Defining try block\n",
    "    num=eval(input(\"Enter the five digit number: \")) #Input of the five digit number\n",
    "    rev_num=0 #Declaring a variable\n",
    "\n",
    "    rem=num%10 #Calculating remainder of num\n",
    "    rev_num=rem #Assigning it to rev_num\n",
    "    num=num//10 #Dividing num with 10\n",
    "\n",
    "    rem=num%10 #Calculating remainder of num\n",
    "    rev_num=rev_num*10+rem #Multiplying rev_num with 10 and adding remainder\n",
    "    num=num//10 #Dividing num with 10\n",
    "\n",
    "    rem=num%10 #Calculating remainder of num\n",
    "    rev_num=rev_num*10+rem #Multiplying rev_num with 10 and adding remainder\n",
    "    num=num//10 #Dividing num with 10\n",
    "\n",
    "    rem=num%10 #Calculating remainder of num\n",
    "    rev_num=rev_num*10+rem #Multiplying rev_num with 10 and adding remainder\n",
    "    num=num//10 #Dividing num with 10\n",
    "\n",
    "    rem=num%10 #Calculating remainder of num\n",
    "    rev_num=rev_num*10+rem #Multiplying rev_num with 10 and adding remainder\n",
    "\n",
    "    print(rev_num) #Printing the reversed number\n",
    "except Exception as e: #Defining except block\n",
    "    print(e) #Printing system defined errror"
   ]
  },
  {
   "cell_type": "code",
   "execution_count": 1,
   "id": "9ec5b0c3",
   "metadata": {},
   "outputs": [
    {
     "name": "stdout",
     "output_type": "stream",
     "text": [
      "Enter the five digit number: 12345\n",
      "54321\n"
     ]
    }
   ],
   "source": [
    "def rev():\n",
    "    num=eval(input(\"Enter the five digit number: \")) #Input of the five digit number\n",
    "    rev_num=0 #Declaring a variable\n",
    "\n",
    "    rem=num%10 #Calculating remainder of num\n",
    "    rev_num=rem #Assigning it to rev_num\n",
    "    num=num//10 #Dividing num with 10\n",
    "\n",
    "    rem=num%10 #Calculating remainder of num\n",
    "    rev_num=rev_num*10+rem #Multiplying rev_num with 10 and adding remainder\n",
    "    num=num//10 #Dividing num with 10\n",
    "\n",
    "    rem=num%10 #Calculating remainder of num\n",
    "    rev_num=rev_num*10+rem #Multiplying rev_num with 10 and adding remainder\n",
    "    num=num//10 #Dividing num with 10\n",
    "\n",
    "    rem=num%10 #Calculating remainder of num\n",
    "    rev_num=rev_num*10+rem #Multiplying rev_num with 10 and adding remainder\n",
    "    num=num//10 #Dividing num with 10\n",
    "\n",
    "    rem=num%10 #Calculating remainder of num\n",
    "    rev_num=rev_num*10+rem #Multiplying rev_num with 10 and adding remainder\n",
    "\n",
    "    print(rev_num) #Printing the reversed number\n",
    "rev()"
   ]
  },
  {
   "cell_type": "code",
   "execution_count": 2,
   "id": "46349e81",
   "metadata": {},
   "outputs": [
    {
     "name": "stdout",
     "output_type": "stream",
     "text": [
      "Enter the five digit number: 45678\n",
      "87654\n"
     ]
    }
   ],
   "source": [
    "def rev(num):\n",
    "    rev_num=0 #Declaring a variable\n",
    "\n",
    "    rem=num%10 #Calculating remainder of num\n",
    "    rev_num=rem #Assigning it to rev_num\n",
    "    num=num//10 #Dividing num with 10\n",
    "\n",
    "    rem=num%10 #Calculating remainder of num\n",
    "    rev_num=rev_num*10+rem #Multiplying rev_num with 10 and adding remainder\n",
    "    num=num//10 #Dividing num with 10\n",
    "\n",
    "    rem=num%10 #Calculating remainder of num\n",
    "    rev_num=rev_num*10+rem #Multiplying rev_num with 10 and adding remainder\n",
    "    num=num//10 #Dividing num with 10\n",
    "\n",
    "    rem=num%10 #Calculating remainder of num\n",
    "    rev_num=rev_num*10+rem #Multiplying rev_num with 10 and adding remainder\n",
    "    num=num//10 #Dividing num with 10\n",
    "\n",
    "    rem=num%10 #Calculating remainder of num\n",
    "    rev_num=rev_num*10+rem #Multiplying rev_num with 10 and adding remainder\n",
    "\n",
    "    print(rev_num) #Printing the reversed number\n",
    "num=eval(input(\"Enter the five digit number: \")) #Input of the five digit number\n",
    "rev(num)"
   ]
  },
  {
   "cell_type": "code",
   "execution_count": 3,
   "id": "4a254e84",
   "metadata": {},
   "outputs": [
    {
     "name": "stdout",
     "output_type": "stream",
     "text": [
      "56789\n"
     ]
    }
   ],
   "source": [
    "def rev(num=98765):\n",
    "    rev_num=0 #Declaring a variable\n",
    "\n",
    "    rem=num%10 #Calculating remainder of num\n",
    "    rev_num=rem #Assigning it to rev_num\n",
    "    num=num//10 #Dividing num with 10\n",
    "\n",
    "    rem=num%10 #Calculating remainder of num\n",
    "    rev_num=rev_num*10+rem #Multiplying rev_num with 10 and adding remainder\n",
    "    num=num//10 #Dividing num with 10\n",
    "\n",
    "    rem=num%10 #Calculating remainder of num\n",
    "    rev_num=rev_num*10+rem #Multiplying rev_num with 10 and adding remainder\n",
    "    num=num//10 #Dividing num with 10\n",
    "\n",
    "    rem=num%10 #Calculating remainder of num\n",
    "    rev_num=rev_num*10+rem #Multiplying rev_num with 10 and adding remainder\n",
    "    num=num//10 #Dividing num with 10\n",
    "\n",
    "    rem=num%10 #Calculating remainder of num\n",
    "    rev_num=rev_num*10+rem #Multiplying rev_num with 10 and adding remainder\n",
    "\n",
    "    print(rev_num) #Printing the reversed number\n",
    "rev()"
   ]
  },
  {
   "cell_type": "markdown",
   "id": "9d3d9a0d",
   "metadata": {},
   "source": [
    "8. If a four-digit number is input through the keyboard, write a program to obtain the sum of\n",
    "the first and last digit of this number."
   ]
  },
  {
   "cell_type": "code",
   "execution_count": null,
   "id": "72a5bef4",
   "metadata": {},
   "outputs": [],
   "source": [
    "number=eval(input(\"Enter the number: \"))                    #Input of the four digit number\n",
    "last=number%10                                              #Calculating the last number\n",
    "sum=last                                                    #Storing last digit in sum variable\n",
    "number=number//10                                           #Dividing number  with 10\n",
    "number=number//10                                           #Dividing number  with 10\n",
    "number=number//10                                           #Dividing number  with 10\n",
    "first=number%10                                             #Calculating the first digit\n",
    "sum=sum+first                                               #Calculating the sum of first and last digit\n",
    "print(\"Sum of first and last digit is\",sum)                 #Printing the sum of first and last digit"
   ]
  },
  {
   "cell_type": "code",
   "execution_count": null,
   "id": "fa1d89ac",
   "metadata": {},
   "outputs": [],
   "source": [
    "try:                                                            #Defining try block\n",
    "    number=eval(input(\"Enter the number: \"))                    #Input of the four digit number\n",
    "    last=number%10                                              #Calculating the last number\n",
    "    sum=last                                                    #Storing last digit in sum variable\n",
    "    number=number//10                                           #Dividing number  with 10\n",
    "    number=number//10                                           #Dividing number  with 10\n",
    "    number=number//10                                           #Dividing number  with 10\n",
    "    first=number%10                                             #Calculating the first digit\n",
    "    sum=sum+first                                               #Calculating the sum of first and last digit\n",
    "    print(\"Sum of first and last digit is\",sum)                 #Printing the sum of first and last digit\n",
    "except Exception as e:                                          #Defining except block\n",
    "    print(e)                                                    #Printing system defined errror"
   ]
  },
  {
   "cell_type": "code",
   "execution_count": 4,
   "id": "f24e310c",
   "metadata": {},
   "outputs": [
    {
     "name": "stdout",
     "output_type": "stream",
     "text": [
      "Enter the number: 4561\n",
      "Sum of first and last digit is 5\n"
     ]
    }
   ],
   "source": [
    "def last_fir():\n",
    "    number=eval(input(\"Enter the number: \"))                    #Input of the four digit number\n",
    "    last=number%10                                              #Calculating the last number\n",
    "    sum=last                                                    #Storing last digit in sum variable\n",
    "    number=number//10                                           #Dividing number  with 10\n",
    "    number=number//10                                           #Dividing number  with 10\n",
    "    number=number//10                                           #Dividing number  with 10\n",
    "    first=number%10                                             #Calculating the first digit\n",
    "    sum=sum+first                                               #Calculating the sum of first and last digit\n",
    "    print(\"Sum of first and last digit is\",sum)                 #Printing the sum of first and last digit\n",
    "last_fir()"
   ]
  },
  {
   "cell_type": "code",
   "execution_count": 6,
   "id": "7099d397",
   "metadata": {},
   "outputs": [
    {
     "name": "stdout",
     "output_type": "stream",
     "text": [
      "Enter the number: 4567\n",
      "Sum of first and last digit is 11\n"
     ]
    }
   ],
   "source": [
    "def last_fir(number):\n",
    "    last=number%10                                              #Calculating the last number\n",
    "    sum=last                                                    #Storing last digit in sum variable\n",
    "    number=number//10                                           #Dividing number  with 10\n",
    "    number=number//10                                           #Dividing number  with 10\n",
    "    number=number//10                                           #Dividing number  with 10\n",
    "    first=number%10                                             #Calculating the first digit\n",
    "    sum=sum+first                                               #Calculating the sum of first and last digit\n",
    "    print(\"Sum of first and last digit is\",sum)                 #Printing the sum of first and last digit\n",
    "number=eval(input(\"Enter the number: \"))                    #Input of the four digit number\n",
    "last_fir(number)"
   ]
  },
  {
   "cell_type": "markdown",
   "id": "ff9e0da7",
   "metadata": {},
   "source": [
    "9. In a town, the percentage of men is 52. The percentage of total literacy is 48. If total\n",
    "percentage of literate men is 35 of the total population, write a program to find the total\n",
    "number of illiterate men and women if the population of the town is 80,000."
   ]
  },
  {
   "cell_type": "code",
   "execution_count": null,
   "id": "397297dd",
   "metadata": {},
   "outputs": [],
   "source": [
    "try:                                                             #Defining try block\n",
    "    lit_men=80000*0.35                                           #Calculating the number of literate men\n",
    "    lit_women=80000*0.13                                         #Calculating the number of literate women\n",
    "    men=80000*0.52                                               #Calculating the number of men\n",
    "    women=80000*0.48                                             #Calculating the number of women\n",
    "    ill_men=men-lit_men                                          #Calculating the number of illiterate men\n",
    "    ill_women=women-lit_women                                    #Calculating the number of illiterate women\n",
    "    print(f\"Number of illiterate men = {ill_men}\")               #Printing the number of illiterate men\n",
    "    print(f\"Number of illiterate women = {ill_women}\")           #Printing the number of illiterate women\n",
    "except Exception as e:                                           #Defining except block\n",
    "    print(e)                                                     #Printing system defined errror"
   ]
  },
  {
   "cell_type": "markdown",
   "id": "eea2f5e9",
   "metadata": {},
   "source": [
    "10. A cashier has currency notes of denominations 10, 50 and 100. If the amount to be\n",
    "withdrawn is input through the keyboard in hundreds, find the total number of currency\n",
    "notes of each denomination the cashier will have to give to the withdrawer."
   ]
  },
  {
   "cell_type": "code",
   "execution_count": null,
   "id": "760c9712",
   "metadata": {},
   "outputs": [],
   "source": [
    "try:                                                             #Defining try block\n",
    "    withdrawl=eval(input(\"Enter the amount to be withdrawn in 100s: \"))  #Input of the withdrawn amount\n",
    "    tens=withdrawl//10                                           #Calcullating the ten denominations\n",
    "    fifties=withdrawl//50                                        #Calcullating the fifty denominations\n",
    "    hundreds=withdrawl//100                                      #Calcullating the hundred denominations\n",
    "    print(f\"Number of 10Rs denomination: {tens}\")                #Printing the number of 10 denominations\n",
    "    print(f\"Number of 50Rs denomination: {fifties}\")             #Printing the number of 50 denominations\n",
    "    print(f\"Number of 100Rs denomination: {hundreds}\")           #Printing the number of 100 denominations\n",
    "except Exception as e:                                           #Defining except block\n",
    "    print(e)                                                     #Printing system defined errror"
   ]
  }
 ],
 "metadata": {
  "kernelspec": {
   "display_name": "Python 3 (ipykernel)",
   "language": "python",
   "name": "python3"
  },
  "language_info": {
   "codemirror_mode": {
    "name": "ipython",
    "version": 3
   },
   "file_extension": ".py",
   "mimetype": "text/x-python",
   "name": "python",
   "nbconvert_exporter": "python",
   "pygments_lexer": "ipython3",
   "version": "3.11.4"
  }
 },
 "nbformat": 4,
 "nbformat_minor": 5
}
