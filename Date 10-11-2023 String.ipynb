{
 "cells": [
  {
   "cell_type": "code",
   "execution_count": null,
   "id": "ae62577a",
   "metadata": {},
   "outputs": [],
   "source": [
    "string1=\"Hello PYTHON\"\n",
    "for i in range(-len(string1),0):\n",
    "    print('The negative index of',string1[i],'is',i)"
   ]
  },
  {
   "cell_type": "code",
   "execution_count": null,
   "id": "3515e3ac",
   "metadata": {},
   "outputs": [],
   "source": [
    "'The positive index is 0 and the negative index is -6'"
   ]
  },
  {
   "cell_type": "code",
   "execution_count": 45,
   "id": "447e30f0",
   "metadata": {},
   "outputs": [
    {
     "name": "stdout",
     "output_type": "stream",
     "text": [
      "The positive index is -9 and the negative index is -15\n",
      "The positive index is -8 and the negative index is -14\n",
      "The positive index is -7 and the negative index is -13\n",
      "The positive index is -6 and the negative index is -12\n",
      "The positive index is -5 and the negative index is -11\n",
      "The positive index is -4 and the negative index is -10\n",
      "The positive index is -3 and the negative index is -9\n",
      "The positive index is -2 and the negative index is -8\n",
      "The positive index is -1 and the negative index is -7\n",
      "The positive index is 0 and the negative index is -6\n",
      "The positive index is 1 and the negative index is -5\n",
      "The positive index is 2 and the negative index is -4\n",
      "The positive index is 3 and the negative index is -3\n",
      "The positive index is 4 and the negative index is -2\n",
      "The positive index is 5 and the negative index is -1\n"
     ]
    }
   ],
   "source": [
    "string1=\"hai how are you\"\n",
    "for i in range(-len(string1),0):\n",
    "    print(f'The positive index is {i+6} and the negative index is {i}')"
   ]
  },
  {
   "cell_type": "markdown",
   "id": "34f3bf40",
   "metadata": {},
   "source": [
    "# Mutable and Immutable"
   ]
  },
  {
   "cell_type": "markdown",
   "id": "65604043",
   "metadata": {},
   "source": [
    "**Strings are immutable**"
   ]
  },
  {
   "cell_type": "code",
   "execution_count": 46,
   "id": "4e2da337",
   "metadata": {
    "scrolled": false
   },
   "outputs": [
    {
     "data": {
      "text/plain": [
       "'uoy era woh iah'"
      ]
     },
     "execution_count": 46,
     "metadata": {},
     "output_type": "execute_result"
    }
   ],
   "source": [
    "string1[::-1]"
   ]
  },
  {
   "cell_type": "code",
   "execution_count": 51,
   "id": "8954cb8e",
   "metadata": {},
   "outputs": [
    {
     "data": {
      "text/plain": [
       "'i'"
      ]
     },
     "execution_count": 51,
     "metadata": {},
     "output_type": "execute_result"
    }
   ],
   "source": [
    "string1[2:3:2]"
   ]
  },
  {
   "cell_type": "code",
   "execution_count": 54,
   "id": "42e71fd2",
   "metadata": {},
   "outputs": [
    {
     "data": {
      "text/plain": [
       "['__add__',\n",
       " '__class__',\n",
       " '__contains__',\n",
       " '__delattr__',\n",
       " '__dir__',\n",
       " '__doc__',\n",
       " '__eq__',\n",
       " '__format__',\n",
       " '__ge__',\n",
       " '__getattribute__',\n",
       " '__getitem__',\n",
       " '__getnewargs__',\n",
       " '__getstate__',\n",
       " '__gt__',\n",
       " '__hash__',\n",
       " '__init__',\n",
       " '__init_subclass__',\n",
       " '__iter__',\n",
       " '__le__',\n",
       " '__len__',\n",
       " '__lt__',\n",
       " '__mod__',\n",
       " '__mul__',\n",
       " '__ne__',\n",
       " '__new__',\n",
       " '__reduce__',\n",
       " '__reduce_ex__',\n",
       " '__repr__',\n",
       " '__rmod__',\n",
       " '__rmul__',\n",
       " '__setattr__',\n",
       " '__sizeof__',\n",
       " '__str__',\n",
       " '__subclasshook__',\n",
       " 'capitalize',\n",
       " 'casefold',\n",
       " 'center',\n",
       " 'count',\n",
       " 'encode',\n",
       " 'endswith',\n",
       " 'expandtabs',\n",
       " 'find',\n",
       " 'format',\n",
       " 'format_map',\n",
       " 'index',\n",
       " 'isalnum',\n",
       " 'isalpha',\n",
       " 'isascii',\n",
       " 'isdecimal',\n",
       " 'isdigit',\n",
       " 'isidentifier',\n",
       " 'islower',\n",
       " 'isnumeric',\n",
       " 'isprintable',\n",
       " 'isspace',\n",
       " 'istitle',\n",
       " 'isupper',\n",
       " 'join',\n",
       " 'ljust',\n",
       " 'lower',\n",
       " 'lstrip',\n",
       " 'maketrans',\n",
       " 'partition',\n",
       " 'removeprefix',\n",
       " 'removesuffix',\n",
       " 'replace',\n",
       " 'rfind',\n",
       " 'rindex',\n",
       " 'rjust',\n",
       " 'rpartition',\n",
       " 'rsplit',\n",
       " 'rstrip',\n",
       " 'split',\n",
       " 'splitlines',\n",
       " 'startswith',\n",
       " 'strip',\n",
       " 'swapcase',\n",
       " 'title',\n",
       " 'translate',\n",
       " 'upper',\n",
       " 'zfill']"
      ]
     },
     "execution_count": 54,
     "metadata": {},
     "output_type": "execute_result"
    }
   ],
   "source": [
    "dir('')"
   ]
  },
  {
   "cell_type": "markdown",
   "id": "1ff03610",
   "metadata": {},
   "source": [
    "$Capitalize$"
   ]
  },
  {
   "cell_type": "code",
   "execution_count": 69,
   "id": "2afa64c1",
   "metadata": {},
   "outputs": [
    {
     "name": "stdout",
     "output_type": "stream",
     "text": [
      "Welcome\n"
     ]
    }
   ],
   "source": [
    "string1='welcome'\n",
    "print(string1.capitalize())"
   ]
  },
  {
   "cell_type": "code",
   "execution_count": 73,
   "id": "7d7cd8f8",
   "metadata": {},
   "outputs": [
    {
     "ename": "SyntaxError",
     "evalue": "invalid syntax (2679800341.py, line 1)",
     "output_type": "error",
     "traceback": [
      "\u001b[1;36m  Cell \u001b[1;32mIn[73], line 1\u001b[1;36m\u001b[0m\n\u001b[1;33m    $ Lower $\u001b[0m\n\u001b[1;37m    ^\u001b[0m\n\u001b[1;31mSyntaxError\u001b[0m\u001b[1;31m:\u001b[0m invalid syntax\n"
     ]
    }
   ],
   "source": [
    "$Lower$"
   ]
  },
  {
   "cell_type": "code",
   "execution_count": 76,
   "id": "cbf0adcd",
   "metadata": {},
   "outputs": [
    {
     "name": "stdout",
     "output_type": "stream",
     "text": [
      "Welcome\n",
      "WELCOME\n",
      "welcome\n"
     ]
    }
   ],
   "source": [
    "string1=\"WeLCome\"\n",
    "print(string1.capitalize())\n",
    "print(string1.upper())\n",
    "print(string1.lower())"
   ]
  },
  {
   "cell_type": "code",
   "execution_count": 79,
   "id": "1b147336",
   "metadata": {},
   "outputs": [
    {
     "name": "stdout",
     "output_type": "stream",
     "text": [
      "Welcome\n"
     ]
    }
   ],
   "source": [
    "print(string1[0].upper()+string1[1:].lower())"
   ]
  },
  {
   "cell_type": "code",
   "execution_count": 82,
   "id": "74bda36b",
   "metadata": {},
   "outputs": [
    {
     "name": "stdout",
     "output_type": "stream",
     "text": [
      "weLcome\n"
     ]
    }
   ],
   "source": [
    "str1=string1[0:2].lower()\n",
    "str2=string1[3:].lower()\n",
    "print(str1+'L'+str2)"
   ]
  },
  {
   "cell_type": "code",
   "execution_count": null,
   "id": "42eba758",
   "metadata": {},
   "outputs": [],
   "source": []
  }
 ],
 "metadata": {
  "kernelspec": {
   "display_name": "Python 3 (ipykernel)",
   "language": "python",
   "name": "python3"
  },
  "language_info": {
   "codemirror_mode": {
    "name": "ipython",
    "version": 3
   },
   "file_extension": ".py",
   "mimetype": "text/x-python",
   "name": "python",
   "nbconvert_exporter": "python",
   "pygments_lexer": "ipython3",
   "version": "3.11.4"
  }
 },
 "nbformat": 4,
 "nbformat_minor": 5
}
